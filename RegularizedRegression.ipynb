{
 "cells": [
  {
   "cell_type": "code",
   "execution_count": 128,
   "metadata": {
    "collapsed": false
   },
   "outputs": [
    {
     "name": "stderr",
     "output_type": "stream",
     "text": [
      "INFO: Nothing to be done\n",
      "INFO: METADATA is out-of-date — you may not have the latest version of Convex\n",
      "INFO: Use `Pkg.update()` to get the latest versions of your packages\n",
      "INFO: Nothing to be done\n",
      "INFO: METADATA is out-of-date — you may not have the latest version of ECOS\n",
      "INFO: Use `Pkg.update()` to get the latest versions of your packages\n",
      "INFO: Updating METADATA...\n",
      "INFO: Updating cache of Plotly...\n",
      "INFO: Updating cache of ColorTypes...\n",
      "INFO: Updating cache of Lazy...\n",
      "INFO: Updating cache of Requires...\n",
      "INFO: Updating cache of Gadfly...\n",
      "INFO: Updating cache of Blink...\n",
      "INFO: Updating cache of FixedSizeArrays...\n",
      "INFO: Updating cache of StatsBase...\n",
      "INFO: Updating cache of DataFrames...\n",
      "INFO: Updating cache of Distributions...\n",
      "INFO: Updating cache of FixedPointNumbers...\n",
      "INFO: Updating cache of FileIO...\n",
      "INFO: Updating cache of Mux...\n",
      "INFO: Updating cache of JSON...\n",
      "INFO: Updating cache of Colors...\n",
      "INFO: Updating cache of HttpServer...\n",
      "INFO: Updating cache of Requests...\n",
      "INFO: Updating cache of DataFrames...\n",
      "INFO: Computing changes...\n",
      "INFO: Cloning cache of Juno from https://github.com/JunoLab/Juno.jl.git\n",
      "INFO: Cloning cache of Media from git://github.com/JunoLab/Media.jl.git\n",
      "INFO: Upgrading ColorTypes: v0.2.7 => v0.2.11\n",
      "INFO: Upgrading Colors: v0.6.8 => v0.6.9\n",
      "INFO: Upgrading DataFrames: v0.8.3 => v0.8.4\n",
      "INFO: Upgrading Distributions: v0.10.2 => v0.11.0\n",
      "INFO: Upgrading FileIO: v0.1.2 => v0.2.0\n",
      "INFO: Upgrading FixedPointNumbers: v0.1.8 => v0.2.1\n",
      "INFO: Upgrading FixedSizeArrays: v0.2.3 => v0.2.4\n",
      "INFO: Upgrading Gadfly: v0.4.4 => v0.5.1\n",
      "INFO: Upgrading HttpServer: v0.1.6 => v0.1.7\n",
      "INFO: Upgrading JSON: v0.7.0 => v0.8.0\n",
      "INFO: Installing Juno v0.2.3\n",
      "INFO: Upgrading Lazy: v0.11.2 => v0.11.4\n",
      "INFO: Installing Media v0.2.3\n",
      "INFO: Upgrading Mux: v0.2.1 => v0.2.2\n",
      "INFO: Upgrading PDMats: v0.4.2 => v0.5.0\n",
      "INFO: Upgrading Plotly: v0.1.0 => v0.1.1\n",
      "INFO: Upgrading Requests: v0.3.10 => v0.3.11\n",
      "INFO: Upgrading Requires: v0.2.2 => v0.2.3\n",
      "INFO: Upgrading StatsBase: v0.9.0 => v0.11.1\n",
      "INFO: Building Rmath\n",
      "INFO: Building HttpParser\n",
      "INFO: Building MbedTLS\n"
     ]
    }
   ],
   "source": [
    "Pkg.add(\"Convex\")\n",
    "Pkg.add(\"ECOS\")\n"
   ]
  },
  {
   "cell_type": "code",
   "execution_count": null,
   "metadata": {
    "collapsed": true
   },
   "outputs": [],
   "source": [
    "Pkg.update()"
   ]
  },
  {
   "cell_type": "code",
   "execution_count": 152,
   "metadata": {
    "collapsed": false
   },
   "outputs": [
    {
     "data": {
      "text/plain": [
       "ECOS.ECOSSolver(Any[(:verbose,0)])"
      ]
     },
     "execution_count": 152,
     "metadata": {},
     "output_type": "execute_result"
    }
   ],
   "source": [
    "using Convex\n",
    "using PyPlot\n",
    "using ECOS\n",
    "set_default_solver(ECOSSolver(verbose=0))"
   ]
  },
  {
   "cell_type": "code",
   "execution_count": 166,
   "metadata": {
    "collapsed": false
   },
   "outputs": [
    {
     "name": "stdout",
     "output_type": "stream",
     "text": [
      "randn(n) = [-0.2674418552816552,0.21976690948048452,-0.5707815122947908,-0.4053810850986928,1.1988459770823507,-1.796159086070077,-1.4150120662935863,1.2226405000984626,0.8000829187858357,1.1585529159206327,0.2039720312873244,0.467947940080279,-1.1100947130036858,-0.610353613916697,-0.8555477004945993,0.2867378854385509,1.0349781080481595,0.16752862478342054,-2.2576033509546147,-0.2683558771195283]\n",
      "n = 20\n",
      "size(X) = (20,10)\n",
      "size(y) = (20,)\n"
     ]
    },
    {
     "data": {
      "text/plain": [
       "(20,)"
      ]
     },
     "execution_count": 166,
     "metadata": {},
     "output_type": "execute_result"
    }
   ],
   "source": [
    "function generate_data(n, w)\n",
    "    X = randn(n,length(w))\n",
    "    y = X*w\n",
    "    return X, y\n",
    "end\n",
    "\n",
    "function generate_noisy_data(n, w)\n",
    "    X = randn(n,length(w))\n",
    "    y = X*w + .1*randn(n)\n",
    "    return X, y\n",
    "end\n",
    "@show randn(n)\n",
    "@show n\n",
    "@show size(X)\n",
    "@show size(y)\n"
   ]
  },
  {
   "cell_type": "markdown",
   "metadata": {},
   "source": [
    "# ols is invariant"
   ]
  },
  {
   "cell_type": "code",
   "execution_count": 165,
   "metadata": {
    "collapsed": false
   },
   "outputs": [],
   "source": [
    "d = 10\n",
    "n = 20\n",
    "w = randn(d)\n",
    "X, y = generate_data(n, w);"
   ]
  },
  {
   "cell_type": "code",
   "execution_count": 140,
   "metadata": {
    "collapsed": false
   },
   "outputs": [
    {
     "name": "stdout",
     "output_type": "stream",
     "text": [
      "X * w = [-4.920537852223303,-1.849787999634643,-4.687732903363984,-6.569887546643695,-6.330300662277171,-3.3981023328226843,-0.26055475747996804,2.0906668728746753,-2.8261876191097732,1.2419383047530081,-2.8723932662711738,-0.26119747599108845,0.5427120220310854,-2.9506341751814267,-4.46094653605687,-0.9585174375369989,-4.189446945334437,-8.063517623667853,-4.581823828852541,2.5037405990633417]\n",
      "w = [1.142319780618714,1.4355271972874566,-0.09245711786282043,-1.3911020273253032,-0.7124818938962878,0.6207237137798157,-0.243505269499873,1.070181050604552,1.8653323268127089,2.008151271248275]\n",
      "(Xscale * wscale) / 5 = [-4.920537852223302,-1.8497879996346414,-4.687732903363984,-6.5698875466436935,-6.330300662277169,-3.398102332822684,-0.2605547574799708,2.0906668728746745,-2.8261876191097732,1.2419383047530084,-2.8723932662711738,-0.2611974759910879,0.5427120220310847,-2.9506341751814285,-4.460946536056871,-0.9585174375369967,-4.189446945334436,-8.063517623667853,-4.581823828852543,2.5037405990633403]\n",
      "wscale * (3 / 5) = [1.142319780618713,1.4355271972874557,-0.09245711786281972,-1.3911020273253036,-0.7124818938962887,0.6207237137798162,-0.24350526949987295,1.0701810506045526,1.8653323268127098,2.008151271248273]\n"
     ]
    },
    {
     "data": {
      "text/plain": [
       "10-element Array{Float64,1}:\n",
       "  1.14232  \n",
       "  1.43553  \n",
       " -0.0924571\n",
       " -1.3911   \n",
       " -0.712482 \n",
       "  0.620724 \n",
       " -0.243505 \n",
       "  1.07018  \n",
       "  1.86533  \n",
       "  2.00815  "
      ]
     },
     "execution_count": 140,
     "metadata": {},
     "output_type": "execute_result"
    }
   ],
   "source": [
    "w = X\\y\n",
    "@show X*w\n",
    "@show w\n",
    "\n",
    "yscale = 5*y\n",
    "Xscale = 3*X\n",
    "wscale = Xscale\\yscale\n",
    "@show Xscale*wscale / 5;\n",
    "#@show wscale\n",
    "@show wscale*(3/5)"
   ]
  },
  {
   "cell_type": "markdown",
   "metadata": {},
   "source": [
    "# ridge regression is not scaling invariant"
   ]
  },
  {
   "cell_type": "code",
   "execution_count": 141,
   "metadata": {
    "collapsed": false
   },
   "outputs": [
    {
     "data": {
      "text/plain": [
       "(10,10)"
      ]
     },
     "execution_count": 141,
     "metadata": {},
     "output_type": "execute_result"
    }
   ],
   "source": [
    "size(X'*X + eye(d))"
   ]
  },
  {
   "cell_type": "code",
   "execution_count": 142,
   "metadata": {
    "collapsed": false
   },
   "outputs": [
    {
     "name": "stdout",
     "output_type": "stream",
     "text": [
      "X * w = [-4.640623384723433,-1.584552977817967,-4.5353221393124565,-6.211843485935039,-6.058474348211654,-3.246205656620166,-0.27071512780425144,1.999654047276711,-2.7527655849106516,1.2431766096113268,-2.8375153768643058,-0.1422469518295424,0.3536132718881647,-2.547669361431076,-4.224717679988144,-1.0234144398874074,-3.9987481820161657,-7.781959396970799,-4.433844044841539,2.394261661658856]\n",
      "(Xscale * wscale) / 5 = [-4.888155379406973,-1.8139801264254252,-4.6710527756312885,-6.526327998997486,-6.297865763064179,-3.3808681483252156,-0.2639904475704302,2.0804453207635962,-2.817851946558173,1.2434174269380815,-2.8699159877418112,-0.24448509085186565,0.517259791964044,-2.901776041103626,-4.433444999772762,-0.9671665159791493,-4.16472684955114,-8.031046700282625,-4.566808051890162,2.4912810854873166]\n"
     ]
    }
   ],
   "source": [
    "w = (X'*X + eye(d)) \\ (X'*y)\n",
    "@show X*w\n",
    "\n",
    "yscale = 5*y\n",
    "Xscale = 3*X\n",
    "wscale = (Xscale'*Xscale + eye(d)) \\ (Xscale'*yscale)\n",
    "@show Xscale * wscale / 5;"
   ]
  },
  {
   "cell_type": "code",
   "execution_count": 143,
   "metadata": {
    "collapsed": false
   },
   "outputs": [
    {
     "name": "stdout",
     "output_type": "stream",
     "text": [
      "Xs * w = [-0.6579158100181474,0.2121920963875472,-0.7159421936606525,-1.2634159632333561,-1.271481722761112,-0.24564101863586368,0.8536782602093157,1.5007739171389196,-0.09311388251985808,1.2274948298544395,-0.1291209636406833,0.8525707615965546,0.972568637418192,-0.011927070092437986,-0.5863229280888586,0.4521825338200773,-0.523920543847708,-1.6160178199087405,-0.5291469693021973,1.5725058492845694]\n",
      "(Xss * wscale) / 5 = [-0.13158316200363127,0.042438419277509645,-0.14318843873212994,-0.25268319264667355,-0.2542963445522248,-0.049128203727173914,0.17073565204186175,0.3001547834277819,-0.018622776503972815,0.24549896597088638,-0.025824192728136675,0.17051415231931036,0.19451372748363785,-0.002385414018487836,-0.11726458561777076,0.09043650676401328,-0.10478410876954439,-0.3232035639817483,-0.10582939386043869,0.3145011698569137]\n"
     ]
    }
   ],
   "source": [
    "# standardize\n",
    "function standardize(X,y)\n",
    "    X_standard = X .- mean(X,1) \n",
    "    # If dim = 1, then mean(A,1) returns a row vector containing the mean of the elements in each column.\n",
    "    # If dim = 2, then mean(A,2) returns a column vector containing the mean of the elements in each row.\n",
    "#Dimension dim indicates the dimension whose length reduces to 1. The size(M,dim) is 1, while the sizes of all other dimensions remain the same.\n",
    "\n",
    "    X_standard = X_standard * diagm(1./vec(std(X,1))) # diagm is to convert it into 10 columns\n",
    "   # @show size(std(X,1)) # 1 row by 10 cols\n",
    "   # @show diagm(1./vec(std(X,1)))\n",
    "    y_standard = y - mean(y)\n",
    "    y_standard = y_standard / std(y)\n",
    "    \n",
    "    return X_standard, y_standard\n",
    "end\n",
    "\n",
    "Xs, ys = standardize(X,y)\n",
    "w = (Xs'*Xs + eye(d)) \\ (Xs'*ys) # can't do Xs\\ys cuz this doesn't do regularisation\n",
    "\n",
    "@show Xs*w\n",
    "\n",
    "yscale = 5*y + 3000\n",
    "Xscale = 3*X + 200\n",
    "\n",
    "Xss, yss = standardize(Xscale,yscale)\n",
    "wscale = (Xss'*Xss + eye(d)) \\ (Xss'*yss)\n",
    "@show Xss*wscale/5;"
   ]
  },
  {
   "cell_type": "markdown",
   "metadata": {},
   "source": [
    "# let's compare different kinds of regularized regression"
   ]
  },
  {
   "cell_type": "code",
   "execution_count": 153,
   "metadata": {
    "collapsed": false
   },
   "outputs": [
    {
     "data": {
      "text/plain": [
       "ridge_regression (generic function with 1 method)"
      ]
     },
     "execution_count": 153,
     "metadata": {},
     "output_type": "execute_result"
    }
   ],
   "source": [
    "function ridge_regression(X,y; λ=1)\n",
    "    d = size(X,2)\n",
    "    w = Variable(d)\n",
    "    p = minimize(sumsquares(X*w - y) + λ*sumsquares(w))\n",
    "    solve!(p)\n",
    "    return w.value\n",
    "end"
   ]
  },
  {
   "cell_type": "code",
   "execution_count": 154,
   "metadata": {
    "collapsed": false
   },
   "outputs": [
    {
     "data": {
      "text/plain": [
       "lasso (generic function with 1 method)"
      ]
     },
     "execution_count": 154,
     "metadata": {},
     "output_type": "execute_result"
    }
   ],
   "source": [
    "function lasso(X,y; λ=1)\n",
    "    d = size(X,2)\n",
    "    w = Variable(d)\n",
    "    p = minimize(sumsquares(X*w - y) + λ*norm(w,1))\n",
    "    solve!(p)\n",
    "    return w.value\n",
    "end"
   ]
  },
  {
   "cell_type": "code",
   "execution_count": 155,
   "metadata": {
    "collapsed": false
   },
   "outputs": [
    {
     "data": {
      "text/plain": [
       "nnls (generic function with 1 method)"
      ]
     },
     "execution_count": 155,
     "metadata": {},
     "output_type": "execute_result"
    }
   ],
   "source": [
    "function nnls(X,y)\n",
    "    d = size(X,2)\n",
    "    w = Variable(d)\n",
    "    p = minimize(sumsquares(X*w - y), w>=0) # add constraint\n",
    "    solve!(p)\n",
    "    return w.value\n",
    "end"
   ]
  },
  {
   "cell_type": "code",
   "execution_count": 147,
   "metadata": {
    "collapsed": false
   },
   "outputs": [
    {
     "name": "stderr",
     "output_type": "stream",
     "text": [
      "INFO: Nothing to be done\n",
      "WARNING: replacing module SparseVectors\n",
      "WARNING: Union(args...) is deprecated, use Union{args...} instead.\n",
      " in depwarn at deprecated.jl:73\n",
      " in call at deprecated.jl:50\n",
      " in include at boot.jl:261\n",
      " in include_from_node1 at loading.jl:320\n",
      " in include at boot.jl:261\n",
      " in include_from_node1 at loading.jl:320\n",
      " in require at loading.jl:259\n",
      " in include_string at loading.jl:282\n",
      " in execute_request at C:\\Users\\User\\.julia\\v0.4\\IJulia\\src\\execute_request.jl:169\n",
      " in eventloop at C:\\Users\\User\\.julia\\v0.4\\IJulia\\src\\eventloop.jl:8\n",
      " in anonymous at task.jl:447\n",
      "while loading C:\\Users\\User\\.julia\\v0.4\\sparsevectors\\src\\common.jl, in expression starting on line 38\n",
      "WARNING: Union(args...) is deprecated, use Union{args...} instead.\n",
      " in depwarn at deprecated.jl:73\n",
      " in call at deprecated.jl:50\n",
      " in include at boot.jl:261\n",
      " in include_from_node1 at loading.jl:320\n",
      " in include at boot.jl:261\n",
      " in include_from_node1 at loading.jl:320\n",
      " in require at loading.jl:259\n",
      " in include_string at loading.jl:282\n",
      " in execute_request at C:\\Users\\User\\.julia\\v0.4\\IJulia\\src\\execute_request.jl:169\n",
      " in eventloop at C:\\Users\\User\\.julia\\v0.4\\IJulia\\src\\eventloop.jl:8\n",
      " in anonymous at task.jl:447\n",
      "while loading C:\\Users\\User\\.julia\\v0.4\\sparsevectors\\src\\common.jl, in expression starting on line 39\n",
      "WARNING: Base.FloatingPoint is deprecated, use AbstractFloat instead.\n",
      "  likely near C:\\Users\\User\\.julia\\v0.4\\sparsevectors\\src\\sparsevec.jl:277\n",
      "WARNING: Method definition sprand(Integer, AbstractFloat, Function, Type{#T<:Any}) in module SparseVectors at C:\\Users\\User\\.julia\\v0.4\\sparsevectors\\src\\sparsevec.jl:278 overwritten in module SparseVectors at C:\\Users\\User\\.julia\\v0.4\\sparsevectors\\src\\sparsevec.jl:278.\n",
      "WARNING: Base.FloatingPoint is deprecated, use AbstractFloat instead.\n",
      "  likely near C:\\Users\\User\\.julia\\v0.4\\sparsevectors\\src\\sparsevec.jl:283\n",
      "WARNING: Method definition sprand(Integer, AbstractFloat, Function) in module SparseVectors at C:\\Users\\User\\.julia\\v0.4\\sparsevectors\\src\\sparsevec.jl:284 overwritten in module SparseVectors at C:\\Users\\User\\.julia\\v0.4\\sparsevectors\\src\\sparsevec.jl:284.\n",
      "WARNING: Base.FloatingPoint is deprecated, use AbstractFloat instead.\n",
      "  likely near C:\\Users\\User\\.julia\\v0.4\\sparsevectors\\src\\sparsevec.jl:289\n",
      "WARNING: Method definition sprand(Integer, AbstractFloat, Type{#T<:Any}) in module SparseVectors at C:\\Users\\User\\.julia\\v0.4\\sparsevectors\\src\\sparsevec.jl:289 overwritten in module SparseVectors at C:\\Users\\User\\.julia\\v0.4\\sparsevectors\\src\\sparsevec.jl:289.\n",
      "WARNING: Base.FloatingPoint is deprecated, use AbstractFloat instead.\n",
      "  likely near C:\\Users\\User\\.julia\\v0.4\\sparsevectors\\src\\sparsevec.jl:290\n",
      "WARNING: Method definition sprand(Integer, AbstractFloat) in module SparseVectors at C:\\Users\\User\\.julia\\v0.4\\sparsevectors\\src\\sparsevec.jl:290 overwritten in module SparseVectors at C:\\Users\\User\\.julia\\v0.4\\sparsevectors\\src\\sparsevec.jl:290.\n",
      "WARNING: Base.FloatingPoint is deprecated, use AbstractFloat instead.\n",
      "  likely near C:\\Users\\User\\.julia\\v0.4\\sparsevectors\\src\\sparsevec.jl:291\n",
      "WARNING: Method definition sprandn(Integer, AbstractFloat) in module SparseVectors at C:\\Users\\User\\.julia\\v0.4\\sparsevectors\\src\\sparsevec.jl:291 overwritten in module SparseVectors at C:\\Users\\User\\.julia\\v0.4\\sparsevectors\\src\\sparsevec.jl:291.\n",
      "WARNING: Method definition view(Base.SparseMatrix.AbstractSparseArray{Tv<:Any, Ti<:Any, 1}) in module SparseVectors at C:\\Users\\User\\.julia\\v0.4\\sparsevectors\\src\\sparsevecview.jl:24 overwritten in module SparseVectors at C:\\Users\\User\\.julia\\v0.4\\sparsevectors\\src\\sparsevecview.jl:24.\n",
      "WARNING: Method definition view(Base.SparseMatrix.SparseMatrixCSC, Base.Colon, Integer) in module SparseVectors at C:\\Users\\User\\.julia\\v0.4\\sparsevectors\\src\\sparsematview.jl:9 overwritten in module SparseVectors at C:\\Users\\User\\.julia\\v0.4\\sparsevectors\\src\\sparsematview.jl:9.\n",
      "WARNING: Method definition getindex(Base.SparseMatrix.AbstractSparseArray{#Tv<:Any, Ti<:Any, 1}, Integer) in module SparseVectors at C:\\Users\\User\\.julia\\v0.4\\sparsevectors\\src\\generics.jl:10 overwritten in module SparseVectors at C:\\Users\\User\\.julia\\v0.4\\sparsevectors\\src\\generics.jl:10.\n",
      "WARNING: Method definition getindex(Base.SparseMatrix.AbstractSparseArray{#Tv<:Any, #Ti<:Any, 1}, Base.UnitRange) in module SparseVectors at C:\\Users\\User\\.julia\\v0.4\\sparsevectors\\src\\generics.jl:14 overwritten in module SparseVectors at C:\\Users\\User\\.julia\\v0.4\\sparsevectors\\src\\generics.jl:14.\n",
      "WARNING: Method definition getindex(Base.SparseMatrix.AbstractSparseArray{#Tv<:Any, #Ti<:Any, 1}, AbstractArray) in module SparseVectors at C:\\Users\\User\\.julia\\v0.4\\sparsevectors\\src\\generics.jl:51 overwritten in module SparseVectors at C:\\Users\\User\\.julia\\v0.4\\sparsevectors\\src\\generics.jl:51.\n",
      "WARNING: Method definition showarray(Base.IO, Base.SparseMatrix.AbstractSparseArray{Tv<:Any, Ti<:Any, 1}) in module SparseVectors at C:\\Users\\User\\.julia\\v0.4\\sparsevectors\\src\\generics.jl:79 overwritten in module SparseVectors at C:\\Users\\User\\.julia\\v0.4\\sparsevectors\\src\\generics.jl:79.\n",
      "WARNING: Method definition showarray(Array, Base.IO, Base.SparseMatrix.AbstractSparseArray{Tv<:Any, Ti<:Any, 1}) in module SparseVectors overwritten in module SparseVectors.\n",
      "WARNING: Method definition show(Base.IO, Base.SparseMatrix.AbstractSparseArray{Tv<:Any, Ti<:Any, 1}) in module SparseVectors at C:\\Users\\User\\.julia\\v0.4\\sparsevectors\\src\\generics.jl:104 overwritten in module SparseVectors at C:\\Users\\User\\.julia\\v0.4\\sparsevectors\\src\\generics.jl:104.\n",
      "WARNING: Method definition writemime(Base.IO, Base.Multimedia.MIME{:text/plain}, Base.SparseMatrix.AbstractSparseArray{Tv<:Any, Ti<:Any, 1}) in module SparseVectors at C:\\Users\\User\\.julia\\v0.4\\sparsevectors\\src\\generics.jl:105 overwritten in module SparseVectors at C:\\Users\\User\\.julia\\v0.4\\sparsevectors\\src\\generics.jl:105.\n",
      "WARNING: Method definition convert(Type{Base.SparseMatrix.SparseMatrixCSC{#TvD<:Any, #TiD<:Any}}, Base.SparseMatrix.AbstractSparseArray{#Tv<:Any, #Ti<:Any, 1}) in module SparseVectors at C:\\Users\\User\\.julia\\v0.4\\sparsevectors\\src\\generics.jl:121 overwritten in module SparseVectors at C:\\Users\\User\\.julia\\v0.4\\sparsevectors\\src\\generics.jl:121.\n",
      "WARNING: Method definition convert(Type{Base.SparseMatrix.SparseMatrixCSC{#TvD<:Any, Ti<:Integer}}, Base.SparseMatrix.AbstractSparseArray{#Tv<:Any, #Ti<:Any, 1}) in module SparseVectors at C:\\Users\\User\\.julia\\v0.4\\sparsevectors\\src\\generics.jl:131 overwritten in module SparseVectors at C:\\Users\\User\\.julia\\v0.4\\sparsevectors\\src\\generics.jl:131.\n",
      "WARNING: Method definition convert(Type{Base.SparseMatrix.SparseMatrixCSC}, Base.SparseMatrix.AbstractSparseArray{#Tv<:Any, #Ti<:Any, 1}) in module SparseVectors at C:\\Users\\User\\.julia\\v0.4\\sparsevectors\\src\\generics.jl:134 overwritten in module SparseVectors at C:\\Users\\User\\.julia\\v0.4\\sparsevectors\\src\\generics.jl:134.\n",
      "WARNING: Method definition full(Base.SparseMatrix.AbstractSparseArray{#Tv<:Any, Ti<:Any, 1}) in module SparseVectors at C:\\Users\\User\\.julia\\v0.4\\sparsevectors\\src\\generics.jl:141 overwritten in module SparseVectors at C:\\Users\\User\\.julia\\v0.4\\sparsevectors\\src\\generics.jl:141.\n",
      "WARNING: Method definition vec(Base.SparseMatrix.AbstractSparseArray{Tv<:Any, Ti<:Any, 1}) in module SparseVectors at C:\\Users\\User\\.julia\\v0.4\\sparsevectors\\src\\generics.jl:151 overwritten in module SparseVectors at C:\\Users\\User\\.julia\\v0.4\\sparsevectors\\src\\generics.jl:151.\n",
      "WARNING: Method definition copy(Base.SparseMatrix.AbstractSparseArray{Tv<:Any, Ti<:Any, 1}) in module SparseVectors at C:\\Users\\User\\.julia\\v0.4\\sparsevectors\\src\\generics.jl:152 overwritten in module SparseVectors at C:\\Users\\User\\.julia\\v0.4\\sparsevectors\\src\\generics.jl:152.\n",
      "WARNING: Method definition reinterpret(Type{#T<:Any}, Base.SparseMatrix.AbstractSparseArray{#Tv<:Any, Ti<:Any, 1}) in module SparseVectors at C:\\Users\\User\\.julia\\v0.4\\sparsevectors\\src\\generics.jl:156 overwritten in module SparseVectors at C:\\Users\\User\\.julia\\v0.4\\sparsevectors\\src\\generics.jl:156.\n",
      "WARNING: Base.FloatingPoint is deprecated, use AbstractFloat instead.\n",
      "  likely near C:\\Users\\User\\.julia\\v0.4\\sparsevectors\\src\\generics.jl:161\n",
      "WARNING: Method definition float(Base.SparseMatrix.AbstractSparseArray{#Tv<:AbstractFloat, Ti<:Any, 1}) in module SparseVectors at C:\\Users\\User\\.julia\\v0.4\\sparsevectors\\src\\generics.jl:161 overwritten in module SparseVectors at C:\\Users\\User\\.julia\\v0.4\\sparsevectors\\src\\generics.jl:161.\n",
      "WARNING: Method definition float(Base.SparseMatrix.AbstractSparseArray{Tv<:Any, Ti<:Any, 1}) in module SparseVectors at C:\\Users\\User\\.julia\\v0.4\\sparsevectors\\src\\generics.jl:162 overwritten in module SparseVectors at C:\\Users\\User\\.julia\\v0.4\\sparsevectors\\src\\generics.jl:162.\n",
      "WARNING: Method definition complex(Base.SparseMatrix.AbstractSparseArray{#Tv<:Base.Complex, Ti<:Any, 1}) in module SparseVectors at C:\\Users\\User\\.julia\\v0.4\\sparsevectors\\src\\generics.jl:165 overwritten in module SparseVectors at C:\\Users\\User\\.julia\\v0.4\\sparsevectors\\src\\generics.jl:165.\n",
      "WARNING: Method definition complex(Base.SparseMatrix.AbstractSparseArray{Tv<:Any, Ti<:Any, 1}) in module SparseVectors at C:\\Users\\User\\.julia\\v0.4\\sparsevectors\\src\\generics.jl:166 overwritten in module SparseVectors at C:\\Users\\User\\.julia\\v0.4\\sparsevectors\\src\\generics.jl:166.\n",
      "WARNING: Method definition hcat(Base.SparseMatrix.AbstractSparseArray{#Tv<:Any, #Ti<:Any, 1}...) in module SparseVectors at C:\\Users\\User\\.julia\\v0.4\\sparsevectors\\src\\generics.jl:174 overwritten in module SparseVectors at C:\\Users\\User\\.julia\\v0.4\\sparsevectors\\src\\generics.jl:174.\n",
      "WARNING: Method definition vcat(Base.SparseMatrix.AbstractSparseArray{#Tv<:Any, #Ti<:Any, 1}...) in module SparseVectors at C:\\Users\\User\\.julia\\v0.4\\sparsevectors\\src\\generics.jl:203 overwritten in module SparseVectors at C:\\Users\\User\\.julia\\v0.4\\sparsevectors\\src\\generics.jl:203.\n",
      "WARNING: Method definition -(Base.SparseMatrix.AbstractSparseArray{Tv<:Any, Ti<:Any, 1}) in module SparseVectors at C:\\Users\\User\\.julia\\v0.4\\sparsevectors\\src\\math.jl:7 overwritten in module SparseVectors at C:\\Users\\User\\.julia\\v0.4\\sparsevectors\\src\\math.jl:7.\n",
      "WARNING: Method definition abs(Base.SparseMatrix.AbstractSparseArray{Tv<:Any, Ti<:Any, 1}) in module SparseVectors at C:\\Users\\User\\.julia\\v0.4\\sparsevectors\\src\\math.jl:7 overwritten in module SparseVectors at C:\\Users\\User\\.julia\\v0.4\\sparsevectors\\src\\math.jl:7.\n",
      "WARNING: Method definition abs2(Base.SparseMatrix.AbstractSparseArray{Tv<:Any, Ti<:Any, 1}) in module SparseVectors at C:\\Users\\User\\.julia\\v0.4\\sparsevectors\\src\\math.jl:7 overwritten in module SparseVectors at C:\\Users\\User\\.julia\\v0.4\\sparsevectors\\src\\math.jl:7.\n",
      "WARNING: Method definition conj(Base.SparseMatrix.AbstractSparseArray{Tv<:Any, Ti<:Any, 1}) in module SparseVectors at C:\\Users\\User\\.julia\\v0.4\\sparsevectors\\src\\math.jl:7 overwritten in module SparseVectors at C:\\Users\\User\\.julia\\v0.4\\sparsevectors\\src\\math.jl:7.\n",
      "WARNING: Method definition real(Base.SparseMatrix.AbstractSparseArray{#T<:Real, Ti<:Any, 1}) in module SparseVectors at C:\\Users\\User\\.julia\\v0.4\\sparsevectors\\src\\math.jl:43 overwritten in module SparseVectors at C:\\Users\\User\\.julia\\v0.4\\sparsevectors\\src\\math.jl:43.\n",
      "WARNING: Method definition real(Base.SparseMatrix.AbstractSparseArray{#Tv<:Base.Complex, #Ti<:Integer, 1}) in module SparseVectors at C:\\Users\\User\\.julia\\v0.4\\sparsevectors\\src\\math.jl:19 overwritten in module SparseVectors at C:\\Users\\User\\.julia\\v0.4\\sparsevectors\\src\\math.jl:19.\n",
      "WARNING: Method definition imag(Base.SparseMatrix.AbstractSparseArray{#Tv<:Real, #Ti<:Integer, 1}) in module SparseVectors at C:\\Users\\User\\.julia\\v0.4\\sparsevectors\\src\\math.jl:46 overwritten in module SparseVectors at C:\\Users\\User\\.julia\\v0.4\\sparsevectors\\src\\math.jl:46.\n",
      "WARNING: Method definition imag(Base.SparseMatrix.AbstractSparseArray{#Tv<:Base.Complex, #Ti<:Integer, 1}) in module SparseVectors at C:\\Users\\User\\.julia\\v0.4\\sparsevectors\\src\\math.jl:19 overwritten in module SparseVectors at C:\\Users\\User\\.julia\\v0.4\\sparsevectors\\src\\math.jl:19.\n",
      "WARNING: Method definition floor(Base.SparseMatrix.AbstractSparseArray{#Tv<:Real, #Ti<:Integer, 1}) in module SparseVectors at C:\\Users\\User\\.julia\\v0.4\\sparsevectors\\src\\math.jl:19 overwritten in module SparseVectors at C:\\Users\\User\\.julia\\v0.4\\sparsevectors\\src\\math.jl:19.\n",
      "WARNING: Method definition ceil(Base.SparseMatrix.AbstractSparseArray{#Tv<:Real, #Ti<:Integer, 1}) in module SparseVectors at C:\\Users\\User\\.julia\\v0.4\\sparsevectors\\src\\math.jl:19 overwritten in module SparseVectors at C:\\Users\\User\\.julia\\v0.4\\sparsevectors\\src\\math.jl:19.\n",
      "WARNING: Method definition trunc(Base.SparseMatrix.AbstractSparseArray{#Tv<:Real, #Ti<:Integer, 1}) in module SparseVectors at C:\\Users\\User\\.julia\\v0.4\\sparsevectors\\src\\math.jl:19 overwritten in module SparseVectors at C:\\Users\\User\\.julia\\v0.4\\sparsevectors\\src\\math.jl:19.\n",
      "WARNING: Method definition round(Base.SparseMatrix.AbstractSparseArray{#Tv<:Real, #Ti<:Integer, 1}) in module SparseVectors at C:\\Users\\User\\.julia\\v0.4\\sparsevectors\\src\\math.jl:19 overwritten in module SparseVectors at C:\\Users\\User\\.julia\\v0.4\\sparsevectors\\src\\math.jl:19.\n",
      "WARNING: Method definition log1p(Base.SparseMatrix.AbstractSparseArray{#Tv<:Number, #Ti<:Integer, 1}) in module SparseVectors at C:\\Users\\User\\.julia\\v0.4\\sparsevectors\\src\\math.jl:19 overwritten in module SparseVectors at C:\\Users\\User\\.julia\\v0.4\\sparsevectors\\src\\math.jl:19.\n",
      "WARNING: Method definition expm1(Base.SparseMatrix.AbstractSparseArray{#Tv<:Number, #Ti<:Integer, 1}) in module SparseVectors at C:\\Users\\User\\.julia\\v0.4\\sparsevectors\\src\\math.jl:19 overwritten in module SparseVectors at C:\\Users\\User\\.julia\\v0.4\\sparsevectors\\src\\math.jl:19.\n",
      "WARNING: Method definition sin(Base.SparseMatrix.AbstractSparseArray{#Tv<:Number, #Ti<:Integer, 1}) in module SparseVectors at C:\\Users\\User\\.julia\\v0.4\\sparsevectors\\src\\math.jl:19 overwritten in module SparseVectors at C:\\Users\\User\\.julia\\v0.4\\sparsevectors\\src\\math.jl:19.\n",
      "WARNING: Method definition tan(Base.SparseMatrix.AbstractSparseArray{#Tv<:Number, #Ti<:Integer, 1}) in module SparseVectors at C:\\Users\\User\\.julia\\v0.4\\sparsevectors\\src\\math.jl:19 overwritten in module SparseVectors at C:\\Users\\User\\.julia\\v0.4\\sparsevectors\\src\\math.jl:19.\n",
      "WARNING: Method definition sinpi(Base.SparseMatrix.AbstractSparseArray{#Tv<:Number, #Ti<:Integer, 1}) in module SparseVectors at C:\\Users\\User\\.julia\\v0.4\\sparsevectors\\src\\math.jl:19 overwritten in module SparseVectors at C:\\Users\\User\\.julia\\v0.4\\sparsevectors\\src\\math.jl:19.\n",
      "WARNING: Method definition sind(Base.SparseMatrix.AbstractSparseArray{#Tv<:Number, #Ti<:Integer, 1}) in module SparseVectors at C:\\Users\\User\\.julia\\v0.4\\sparsevectors\\src\\math.jl:19 overwritten in module SparseVectors at C:\\Users\\User\\.julia\\v0.4\\sparsevectors\\src\\math.jl:19.\n",
      "WARNING: Method definition tand(Base.SparseMatrix.AbstractSparseArray{#Tv<:Number, #Ti<:Integer, 1}) in module SparseVectors at C:\\Users\\User\\.julia\\v0.4\\sparsevectors\\src\\math.jl:19 overwritten in module SparseVectors at C:\\Users\\User\\.julia\\v0.4\\sparsevectors\\src\\math.jl:19.\n",
      "WARNING: Method definition asin(Base.SparseMatrix.AbstractSparseArray{#Tv<:Number, #Ti<:Integer, 1}) in module SparseVectors at C:\\Users\\User\\.julia\\v0.4\\sparsevectors\\src\\math.jl:19 overwritten in module SparseVectors at C:\\Users\\User\\.julia\\v0.4\\sparsevectors\\src\\math.jl:19.\n",
      "WARNING: Method definition atan(Base.SparseMatrix.AbstractSparseArray{#Tv<:Number, #Ti<:Integer, 1}) in module SparseVectors at C:\\Users\\User\\.julia\\v0.4\\sparsevectors\\src\\math.jl:19 overwritten in module SparseVectors at C:\\Users\\User\\.julia\\v0.4\\sparsevectors\\src\\math.jl:19.\n",
      "WARNING: Method definition asind(Base.SparseMatrix.AbstractSparseArray{#Tv<:Number, #Ti<:Integer, 1}) in module SparseVectors at C:\\Users\\User\\.julia\\v0.4\\sparsevectors\\src\\math.jl:19 overwritten in module SparseVectors at C:\\Users\\User\\.julia\\v0.4\\sparsevectors\\src\\math.jl:19.\n",
      "WARNING: Method definition atand(Base.SparseMatrix.AbstractSparseArray{#Tv<:Number, #Ti<:Integer, 1}) in module SparseVectors at C:\\Users\\User\\.julia\\v0.4\\sparsevectors\\src\\math.jl:19 overwritten in module SparseVectors at C:\\Users\\User\\.julia\\v0.4\\sparsevectors\\src\\math.jl:19.\n",
      "WARNING: Method definition sinh(Base.SparseMatrix.AbstractSparseArray{#Tv<:Number, #Ti<:Integer, 1}) in module SparseVectors at C:\\Users\\User\\.julia\\v0.4\\sparsevectors\\src\\math.jl:19 overwritten in module SparseVectors at C:\\Users\\User\\.julia\\v0.4\\sparsevectors\\src\\math.jl:19.\n",
      "WARNING: Method definition tanh(Base.SparseMatrix.AbstractSparseArray{#Tv<:Number, #Ti<:Integer, 1}) in module SparseVectors at C:\\Users\\User\\.julia\\v0.4\\sparsevectors\\src\\math.jl:19 overwritten in module SparseVectors at C:\\Users\\User\\.julia\\v0.4\\sparsevectors\\src\\math.jl:19.\n",
      "WARNING: Method definition asinh(Base.SparseMatrix.AbstractSparseArray{#Tv<:Number, #Ti<:Integer, 1}) in module SparseVectors at C:\\Users\\User\\.julia\\v0.4\\sparsevectors\\src\\math.jl:19 overwritten in module SparseVectors at C:\\Users\\User\\.julia\\v0.4\\sparsevectors\\src\\math.jl:19.\n",
      "WARNING: Method definition atanh(Base.SparseMatrix.AbstractSparseArray{#Tv<:Number, #Ti<:Integer, 1}) in module SparseVectors at C:\\Users\\User\\.julia\\v0.4\\sparsevectors\\src\\math.jl:19 overwritten in module SparseVectors at C:\\Users\\User\\.julia\\v0.4\\sparsevectors\\src\\math.jl:19.\n",
      "WARNING: Method definition exp(Base.SparseMatrix.AbstractSparseArray{#Tv<:Number, #Ti<:Integer, 1}) in module SparseVectors at C:\\Users\\User\\.julia\\v0.4\\sparsevectors\\src\\math.jl:65 overwritten in module SparseVectors at C:\\Users\\User\\.julia\\v0.4\\sparsevectors\\src\\math.jl:65.\n",
      "WARNING: Method definition exp2(Base.SparseMatrix.AbstractSparseArray{#Tv<:Number, #Ti<:Integer, 1}) in module SparseVectors at C:\\Users\\User\\.julia\\v0.4\\sparsevectors\\src\\math.jl:65 overwritten in module SparseVectors at C:\\Users\\User\\.julia\\v0.4\\sparsevectors\\src\\math.jl:65.\n",
      "WARNING: Method definition exp10(Base.SparseMatrix.AbstractSparseArray{#Tv<:Number, #Ti<:Integer, 1}) in module SparseVectors at C:\\Users\\User\\.julia\\v0.4\\sparsevectors\\src\\math.jl:65 overwritten in module SparseVectors at C:\\Users\\User\\.julia\\v0.4\\sparsevectors\\src\\math.jl:65.\n",
      "WARNING: Method definition log(Base.SparseMatrix.AbstractSparseArray{#Tv<:Number, #Ti<:Integer, 1}) in module SparseVectors at C:\\Users\\User\\.julia\\v0.4\\sparsevectors\\src\\math.jl:65 overwritten in module SparseVectors at C:\\Users\\User\\.julia\\v0.4\\sparsevectors\\src\\math.jl:65.\n",
      "WARNING: Method definition log2(Base.SparseMatrix.AbstractSparseArray{#Tv<:Number, #Ti<:Integer, 1}) in module SparseVectors at C:\\Users\\User\\.julia\\v0.4\\sparsevectors\\src\\math.jl:65 overwritten in module SparseVectors at C:\\Users\\User\\.julia\\v0.4\\sparsevectors\\src\\math.jl:65.\n",
      "WARNING: Method definition log10(Base.SparseMatrix.AbstractSparseArray{#Tv<:Number, #Ti<:Integer, 1}) in module SparseVectors at C:\\Users\\User\\.julia\\v0.4\\sparsevectors\\src\\math.jl:65 overwritten in module SparseVectors at C:\\Users\\User\\.julia\\v0.4\\sparsevectors\\src\\math.jl:65.\n",
      "WARNING: Method definition cos(Base.SparseMatrix.AbstractSparseArray{#Tv<:Number, #Ti<:Integer, 1}) in module SparseVectors at C:\\Users\\User\\.julia\\v0.4\\sparsevectors\\src\\math.jl:65 overwritten in module SparseVectors at C:\\Users\\User\\.julia\\v0.4\\sparsevectors\\src\\math.jl:65.\n",
      "WARNING: Method definition csc(Base.SparseMatrix.AbstractSparseArray{#Tv<:Number, #Ti<:Integer, 1}) in module SparseVectors at C:\\Users\\User\\.julia\\v0.4\\sparsevectors\\src\\math.jl:65 overwritten in module SparseVectors at C:\\Users\\User\\.julia\\v0.4\\sparsevectors\\src\\math.jl:65.\n",
      "WARNING: Method definition cot(Base.SparseMatrix.AbstractSparseArray{#Tv<:Number, #Ti<:Integer, 1}) in module SparseVectors at C:\\Users\\User\\.julia\\v0.4\\sparsevectors\\src\\math.jl:65 overwritten in module SparseVectors at C:\\Users\\User\\.julia\\v0.4\\sparsevectors\\src\\math.jl:65.\n",
      "WARNING: Method definition sec(Base.SparseMatrix.AbstractSparseArray{#Tv<:Number, #Ti<:Integer, 1}) in module SparseVectors at C:\\Users\\User\\.julia\\v0.4\\sparsevectors\\src\\math.jl:65 overwritten in module SparseVectors at C:\\Users\\User\\.julia\\v0.4\\sparsevectors\\src\\math.jl:65.\n",
      "WARNING: Method definition cospi(Base.SparseMatrix.AbstractSparseArray{#Tv<:Number, #Ti<:Integer, 1}) in module SparseVectors at C:\\Users\\User\\.julia\\v0.4\\sparsevectors\\src\\math.jl:65 overwritten in module SparseVectors at C:\\Users\\User\\.julia\\v0.4\\sparsevectors\\src\\math.jl:65.\n",
      "WARNING: Method definition cosd(Base.SparseMatrix.AbstractSparseArray{#Tv<:Number, #Ti<:Integer, 1}) in module SparseVectors at C:\\Users\\User\\.julia\\v0.4\\sparsevectors\\src\\math.jl:65 overwritten in module SparseVectors at C:\\Users\\User\\.julia\\v0.4\\sparsevectors\\src\\math.jl:65.\n",
      "WARNING: Method definition cscd(Base.SparseMatrix.AbstractSparseArray{#Tv<:Number, #Ti<:Integer, 1}) in module SparseVectors at C:\\Users\\User\\.julia\\v0.4\\sparsevectors\\src\\math.jl:65 overwritten in module SparseVectors at C:\\Users\\User\\.julia\\v0.4\\sparsevectors\\src\\math.jl:65.\n",
      "WARNING: Method definition cotd(Base.SparseMatrix.AbstractSparseArray{#Tv<:Number, #Ti<:Integer, 1}) in module SparseVectors at C:\\Users\\User\\.julia\\v0.4\\sparsevectors\\src\\math.jl:65 overwritten in module SparseVectors at C:\\Users\\User\\.julia\\v0.4\\sparsevectors\\src\\math.jl:65.\n",
      "WARNING: Method definition secd(Base.SparseMatrix.AbstractSparseArray{#Tv<:Number, #Ti<:Integer, 1}) in module SparseVectors at C:\\Users\\User\\.julia\\v0.4\\sparsevectors\\src\\math.jl:65 overwritten in module SparseVectors at C:\\Users\\User\\.julia\\v0.4\\sparsevectors\\src\\math.jl:65.\n",
      "WARNING: Method definition acos(Base.SparseMatrix.AbstractSparseArray{#Tv<:Number, #Ti<:Integer, 1}) in module SparseVectors at C:\\Users\\User\\.julia\\v0.4\\sparsevectors\\src\\math.jl:65 overwritten in module SparseVectors at C:\\Users\\User\\.julia\\v0.4\\sparsevectors\\src\\math.jl:65.\n",
      "WARNING: Method definition acot(Base.SparseMatrix.AbstractSparseArray{#Tv<:Number, #Ti<:Integer, 1}) in module SparseVectors at C:\\Users\\User\\.julia\\v0.4\\sparsevectors\\src\\math.jl:65 overwritten in module SparseVectors at C:\\Users\\User\\.julia\\v0.4\\sparsevectors\\src\\math.jl:65.\n",
      "WARNING: Method definition acosd(Base.SparseMatrix.AbstractSparseArray{#Tv<:Number, #Ti<:Integer, 1}) in module SparseVectors at C:\\Users\\User\\.julia\\v0.4\\sparsevectors\\src\\math.jl:65 overwritten in module SparseVectors at C:\\Users\\User\\.julia\\v0.4\\sparsevectors\\src\\math.jl:65.\n",
      "WARNING: Method definition acotd(Base.SparseMatrix.AbstractSparseArray{#Tv<:Number, #Ti<:Integer, 1}) in module SparseVectors at C:\\Users\\User\\.julia\\v0.4\\sparsevectors\\src\\math.jl:65 overwritten in module SparseVectors at C:\\Users\\User\\.julia\\v0.4\\sparsevectors\\src\\math.jl:65.\n",
      "WARNING: Method definition cosh(Base.SparseMatrix.AbstractSparseArray{#Tv<:Number, #Ti<:Integer, 1}) in module SparseVectors at C:\\Users\\User\\.julia\\v0.4\\sparsevectors\\src\\math.jl:65 overwritten in module SparseVectors at C:\\Users\\User\\.julia\\v0.4\\sparsevectors\\src\\math.jl:65.\n",
      "WARNING: Method definition csch(Base.SparseMatrix.AbstractSparseArray{#Tv<:Number, #Ti<:Integer, 1}) in module SparseVectors at C:\\Users\\User\\.julia\\v0.4\\sparsevectors\\src\\math.jl:65 overwritten in module SparseVectors at C:\\Users\\User\\.julia\\v0.4\\sparsevectors\\src\\math.jl:65.\n",
      "WARNING: Method definition coth(Base.SparseMatrix.AbstractSparseArray{#Tv<:Number, #Ti<:Integer, 1}) in module SparseVectors at C:\\Users\\User\\.julia\\v0.4\\sparsevectors\\src\\math.jl:65 overwritten in module SparseVectors at C:\\Users\\User\\.julia\\v0.4\\sparsevectors\\src\\math.jl:65.\n",
      "WARNING: Method definition sech(Base.SparseMatrix.AbstractSparseArray{#Tv<:Number, #Ti<:Integer, 1}) in module SparseVectors at C:\\Users\\User\\.julia\\v0.4\\sparsevectors\\src\\math.jl:65 overwritten in module SparseVectors at C:\\Users\\User\\.julia\\v0.4\\sparsevectors\\src\\math.jl:65.\n",
      "WARNING: Method definition acsch(Base.SparseMatrix.AbstractSparseArray{#Tv<:Number, #Ti<:Integer, 1}) in module SparseVectors at C:\\Users\\User\\.julia\\v0.4\\sparsevectors\\src\\math.jl:65 overwritten in module SparseVectors at C:\\Users\\User\\.julia\\v0.4\\sparsevectors\\src\\math.jl:65.\n",
      "WARNING: Method definition asech(Base.SparseMatrix.AbstractSparseArray{#Tv<:Number, #Ti<:Integer, 1}) in module SparseVectors at C:\\Users\\User\\.julia\\v0.4\\sparsevectors\\src\\math.jl:65 overwritten in module SparseVectors at C:\\Users\\User\\.julia\\v0.4\\sparsevectors\\src\\math.jl:65.\n",
      "WARNING: Method definition +(Union{Base.SubArray{#P<:Union{Base.Dates.Period, Base.Dates.CompoundPeriod}, 1, A<:DenseArray, I<:Tuple{Vararg{Union{Base.Colon, Int64, Base.Range{Int64}}}}, LD<:Any}, DenseArray{#P<:Union{Base.Dates.Period, Base.Dates.CompoundPeriod}, 1}}, Base.SparseMatrix.AbstractSparseArray{#T<:Base.Dates.TimeType, Ti<:Any, 1}) in module SparseVectors at C:\\Users\\User\\.julia\\v0.4\\sparsevectors\\src\\math.jl:341 overwritten in module SparseVectors at C:\\Users\\User\\.julia\\v0.4\\sparsevectors\\src\\math.jl:341.\n",
      "WARNING: Method definition -(Union{Base.SubArray{#P<:Union{Base.Dates.Period, Base.Dates.CompoundPeriod}, 1, A<:DenseArray, I<:Tuple{Vararg{Union{Base.Colon, Int64, Base.Range{Int64}}}}, LD<:Any}, DenseArray{#P<:Union{Base.Dates.Period, Base.Dates.CompoundPeriod}, 1}}, Base.SparseMatrix.AbstractSparseArray{#T<:Base.Dates.TimeType, Ti<:Any, 1}) in module SparseVectors at C:\\Users\\User\\.julia\\v0.4\\sparsevectors\\src\\math.jl:342 overwritten in module SparseVectors at C:\\Users\\User\\.julia\\v0.4\\sparsevectors\\src\\math.jl:342.\n",
      "WARNING: Method definition +(Base.SparseMatrix.AbstractSparseArray{#T<:Base.Dates.TimeType, Ti<:Any, 1}, Union{Base.SubArray{#P<:Union{Base.Dates.Period, Base.Dates.CompoundPeriod}, 1, A<:DenseArray, I<:Tuple{Vararg{Union{Base.Colon, Int64, Base.Range{Int64}}}}, LD<:Any}, DenseArray{#P<:Union{Base.Dates.Period, Base.Dates.CompoundPeriod}, 1}}) in module SparseVectors at C:\\Users\\User\\.julia\\v0.4\\sparsevectors\\src\\math.jl:343 overwritten in module SparseVectors at C:\\Users\\User\\.julia\\v0.4\\sparsevectors\\src\\math.jl:343.\n",
      "WARNING: Method definition -(Base.SparseMatrix.AbstractSparseArray{#T<:Base.Dates.TimeType, Ti<:Any, 1}, Union{Base.SubArray{#P<:Union{Base.Dates.Period, Base.Dates.CompoundPeriod}, 1, A<:DenseArray, I<:Tuple{Vararg{Union{Base.Colon, Int64, Base.Range{Int64}}}}, LD<:Any}, DenseArray{#P<:Union{Base.Dates.Period, Base.Dates.CompoundPeriod}, 1}}) in module SparseVectors at C:\\Users\\User\\.julia\\v0.4\\sparsevectors\\src\\math.jl:344 overwritten in module SparseVectors at C:\\Users\\User\\.julia\\v0.4\\sparsevectors\\src\\math.jl:344.\n",
      "WARNING: Method definition .*(Base.BitArray{1}, Base.SparseMatrix.AbstractSparseArray{Bool, Ti<:Any, 1}) in module SparseVectors at C:\\Users\\User\\.julia\\v0.4\\sparsevectors\\src\\math.jl:348 overwritten in module SparseVectors at C:\\Users\\User\\.julia\\v0.4\\sparsevectors\\src\\math.jl:348.\n",
      "WARNING: Method definition .*(Base.SparseMatrix.AbstractSparseArray{Bool, Ti<:Any, 1}, Base.BitArray{1}) in module SparseVectors at C:\\Users\\User\\.julia\\v0.4\\sparsevectors\\src\\math.jl:349 overwritten in module SparseVectors at C:\\Users\\User\\.julia\\v0.4\\sparsevectors\\src\\math.jl:349.\n",
      "WARNING: Method definition +(Base.SparseMatrix.AbstractSparseArray{Tv<:Any, Ti<:Any, 1}, Base.SparseMatrix.AbstractSparseArray{Tv<:Any, Ti<:Any, 1}) in module SparseVectors at C:\\Users\\User\\.julia\\v0.4\\sparsevectors\\src\\math.jl:357 overwritten in module SparseVectors at C:\\Users\\User\\.julia\\v0.4\\sparsevectors\\src\\math.jl:357.\n",
      "WARNING: Method definition +(Union{Base.SubArray{T<:Any, 1, A<:DenseArray, I<:Tuple{Vararg{Union{Base.Colon, Int64, Base.Range{Int64}}}}, LD<:Any}, DenseArray{T<:Any, 1}}, Base.SparseMatrix.AbstractSparseArray{Tv<:Any, Ti<:Any, 1}) in module SparseVectors at C:\\Users\\User\\.julia\\v0.4\\sparsevectors\\src\\math.jl:358 overwritten in module SparseVectors at C:\\Users\\User\\.julia\\v0.4\\sparsevectors\\src\\math.jl:358.\n",
      "WARNING: Method definition +(Base.SparseMatrix.AbstractSparseArray{Tv<:Any, Ti<:Any, 1}, Union{Base.SubArray{T<:Any, 1, A<:DenseArray, I<:Tuple{Vararg{Union{Base.Colon, Int64, Base.Range{Int64}}}}, LD<:Any}, DenseArray{T<:Any, 1}}) in module SparseVectors at C:\\Users\\User\\.julia\\v0.4\\sparsevectors\\src\\math.jl:359 overwritten in module SparseVectors at C:\\Users\\User\\.julia\\v0.4\\sparsevectors\\src\\math.jl:359.\n",
      "WARNING: Method definition .+(Base.SparseMatrix.AbstractSparseArray{Tv<:Any, Ti<:Any, 1}, Base.SparseMatrix.AbstractSparseArray{Tv<:Any, Ti<:Any, 1}) in module SparseVectors at C:\\Users\\User\\.julia\\v0.4\\sparsevectors\\src\\math.jl:357 overwritten in module SparseVectors at C:\\Users\\User\\.julia\\v0.4\\sparsevectors\\src\\math.jl:357.\n",
      "WARNING: Method definition .+(Union{Base.SubArray{T<:Any, 1, A<:DenseArray, I<:Tuple{Vararg{Union{Base.Colon, Int64, Base.Range{Int64}}}}, LD<:Any}, DenseArray{T<:Any, 1}}, Base.SparseMatrix.AbstractSparseArray{Tv<:Any, Ti<:Any, 1}) in module SparseVectors at C:\\Users\\User\\.julia\\v0.4\\sparsevectors\\src\\math.jl:358 overwritten in module SparseVectors at C:\\Users\\User\\.julia\\v0.4\\sparsevectors\\src\\math.jl:358.\n",
      "WARNING: Method definition .+(Base.SparseMatrix.AbstractSparseArray{Tv<:Any, Ti<:Any, 1}, Union{Base.SubArray{T<:Any, 1, A<:DenseArray, I<:Tuple{Vararg{Union{Base.Colon, Int64, Base.Range{Int64}}}}, LD<:Any}, DenseArray{T<:Any, 1}}) in module SparseVectors at C:\\Users\\User\\.julia\\v0.4\\sparsevectors\\src\\math.jl:359 overwritten in module SparseVectors at C:\\Users\\User\\.julia\\v0.4\\sparsevectors\\src\\math.jl:359.\n",
      "WARNING: Method definition -(Base.SparseMatrix.AbstractSparseArray{Tv<:Any, Ti<:Any, 1}, Base.SparseMatrix.AbstractSparseArray{Tv<:Any, Ti<:Any, 1}) in module SparseVectors at C:\\Users\\User\\.julia\\v0.4\\sparsevectors\\src\\math.jl:357 overwritten in module SparseVectors at C:\\Users\\User\\.julia\\v0.4\\sparsevectors\\src\\math.jl:357.\n",
      "WARNING: Method definition -(Union{Base.SubArray{T<:Any, 1, A<:DenseArray, I<:Tuple{Vararg{Union{Base.Colon, Int64, Base.Range{Int64}}}}, LD<:Any}, DenseArray{T<:Any, 1}}, Base.SparseMatrix.AbstractSparseArray{Tv<:Any, Ti<:Any, 1}) in module SparseVectors at C:\\Users\\User\\.julia\\v0.4\\sparsevectors\\src\\math.jl:358 overwritten in module SparseVectors at C:\\Users\\User\\.julia\\v0.4\\sparsevectors\\src\\math.jl:358.\n",
      "WARNING: Method definition -(Base.SparseMatrix.AbstractSparseArray{Tv<:Any, Ti<:Any, 1}, Union{Base.SubArray{T<:Any, 1, A<:DenseArray, I<:Tuple{Vararg{Union{Base.Colon, Int64, Base.Range{Int64}}}}, LD<:Any}, DenseArray{T<:Any, 1}}) in module SparseVectors at C:\\Users\\User\\.julia\\v0.4\\sparsevectors\\src\\math.jl:359 overwritten in module SparseVectors at C:\\Users\\User\\.julia\\v0.4\\sparsevectors\\src\\math.jl:359.\n",
      "WARNING: Method definition .-(Base.SparseMatrix.AbstractSparseArray{Tv<:Any, Ti<:Any, 1}, Base.SparseMatrix.AbstractSparseArray{Tv<:Any, Ti<:Any, 1}) in module SparseVectors at C:\\Users\\User\\.julia\\v0.4\\sparsevectors\\src\\math.jl:357 overwritten in module SparseVectors at C:\\Users\\User\\.julia\\v0.4\\sparsevectors\\src\\math.jl:357.\n",
      "WARNING: Method definition .-(Union{Base.SubArray{T<:Any, 1, A<:DenseArray, I<:Tuple{Vararg{Union{Base.Colon, Int64, Base.Range{Int64}}}}, LD<:Any}, DenseArray{T<:Any, 1}}, Base.SparseMatrix.AbstractSparseArray{Tv<:Any, Ti<:Any, 1}) in module SparseVectors at C:\\Users\\User\\.julia\\v0.4\\sparsevectors\\src\\math.jl:358 overwritten in module SparseVectors at C:\\Users\\User\\.julia\\v0.4\\sparsevectors\\src\\math.jl:358.\n",
      "WARNING: Method definition .-(Base.SparseMatrix.AbstractSparseArray{Tv<:Any, Ti<:Any, 1}, Union{Base.SubArray{T<:Any, 1, A<:DenseArray, I<:Tuple{Vararg{Union{Base.Colon, Int64, Base.Range{Int64}}}}, LD<:Any}, DenseArray{T<:Any, 1}}) in module SparseVectors at C:\\Users\\User\\.julia\\v0.4\\sparsevectors\\src\\math.jl:359 overwritten in module SparseVectors at C:\\Users\\User\\.julia\\v0.4\\sparsevectors\\src\\math.jl:359.\n",
      "WARNING: Method definition .*(Base.SparseMatrix.AbstractSparseArray{Tv<:Any, Ti<:Any, 1}, Base.SparseMatrix.AbstractSparseArray{Tv<:Any, Ti<:Any, 1}) in module SparseVectors at C:\\Users\\User\\.julia\\v0.4\\sparsevectors\\src\\math.jl:357 overwritten in module SparseVectors at C:\\Users\\User\\.julia\\v0.4\\sparsevectors\\src\\math.jl:357.\n",
      "WARNING: Method definition .*(Union{Base.SubArray{T<:Any, 1, A<:DenseArray, I<:Tuple{Vararg{Union{Base.Colon, Int64, Base.Range{Int64}}}}, LD<:Any}, DenseArray{T<:Any, 1}}, Base.SparseMatrix.AbstractSparseArray{Tv<:Any, Ti<:Any, 1}) in module SparseVectors at C:\\Users\\User\\.julia\\v0.4\\sparsevectors\\src\\math.jl:358 overwritten in module SparseVectors at C:\\Users\\User\\.julia\\v0.4\\sparsevectors\\src\\math.jl:358.\n",
      "WARNING: Method definition .*(Base.SparseMatrix.AbstractSparseArray{Tv<:Any, Ti<:Any, 1}, Union{Base.SubArray{T<:Any, 1, A<:DenseArray, I<:Tuple{Vararg{Union{Base.Colon, Int64, Base.Range{Int64}}}}, LD<:Any}, DenseArray{T<:Any, 1}}) in module SparseVectors at C:\\Users\\User\\.julia\\v0.4\\sparsevectors\\src\\math.jl:359 overwritten in module SparseVectors at C:\\Users\\User\\.julia\\v0.4\\sparsevectors\\src\\math.jl:359.\n",
      "WARNING: Method definition max(Base.SparseMatrix.AbstractSparseArray{#Tx<:Real, Ti<:Any, 1}, Base.SparseMatrix.AbstractSparseArray{#Ty<:Real, Ti<:Any, 1}) in module SparseVectors at C:\\Users\\User\\.julia\\v0.4\\sparsevectors\\src\\math.jl:369 overwritten in module SparseVectors at C:\\Users\\User\\.julia\\v0.4\\sparsevectors\\src\\math.jl:369.\n",
      "WARNING: Method definition max(Union{DenseArray{#Tx<:Real, 1}, Base.SubArray{#Tx<:Real, 1, A<:DenseArray, I<:Tuple{Vararg{Union{Base.Colon, Int64, Base.Range{Int64}}}}, LD<:Any}}, Base.SparseMatrix.AbstractSparseArray{#Ty<:Real, Ti<:Any, 1}) in module SparseVectors at C:\\Users\\User\\.julia\\v0.4\\sparsevectors\\src\\math.jl:371 overwritten in module SparseVectors at C:\\Users\\User\\.julia\\v0.4\\sparsevectors\\src\\math.jl:371.\n",
      "WARNING: Method definition max(Base.SparseMatrix.AbstractSparseArray{#Tx<:Real, Ti<:Any, 1}, Union{Base.SubArray{#Ty<:Real, 1, A<:DenseArray, I<:Tuple{Vararg{Union{Base.Colon, Int64, Base.Range{Int64}}}}, LD<:Any}, DenseArray{#Ty<:Real, 1}}) in module SparseVectors at C:\\Users\\User\\.julia\\v0.4\\sparsevectors\\src\\math.jl:373 overwritten in module SparseVectors at C:\\Users\\User\\.julia\\v0.4\\sparsevectors\\src\\math.jl:373.\n",
      "WARNING: Method definition min(Base.SparseMatrix.AbstractSparseArray{#Tx<:Real, Ti<:Any, 1}, Base.SparseMatrix.AbstractSparseArray{#Ty<:Real, Ti<:Any, 1}) in module SparseVectors at C:\\Users\\User\\.julia\\v0.4\\sparsevectors\\src\\math.jl:369 overwritten in module SparseVectors at C:\\Users\\User\\.julia\\v0.4\\sparsevectors\\src\\math.jl:369.\n",
      "WARNING: Method definition min(Union{DenseArray{#Tx<:Real, 1}, Base.SubArray{#Tx<:Real, 1, A<:DenseArray, I<:Tuple{Vararg{Union{Base.Colon, Int64, Base.Range{Int64}}}}, LD<:Any}}, Base.SparseMatrix.AbstractSparseArray{#Ty<:Real, Ti<:Any, 1}) in module SparseVectors at C:\\Users\\User\\.julia\\v0.4\\sparsevectors\\src\\math.jl:371 overwritten in module SparseVectors at C:\\Users\\User\\.julia\\v0.4\\sparsevectors\\src\\math.jl:371.\n",
      "WARNING: Method definition min(Base.SparseMatrix.AbstractSparseArray{#Tx<:Real, Ti<:Any, 1}, Union{Base.SubArray{#Ty<:Real, 1, A<:DenseArray, I<:Tuple{Vararg{Union{Base.Colon, Int64, Base.Range{Int64}}}}, LD<:Any}, DenseArray{#Ty<:Real, 1}}) in module SparseVectors at C:\\Users\\User\\.julia\\v0.4\\sparsevectors\\src\\math.jl:373 overwritten in module SparseVectors at C:\\Users\\User\\.julia\\v0.4\\sparsevectors\\src\\math.jl:373.\n",
      "WARNING: Method definition complex(Base.SparseMatrix.AbstractSparseArray{#Tx<:Real, Ti<:Any, 1}, Base.SparseMatrix.AbstractSparseArray{#Ty<:Real, Ti<:Any, 1}) in module SparseVectors at C:\\Users\\User\\.julia\\v0.4\\sparsevectors\\src\\math.jl:369 overwritten in module SparseVectors at C:\\Users\\User\\.julia\\v0.4\\sparsevectors\\src\\math.jl:369.\n",
      "WARNING: Method definition complex(Union{DenseArray{#Tx<:Real, 1}, Base.SubArray{#Tx<:Real, 1, A<:DenseArray, I<:Tuple{Vararg{Union{Base.Colon, Int64, Base.Range{Int64}}}}, LD<:Any}}, Base.SparseMatrix.AbstractSparseArray{#Ty<:Real, Ti<:Any, 1}) in module SparseVectors at C:\\Users\\User\\.julia\\v0.4\\sparsevectors\\src\\math.jl:371 overwritten in module SparseVectors at C:\\Users\\User\\.julia\\v0.4\\sparsevectors\\src\\math.jl:371.\n",
      "WARNING: Method definition complex(Base.SparseMatrix.AbstractSparseArray{#Tx<:Real, Ti<:Any, 1}, Union{Base.SubArray{#Ty<:Real, 1, A<:DenseArray, I<:Tuple{Vararg{Union{Base.Colon, Int64, Base.Range{Int64}}}}, LD<:Any}, DenseArray{#Ty<:Real, 1}}) in module SparseVectors at C:\\Users\\User\\.julia\\v0.4\\sparsevectors\\src\\math.jl:373 overwritten in module SparseVectors at C:\\Users\\User\\.julia\\v0.4\\sparsevectors\\src\\math.jl:373.\n",
      "WARNING: Method definition sum(Base.SparseMatrix.AbstractSparseArray{Tv<:Any, Ti<:Any, 1}) in module SparseVectors at C:\\Users\\User\\.julia\\v0.4\\sparsevectors\\src\\math.jl:380 overwritten in module SparseVectors at C:\\Users\\User\\.julia\\v0.4\\sparsevectors\\src\\math.jl:380.\n",
      "WARNING: Method definition sumabs(Base.SparseMatrix.AbstractSparseArray{Tv<:Any, Ti<:Any, 1}) in module SparseVectors at C:\\Users\\User\\.julia\\v0.4\\sparsevectors\\src\\math.jl:381 overwritten in module SparseVectors at C:\\Users\\User\\.julia\\v0.4\\sparsevectors\\src\\math.jl:381.\n",
      "WARNING: Method definition sumabs2(Base.SparseMatrix.AbstractSparseArray{Tv<:Any, Ti<:Any, 1}) in module SparseVectors at C:\\Users\\User\\.julia\\v0.4\\sparsevectors\\src\\math.jl:382 overwritten in module SparseVectors at C:\\Users\\User\\.julia\\v0.4\\sparsevectors\\src\\math.jl:382.\n",
      "WARNING: Method definition maximum(Base.SparseMatrix.AbstractSparseArray{#T<:Real, Ti<:Any, 1}) in module SparseVectors at C:\\Users\\User\\.julia\\v0.4\\sparsevectors\\src\\math.jl:385 overwritten in module SparseVectors at C:\\Users\\User\\.julia\\v0.4\\sparsevectors\\src\\math.jl:385.\n",
      "WARNING: Method definition minimum(Base.SparseMatrix.AbstractSparseArray{#T<:Real, Ti<:Any, 1}) in module SparseVectors at C:\\Users\\User\\.julia\\v0.4\\sparsevectors\\src\\math.jl:394 overwritten in module SparseVectors at C:\\Users\\User\\.julia\\v0.4\\sparsevectors\\src\\math.jl:394.\n",
      "WARNING: Method definition maxabs(Base.SparseMatrix.AbstractSparseArray{#T<:Number, Ti<:Any, 1}) in module SparseVectors at C:\\Users\\User\\.julia\\v0.4\\sparsevectors\\src\\math.jl:402 overwritten in module SparseVectors at C:\\Users\\User\\.julia\\v0.4\\sparsevectors\\src\\math.jl:402.\n",
      "WARNING: Method definition minabs(Base.SparseMatrix.AbstractSparseArray{#T<:Number, Ti<:Any, 1}) in module SparseVectors at C:\\Users\\User\\.julia\\v0.4\\sparsevectors\\src\\math.jl:403 overwritten in module SparseVectors at C:\\Users\\User\\.julia\\v0.4\\sparsevectors\\src\\math.jl:403.\n",
      "WARNING: Method definition vecnorm(Base.SparseMatrix.AbstractSparseArray{Tv<:Any, Ti<:Any, 1}) in module SparseVectors at C:\\Users\\User\\.julia\\v0.4\\sparsevectors\\src\\math.jl:405 overwritten in module SparseVectors at C:\\Users\\User\\.julia\\v0.4\\sparsevectors\\src\\math.jl:405.\n",
      "WARNING: Method definition vecnorm(Base.SparseMatrix.AbstractSparseArray{Tv<:Any, Ti<:Any, 1}, Real) in module SparseVectors at C:\\Users\\User\\.julia\\v0.4\\sparsevectors\\src\\math.jl:405 overwritten in module SparseVectors at C:\\Users\\User\\.julia\\v0.4\\sparsevectors\\src\\math.jl:405.\n",
      "WARNING: Method definition axpy!(Number, Base.SparseMatrix.AbstractSparseArray{Tv<:Any, Ti<:Any, 1}, Union{Base.SubArray{T<:Any, 1, A<:DenseArray, I<:Tuple{Vararg{Union{Base.Colon, Int64, Base.Range{Int64}}}}, LD<:Any}, DenseArray{T<:Any, 1}}) in module SparseVectors at C:\\Users\\User\\.julia\\v0.4\\sparsevectors\\src\\linalg.jl:7 overwritten in module SparseVectors at C:\\Users\\User\\.julia\\v0.4\\sparsevectors\\src\\linalg.jl:7.\n",
      "WARNING: Method definition scale!(Base.SparseMatrix.AbstractSparseArray{Tv<:Any, Ti<:Any, 1}, Real) in module SparseVectors at C:\\Users\\User\\.julia\\v0.4\\sparsevectors\\src\\linalg.jl:37 overwritten in module SparseVectors at C:\\Users\\User\\.julia\\v0.4\\sparsevectors\\src\\linalg.jl:37.\n",
      "WARNING: Method definition scale!(Base.SparseMatrix.AbstractSparseArray{Tv<:Any, Ti<:Any, 1}, Base.Complex) in module SparseVectors at C:\\Users\\User\\.julia\\v0.4\\sparsevectors\\src\\linalg.jl:38 overwritten in module SparseVectors at C:\\Users\\User\\.julia\\v0.4\\sparsevectors\\src\\linalg.jl:38.\n",
      "WARNING: Method definition scale!(Real, Base.SparseMatrix.AbstractSparseArray{Tv<:Any, Ti<:Any, 1}) in module SparseVectors at C:\\Users\\User\\.julia\\v0.4\\sparsevectors\\src\\linalg.jl:39 overwritten in module SparseVectors at C:\\Users\\User\\.julia\\v0.4\\sparsevectors\\src\\linalg.jl:39.\n",
      "WARNING: Method definition scale!(Base.Complex, Base.SparseMatrix.AbstractSparseArray{Tv<:Any, Ti<:Any, 1}) in module SparseVectors at C:\\Users\\User\\.julia\\v0.4\\sparsevectors\\src\\linalg.jl:40 overwritten in module SparseVectors at C:\\Users\\User\\.julia\\v0.4\\sparsevectors\\src\\linalg.jl:40.\n",
      "WARNING: Method definition scale(Base.SparseMatrix.AbstractSparseArray{Tv<:Any, Ti<:Any, 1}, Real) in module SparseVectors at C:\\Users\\User\\.julia\\v0.4\\sparsevectors\\src\\linalg.jl:42 overwritten in module SparseVectors at C:\\Users\\User\\.julia\\v0.4\\sparsevectors\\src\\linalg.jl:42.\n",
      "WARNING: Method definition scale(Base.SparseMatrix.AbstractSparseArray{Tv<:Any, Ti<:Any, 1}, Base.Complex) in module SparseVectors at C:\\Users\\User\\.julia\\v0.4\\sparsevectors\\src\\linalg.jl:44 overwritten in module SparseVectors at C:\\Users\\User\\.julia\\v0.4\\sparsevectors\\src\\linalg.jl:44.\n",
      "WARNING: Method definition scale(Real, Base.SparseMatrix.AbstractSparseArray{Tv<:Any, Ti<:Any, 1}) in module SparseVectors at C:\\Users\\User\\.julia\\v0.4\\sparsevectors\\src\\linalg.jl:47 overwritten in module SparseVectors at C:\\Users\\User\\.julia\\v0.4\\sparsevectors\\src\\linalg.jl:47.\n",
      "WARNING: Method definition scale(Base.Complex, Base.SparseMatrix.AbstractSparseArray{Tv<:Any, Ti<:Any, 1}) in module SparseVectors at C:\\Users\\User\\.julia\\v0.4\\sparsevectors\\src\\linalg.jl:48 overwritten in module SparseVectors at C:\\Users\\User\\.julia\\v0.4\\sparsevectors\\src\\linalg.jl:48.\n",
      "WARNING: Method definition *(Base.SparseMatrix.AbstractSparseArray{Tv<:Any, Ti<:Any, 1}, Number) in module SparseVectors at C:\\Users\\User\\.julia\\v0.4\\sparsevectors\\src\\linalg.jl:50 overwritten in module SparseVectors at C:\\Users\\User\\.julia\\v0.4\\sparsevectors\\src\\linalg.jl:50.\n",
      "WARNING: Method definition *(Number, Base.SparseMatrix.AbstractSparseArray{Tv<:Any, Ti<:Any, 1}) in module SparseVectors at C:\\Users\\User\\.julia\\v0.4\\sparsevectors\\src\\linalg.jl:51 overwritten in module SparseVectors at C:\\Users\\User\\.julia\\v0.4\\sparsevectors\\src\\linalg.jl:51.\n",
      "WARNING: Method definition .*(Base.SparseMatrix.AbstractSparseArray{Tv<:Any, Ti<:Any, 1}, Number) in module SparseVectors at C:\\Users\\User\\.julia\\v0.4\\sparsevectors\\src\\linalg.jl:52 overwritten in module SparseVectors at C:\\Users\\User\\.julia\\v0.4\\sparsevectors\\src\\linalg.jl:52.\n",
      "WARNING: Method definition .*(Number, Base.SparseMatrix.AbstractSparseArray{Tv<:Any, Ti<:Any, 1}) in module SparseVectors at C:\\Users\\User\\.julia\\v0.4\\sparsevectors\\src\\linalg.jl:53 overwritten in module SparseVectors at C:\\Users\\User\\.julia\\v0.4\\sparsevectors\\src\\linalg.jl:53.\n",
      "WARNING: Method definition dot(Union{Base.SubArray{#Tx<:Number, 1, A<:DenseArray, I<:Tuple{Vararg{Union{Base.Colon, Int64, Base.Range{Int64}}}}, LD<:Any}, DenseArray{#Tx<:Number, 1}}, Base.SparseMatrix.AbstractSparseArray{#Ty<:Number, Ti<:Any, 1}) in module SparseVectors at C:\\Users\\User\\.julia\\v0.4\\sparsevectors\\src\\linalg.jl:59 overwritten in module SparseVectors at C:\\Users\\User\\.julia\\v0.4\\sparsevectors\\src\\linalg.jl:59.\n",
      "WARNING: Method definition dot(Base.SparseMatrix.AbstractSparseArray{#Tx<:Number, Ti<:Any, 1}, AbstractArray{#Ty<:Number, 1}) in module SparseVectors at C:\\Users\\User\\.julia\\v0.4\\sparsevectors\\src\\linalg.jl:71 overwritten in module SparseVectors at C:\\Users\\User\\.julia\\v0.4\\sparsevectors\\src\\linalg.jl:71.\n",
      "WARNING: Method definition dot(Base.SparseMatrix.AbstractSparseArray{#Tx<:Number, Ti<:Any, 1}, Base.SparseMatrix.AbstractSparseArray{#Ty<:Number, Ti<:Any, 1}) in module SparseVectors at C:\\Users\\User\\.julia\\v0.4\\sparsevectors\\src\\linalg.jl:104 overwritten in module SparseVectors at C:\\Users\\User\\.julia\\v0.4\\sparsevectors\\src\\linalg.jl:104.\n",
      "WARNING: Method definition *(Union{DenseArray{#Ta<:Any, 2}, Base.SubArray{#Ta<:Any, 2, A<:DenseArray, I<:Tuple{Vararg{Union{Base.Colon, Int64, Base.Range{Int64}}}}, LD<:Any}}, Base.SparseMatrix.AbstractSparseArray{#Tx<:Any, Ti<:Any, 1}) in module SparseVectors at C:\\Users\\User\\.julia\\v0.4\\sparsevectors\\src\\linalg.jl:123 overwritten in module SparseVectors at C:\\Users\\User\\.julia\\v0.4\\sparsevectors\\src\\linalg.jl:123.\n",
      "WARNING: Method definition A_mul_B!(Union{DenseArray{#Ty<:Any, 1}, Base.SubArray{#Ty<:Any, 1, A<:DenseArray, I<:Tuple{Vararg{Union{Base.Colon, Int64, Base.Range{Int64}}}}, LD<:Any}}, Union{DenseArray{T<:Any, 2}, Base.SubArray{T<:Any, 2, A<:DenseArray, I<:Tuple{Vararg{Union{Base.Colon, Int64, Base.Range{Int64}}}}, LD<:Any}}, Base.SparseMatrix.AbstractSparseArray{#Tx<:Any, Ti<:Any, 1}) in module SparseVectors at C:\\Users\\User\\.julia\\v0.4\\sparsevectors\\src\\linalg.jl:130 overwritten in module SparseVectors at C:\\Users\\User\\.julia\\v0.4\\sparsevectors\\src\\linalg.jl:130.\n",
      "WARNING: Method definition A_mul_B!(Number, Union{DenseArray{T<:Any, 2}, Base.SubArray{T<:Any, 2, A<:DenseArray, I<:Tuple{Vararg{Union{Base.Colon, Int64, Base.Range{Int64}}}}, LD<:Any}}, Base.SparseMatrix.AbstractSparseArray{Tv<:Any, Ti<:Any, 1}, Number, Union{Base.SubArray{T<:Any, 1, A<:DenseArray, I<:Tuple{Vararg{Union{Base.Colon, Int64, Base.Range{Int64}}}}, LD<:Any}, DenseArray{T<:Any, 1}}) in module SparseVectors at C:\\Users\\User\\.julia\\v0.4\\sparsevectors\\src\\linalg.jl:134 overwritten in module SparseVectors at C:\\Users\\User\\.julia\\v0.4\\sparsevectors\\src\\linalg.jl:134.\n",
      "WARNING: Method definition At_mul_B(Union{DenseArray{#Ta<:Any, 2}, Base.SubArray{#Ta<:Any, 2, A<:DenseArray, I<:Tuple{Vararg{Union{Base.Colon, Int64, Base.Range{Int64}}}}, LD<:Any}}, Base.SparseMatrix.AbstractSparseArray{#Tx<:Any, Ti<:Any, 1}) in module SparseVectors at C:\\Users\\User\\.julia\\v0.4\\sparsevectors\\src\\linalg.jl:160 overwritten in module SparseVectors at C:\\Users\\User\\.julia\\v0.4\\sparsevectors\\src\\linalg.jl:160.\n",
      "WARNING: Method definition At_mul_B!(Union{DenseArray{#Ty<:Any, 1}, Base.SubArray{#Ty<:Any, 1, A<:DenseArray, I<:Tuple{Vararg{Union{Base.Colon, Int64, Base.Range{Int64}}}}, LD<:Any}}, Union{DenseArray{T<:Any, 2}, Base.SubArray{T<:Any, 2, A<:DenseArray, I<:Tuple{Vararg{Union{Base.Colon, Int64, Base.Range{Int64}}}}, LD<:Any}}, Base.SparseMatrix.AbstractSparseArray{#Tx<:Any, Ti<:Any, 1}) in module SparseVectors at C:\\Users\\User\\.julia\\v0.4\\sparsevectors\\src\\linalg.jl:167 overwritten in module SparseVectors at C:\\Users\\User\\.julia\\v0.4\\sparsevectors\\src\\linalg.jl:167.\n",
      "WARNING: Method definition At_mul_B!(Number, Union{DenseArray{T<:Any, 2}, Base.SubArray{T<:Any, 2, A<:DenseArray, I<:Tuple{Vararg{Union{Base.Colon, Int64, Base.Range{Int64}}}}, LD<:Any}}, Base.SparseMatrix.AbstractSparseArray{Tv<:Any, Ti<:Any, 1}, Number, Union{Base.SubArray{T<:Any, 1, A<:DenseArray, I<:Tuple{Vararg{Union{Base.Colon, Int64, Base.Range{Int64}}}}, LD<:Any}, DenseArray{T<:Any, 1}}) in module SparseVectors at C:\\Users\\User\\.julia\\v0.4\\sparsevectors\\src\\linalg.jl:171 overwritten in module SparseVectors at C:\\Users\\User\\.julia\\v0.4\\sparsevectors\\src\\linalg.jl:171.\n",
      "WARNING: Method definition A_mul_B!(Union{DenseArray{#Ty<:Any, 1}, Base.SubArray{#Ty<:Any, 1, A<:DenseArray, I<:Tuple{Vararg{Union{Base.Colon, Int64, Base.Range{Int64}}}}, LD<:Any}}, Base.SparseMatrix.SparseMatrixCSC, Base.SparseMatrix.AbstractSparseArray{#Tx<:Any, Ti<:Any, 1}) in module SparseVectors at C:\\Users\\User\\.julia\\v0.4\\sparsevectors\\src\\linalg.jl:226 overwritten in module SparseVectors at C:\\Users\\User\\.julia\\v0.4\\sparsevectors\\src\\linalg.jl:226.\n",
      "WARNING: Method definition A_mul_B!(Number, Base.SparseMatrix.SparseMatrixCSC, Base.SparseMatrix.AbstractSparseArray{Tv<:Any, Ti<:Any, 1}, Number, Union{Base.SubArray{T<:Any, 1, A<:DenseArray, I<:Tuple{Vararg{Union{Base.Colon, Int64, Base.Range{Int64}}}}, LD<:Any}, DenseArray{T<:Any, 1}}) in module SparseVectors at C:\\Users\\User\\.julia\\v0.4\\sparsevectors\\src\\linalg.jl:230 overwritten in module SparseVectors at C:\\Users\\User\\.julia\\v0.4\\sparsevectors\\src\\linalg.jl:230.\n",
      "WARNING: Method definition At_mul_B!(Union{DenseArray{#Ty<:Any, 1}, Base.SubArray{#Ty<:Any, 1, A<:DenseArray, I<:Tuple{Vararg{Union{Base.Colon, Int64, Base.Range{Int64}}}}, LD<:Any}}, Base.SparseMatrix.SparseMatrixCSC, Base.SparseMatrix.AbstractSparseArray{#Tx<:Any, Ti<:Any, 1}) in module SparseVectors at C:\\Users\\User\\.julia\\v0.4\\sparsevectors\\src\\linalg.jl:259 overwritten in module SparseVectors at C:\\Users\\User\\.julia\\v0.4\\sparsevectors\\src\\linalg.jl:259.\n",
      "WARNING: Method definition At_mul_B!(Number, Base.SparseMatrix.SparseMatrixCSC, Base.SparseMatrix.AbstractSparseArray{#Tx<:Any, Ti<:Any, 1}, Number, Union{DenseArray{#Ty<:Any, 1}, Base.SubArray{#Ty<:Any, 1, A<:DenseArray, I<:Tuple{Vararg{Union{Base.Colon, Int64, Base.Range{Int64}}}}, LD<:Any}}) in module SparseVectors at C:\\Users\\User\\.julia\\v0.4\\sparsevectors\\src\\linalg.jl:262 overwritten in module SparseVectors at C:\\Users\\User\\.julia\\v0.4\\sparsevectors\\src\\linalg.jl:262.\n",
      "WARNING: Method definition Ac_mul_B!(Union{DenseArray{#Ty<:Any, 1}, Base.SubArray{#Ty<:Any, 1, A<:DenseArray, I<:Tuple{Vararg{Union{Base.Colon, Int64, Base.Range{Int64}}}}, LD<:Any}}, Base.SparseMatrix.SparseMatrixCSC, Base.SparseMatrix.AbstractSparseArray{#Tx<:Any, Ti<:Any, 1}) in module SparseVectors at C:\\Users\\User\\.julia\\v0.4\\sparsevectors\\src\\linalg.jl:265 overwritten in module SparseVectors at C:\\Users\\User\\.julia\\v0.4\\sparsevectors\\src\\linalg.jl:265.\n",
      "WARNING: Method definition Ac_mul_B!(Number, Base.SparseMatrix.SparseMatrixCSC, Base.SparseMatrix.AbstractSparseArray{#Tx<:Any, Ti<:Any, 1}, Number, Union{DenseArray{#Ty<:Any, 1}, Base.SubArray{#Ty<:Any, 1, A<:DenseArray, I<:Tuple{Vararg{Union{Base.Colon, Int64, Base.Range{Int64}}}}, LD<:Any}}) in module SparseVectors at C:\\Users\\User\\.julia\\v0.4\\sparsevectors\\src\\linalg.jl:268 overwritten in module SparseVectors at C:\\Users\\User\\.julia\\v0.4\\sparsevectors\\src\\linalg.jl:268.\n",
      "WARNING: Method definition *(Base.SparseMatrix.SparseMatrixCSC, Base.SparseMatrix.AbstractSparseArray{Tv<:Any, Ti<:Any, 1}) in module SparseVectors at C:\\Users\\User\\.julia\\v0.4\\sparsevectors\\src\\linalg.jl:302 overwritten in module SparseVectors at C:\\Users\\User\\.julia\\v0.4\\sparsevectors\\src\\linalg.jl:302.\n",
      "WARNING: Method definition At_mul_B(Base.SparseMatrix.SparseMatrixCSC, Base.SparseMatrix.AbstractSparseArray{Tv<:Any, Ti<:Any, 1}) in module SparseVectors at C:\\Users\\User\\.julia\\v0.4\\sparsevectors\\src\\linalg.jl:307 overwritten in module SparseVectors at C:\\Users\\User\\.julia\\v0.4\\sparsevectors\\src\\linalg.jl:307.\n",
      "WARNING: Method definition Ac_mul_B(Base.SparseMatrix.SparseMatrixCSC, Base.SparseMatrix.AbstractSparseArray{Tv<:Any, Ti<:Any, 1}) in module SparseVectors at C:\\Users\\User\\.julia\\v0.4\\sparsevectors\\src\\linalg.jl:310 overwritten in module SparseVectors at C:\\Users\\User\\.julia\\v0.4\\sparsevectors\\src\\linalg.jl:310.\n",
      "WARNING: requiring \"sparsevectors\" in module \"Main\" did not define a corresponding module.\n"
     ]
    }
   ],
   "source": [
    "\n",
    "Pkg.add(\"SparseVectors\")\n",
    "using sparsevectors"
   ]
  },
  {
   "cell_type": "code",
   "execution_count": 157,
   "metadata": {
    "collapsed": false
   },
   "outputs": [
    {
     "data": {
      "text/plain": [
       "Sparse vector, length = 30, with 18 Float64 entries:\n",
       "  [1 ]  =  0.381801\n",
       "  [2 ]  =  0.899859\n",
       "  [3 ]  =  0.0672993\n",
       "  [5 ]  =  0.333567\n",
       "  [6 ]  =  0.725721\n",
       "  [8 ]  =  0.106167\n",
       "  [13]  =  0.277165\n",
       "  [14]  =  0.744682\n",
       "  [15]  =  0.188051\n",
       "  [19]  =  0.0023932\n",
       "  [20]  =  0.870488\n",
       "  [21]  =  0.975672\n",
       "  [22]  =  0.778748\n",
       "  [23]  =  0.228469\n",
       "  [24]  =  0.55109\n",
       "  [26]  =  0.256467\n",
       "  [27]  =  0.14764\n",
       "  [28]  =  0.824637\n"
      ]
     },
     "execution_count": 157,
     "metadata": {},
     "output_type": "execute_result"
    }
   ],
   "source": [
    "# generate data\n",
    "\n",
    "d = 30\n",
    "srand(2)\n",
    "w_randn = randn(d)\n",
    "w_sparse = sprandn(d, .5) # sparse matrix, where prob of any element being non zero is p\n",
    "w_pos = sprand(d, .5); # uniform distribution (default): [0,1)\n",
    "\n",
    "# @show w_sparse # other elements not shown are zero\n",
    "# @show w_pos # other elements not shown are zero"
   ]
  },
  {
   "cell_type": "code",
   "execution_count": 158,
   "metadata": {
    "collapsed": false
   },
   "outputs": [
    {
     "ename": "LoadError",
     "evalue": "LoadError: UndefVarError: minimize not defined\nwhile loading In[158], in expression starting on line 5",
     "output_type": "error",
     "traceback": [
      "LoadError: UndefVarError: minimize not defined\nwhile loading In[158], in expression starting on line 5",
      "",
      " in ridge_regression at In[153]:4"
     ]
    }
   ],
   "source": [
    "# find best model for each type of data\n",
    "w = w_pos\n",
    "\n",
    "X,y = generate_data(30, w)\n",
    "w_ridge = ridge_regression(X,y)\n",
    "w_lasso = lasso(X,y; λ=1)\n",
    "w_nonneg = nnls(X,y);"
   ]
  },
  {
   "cell_type": "code",
   "execution_count": 94,
   "metadata": {
    "collapsed": false
   },
   "outputs": [
    {
     "ename": "LoadError",
     "evalue": "LoadError: UndefVarError: plt not defined\nwhile loading In[94], in expression starting on line 1",
     "output_type": "error",
     "traceback": [
      "LoadError: UndefVarError: plt not defined\nwhile loading In[94], in expression starting on line 1",
      ""
     ]
    }
   ],
   "source": [
    "plt[:hist](w_ridge)"
   ]
  },
  {
   "cell_type": "code",
   "execution_count": 125,
   "metadata": {
    "collapsed": false
   },
   "outputs": [
    {
     "data": {
      "image/png": "[encoded data removed]",
      "text/plain": [
       "PyPlot.Figure(PyObject <matplotlib.figure.Figure object at 0x3341a48d0>)"
      ]
     },
     "metadata": {},
     "output_type": "display_data"
    },
    {
     "data": {
      "text/plain": [
       "([1.0,0.0,0.0,1.0,0.0,1.0,10.0,0.0,1.0,0.0,0.0,0.0,2.0,1.0,1.0,0.0,0.0,1.0,0.0,0.0,1.0,0.0,0.0,1.0,0.0,0.0,1.0,0.0,1.0,0.0,0.0,0.0,0.0,1.0,0.0,0.0,0.0,1.0,0.0,1.0,1.0,0.0,0.0,2.0,0.0,0.0,0.0,0.0,0.0,1.0],[-0.134716,-0.113863,-0.0930104,-0.0721579,-0.0513053,-0.0304527,-0.00960008,0.0112525,0.0321051,0.0529577,0.0738103,0.0946629,0.115515,0.136368,0.157221,0.178073,0.198926,0.219778,0.240631,0.261484,0.282336,0.303189,0.324041,0.344894,0.365747,0.386599,0.407452,0.428304,0.449157,0.47001,0.490862,0.511715,0.532567,0.55342,0.574272,0.595125,0.615978,0.63683,0.657683,0.678535,0.699388,0.720241,0.741093,0.761946,0.782798,0.803651,0.824504,0.845356,0.866209,0.887061,0.907914],Any[PyObject <matplotlib.patches.Rectangle object at 0x334376510>,PyObject <matplotlib.patches.Rectangle object at 0x334376b90>,PyObject <matplotlib.patches.Rectangle object at 0x334383250>,PyObject <matplotlib.patches.Rectangle object at 0x3343838d0>,PyObject <matplotlib.patches.Rectangle object at 0x334383f50>,PyObject <matplotlib.patches.Rectangle object at 0x334390610>,PyObject <matplotlib.patches.Rectangle object at 0x334390c90>,PyObject <matplotlib.patches.Rectangle object at 0x33439c350>,PyObject <matplotlib.patches.Rectangle object at 0x33439c9d0>,PyObject <matplotlib.patches.Rectangle object at 0x33439ced0>,PyObject <matplotlib.patches.Rectangle object at 0x3343aa710>,PyObject <matplotlib.patches.Rectangle object at 0x3343aad90>,PyObject <matplotlib.patches.Rectangle object at 0x3343ba450>,PyObject <matplotlib.patches.Rectangle object at 0x3343baad0>,PyObject <matplotlib.patches.Rectangle object at 0x3343bafd0>,PyObject <matplotlib.patches.Rectangle object at 0x3343c5810>,PyObject <matplotlib.patches.Rectangle object at 0x3343c5e90>,PyObject <matplotlib.patches.Rectangle object at 0x3343d4550>,PyObject <matplotlib.patches.Rectangle object at 0x3343d4bd0>,PyObject <matplotlib.patches.Rectangle object at 0x3343e1290>,PyObject <matplotlib.patches.Rectangle object at 0x3343e1910>,PyObject <matplotlib.patches.Rectangle object at 0x3343e1f90>,PyObject <matplotlib.patches.Rectangle object at 0x3343ee650>,PyObject <matplotlib.patches.Rectangle object at 0x3343eecd0>,PyObject <matplotlib.patches.Rectangle object at 0x3343fb390>,PyObject <matplotlib.patches.Rectangle object at 0x3343fba10>,PyObject <matplotlib.patches.Rectangle object at 0x3343fbf10>,PyObject <matplotlib.patches.Rectangle object at 0x33440a750>,PyObject <matplotlib.patches.Rectangle object at 0x33440add0>,PyObject <matplotlib.patches.Rectangle object at 0x334418490>,PyObject <matplotlib.patches.Rectangle object at 0x334418b10>,PyObject <matplotlib.patches.Rectangle object at 0x3344231d0>,PyObject <matplotlib.patches.Rectangle object at 0x334423850>,PyObject <matplotlib.patches.Rectangle object at 0x334423ed0>,PyObject <matplotlib.patches.Rectangle object at 0x334431590>,PyObject <matplotlib.patches.Rectangle object at 0x334431c10>,PyObject <matplotlib.patches.Rectangle object at 0x3341cf750>,PyObject <matplotlib.patches.Rectangle object at 0x333d08790>,PyObject <matplotlib.patches.Rectangle object at 0x333f3de90>,PyObject <matplotlib.patches.Rectangle object at 0x334189850>,PyObject <matplotlib.patches.Rectangle object at 0x33443ea90>,PyObject <matplotlib.patches.Rectangle object at 0x33443ef90>,PyObject <matplotlib.patches.Rectangle object at 0x33444f7d0>,PyObject <matplotlib.patches.Rectangle object at 0x33444fe50>,PyObject <matplotlib.patches.Rectangle object at 0x33445c510>,PyObject <matplotlib.patches.Rectangle object at 0x33445cb90>,PyObject <matplotlib.patches.Rectangle object at 0x33446a250>,PyObject <matplotlib.patches.Rectangle object at 0x33446a8d0>,PyObject <matplotlib.patches.Rectangle object at 0x33446af50>,PyObject <matplotlib.patches.Rectangle object at 0x334478610>])"
      ]
     },
     "execution_count": 125,
     "metadata": {},
     "output_type": "execute_result"
    }
   ],
   "source": [
    "plt[:hist](w_lasso, bins=50)"
   ]
  },
  {
   "cell_type": "code",
   "execution_count": 126,
   "metadata": {
    "collapsed": false
   },
   "outputs": [
    {
     "data": {
      "image/png": "[encoded data removed]",
      "text/plain": [
       "PyPlot.Figure(PyObject <matplotlib.figure.Figure object at 0x33417e250>)"
      ]
     },
     "metadata": {},
     "output_type": "display_data"
    },
    {
     "data": {
      "text/plain": [
       "([14.0,2.0,2.0,3.0,1.0,0.0,1.0,1.0,1.0,5.0],[4.34602e-7,0.0912492,0.182498,0.273747,0.364995,0.456244,0.547493,0.638742,0.72999,0.821239,0.912488],Any[PyObject <matplotlib.patches.Rectangle object at 0x33469ced0>,PyObject <matplotlib.patches.Rectangle object at 0x3346a8590>,PyObject <matplotlib.patches.Rectangle object at 0x3346a8c10>,PyObject <matplotlib.patches.Rectangle object at 0x3346b72d0>,PyObject <matplotlib.patches.Rectangle object at 0x3346b7950>,PyObject <matplotlib.patches.Rectangle object at 0x3346b7fd0>,PyObject <matplotlib.patches.Rectangle object at 0x3346c4690>,PyObject <matplotlib.patches.Rectangle object at 0x3346c4d10>,PyObject <matplotlib.patches.Rectangle object at 0x3346d03d0>,PyObject <matplotlib.patches.Rectangle object at 0x3346d0a50>])"
      ]
     },
     "execution_count": 126,
     "metadata": {},
     "output_type": "execute_result"
    }
   ],
   "source": [
    "plt[:hist](w_nonneg)"
   ]
  },
  {
   "cell_type": "code",
   "execution_count": 127,
   "metadata": {
    "collapsed": false
   },
   "outputs": [
    {
     "data": {
      "image/png": "[encoded data removed]",
      "text/plain": [
       "PyPlot.Figure(PyObject <matplotlib.figure.Figure object at 0x3344c3790>)"
      ]
     },
     "metadata": {},
     "output_type": "display_data"
    },
    {
     "data": {
      "text/plain": [
       "PyObject <matplotlib.text.Text object at 0x33472ab10>"
      ]
     },
     "execution_count": 127,
     "metadata": {},
     "output_type": "execute_result"
    }
   ],
   "source": [
    "# which fits data best?\n",
    "Xtest,ytest = generate_data(20,w)\n",
    "\n",
    "plot(ytest,Xtest*w_ridge,label=\"ridge\",\".\")\n",
    "plot(ytest,Xtest*w_lasso,label=\"lasso\",\".\")\n",
    "plot(ytest,Xtest*w_nonneg,label=\"NNLS\",\".\")\n",
    "plot(ytest,ytest,label=\"true model\")\n",
    "legend()\n",
    "xlabel(\"true value\")\n",
    "ylabel(\"predicted value\")\n",
    "\n",
    "#NNLS fits best, followed by lasso. cuz w = w_pos (sparse and non neg)"
   ]
  },
  {
   "cell_type": "code",
   "execution_count": 151,
   "metadata": {
    "collapsed": false
   },
   "outputs": [
    {
     "ename": "LoadError",
     "evalue": "LoadError: UndefVarError: minimize not defined\nwhile loading In[151], in expression starting on line 9",
     "output_type": "error",
     "traceback": [
      "LoadError: UndefVarError: minimize not defined\nwhile loading In[151], in expression starting on line 9",
      "",
      " in ridge_regression at In[144]:4",
      " [inlined code] from In[151]:10",
      " in anonymous at no file:0"
     ]
    }
   ],
   "source": [
    "# cross validate over lambda\n",
    "\n",
    "w = .5*randn(40)\n",
    "X,y = generate_noisy_data(30, w) # generate test data\n",
    "Xtest,ytest = generate_noisy_data(30, w)\n",
    "\n",
    "error = Float64[]\n",
    "λs = 0:.1:5\n",
    "for λ in λs\n",
    "    w = ridge_regression(X,y; λ=λ)\n",
    "    push!(error, sum((ytest - Xtest*w).^2))\n",
    "end\n",
    "plot(λs, error)\n"
   ]
  },
  {
   "cell_type": "code",
   "execution_count": 150,
   "metadata": {
    "collapsed": false
   },
   "outputs": [
    {
     "ename": "LoadError",
     "evalue": "LoadError: DimensionMismatch(\"\")\nwhile loading In[150], in expression starting on line 3",
     "output_type": "error",
     "traceback": [
      "LoadError: DimensionMismatch(\"\")\nwhile loading In[150], in expression starting on line 3",
      "",
      " in * at C:\\Users\\User\\.julia\\v0.4\\sparsevectors\\src\\linalg.jl:124"
     ]
    }
   ],
   "source": [
    "error = Float64[]\n",
    "λs = 0:.1:5\n",
    "for λ in λs\n",
    "    w = ridge_regression(X,y; λ=λ)\n",
    "    push!(error, sum((ytest - Xtest*w).^2))\n",
    "end\n",
    "plot(λs, error) # plot lambdas against error"
   ]
  }
 ],
 "metadata": {
  "anaconda-cloud": {},
  "kernelspec": {
   "display_name": "Julia 0.5.0",
   "language": "julia",
   "name": "julia-0.5"
  },
  "language_info": {
   "file_extension": ".jl",
   "mimetype": "application/julia",
   "name": "julia",
   "version": "0.5.0"
  }
 },
 "nbformat": 4,
 "nbformat_minor": 0
}
