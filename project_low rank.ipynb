{
 "cells": [
  {
   "cell_type": "code",
   "execution_count": 1,
   "metadata": {
    "collapsed": true
   },
   "outputs": [],
   "source": [
    "using DataFrames\n"
   ]
  },
  {
   "cell_type": "code",
   "execution_count": 2,
   "metadata": {
    "collapsed": false
   },
   "outputs": [
    {
     "name": "stderr",
     "output_type": "stream",
     "text": [
      "INFO: Checking out LowRankModels master...\n",
      "INFO: Pulling LowRankModels latest master...\n",
      "INFO: No packages to install, update or remove\n"
     ]
    }
   ],
   "source": [
    "Pkg.checkout(\"LowRankModels\")\n",
    "using LowRankModels, PyPlot"
   ]
  },
  {
   "cell_type": "code",
   "execution_count": 19,
   "metadata": {
    "collapsed": false
   },
   "outputs": [],
   "source": [
    "# example\n",
    "#Y = readtable(\"original_excludingmissing.csv\", separator = ',');\n",
    "Y = readtable(\"original_full.csv\", separator = ',');\n"
   ]
  },
  {
   "cell_type": "code",
   "execution_count": 16,
   "metadata": {
    "collapsed": false
   },
   "outputs": [
    {
     "data": {
      "text/plain": [
       "1938-element DataArrays.DataArray{Int64,1}:\n",
       "  5619\n",
       "  5625\n",
       " 13251\n",
       " 13986\n",
       " 13991\n",
       " 13984\n",
       " 13989\n",
       " 13981\n",
       " 13982\n",
       " 12537\n",
       " 12540\n",
       " 12538\n",
       "  5620\n",
       "     ⋮\n",
       " 13939\n",
       "  1282\n",
       "   694\n",
       "  1298\n",
       "  6681\n",
       " 11226\n",
       " 11385\n",
       "  8455\n",
       "   592\n",
       "   593\n",
       "  7213\n",
       "   603"
      ]
     },
     "execution_count": 16,
     "metadata": {},
     "output_type": "execute_result"
    }
   ],
   "source": [
    "uniquefamilies = unique(Y[:FAMILY])"
   ]
  },
  {
   "cell_type": "code",
   "execution_count": 17,
   "metadata": {
    "collapsed": false
   },
   "outputs": [
    {
     "data": {
      "text/html": [
       "<table class=\"data-frame\"><tr><th></th><th>YEAR</th><th>EXPERIMENT</th><th>LOCATION</th><th>VARIETY</th><th>FAMILY</th><th>CHECK</th><th>RM</th><th>REPNO</th><th>YIELD</th><th>CLASS_OF</th><th>GRAD</th><th>BAGSOLD</th><th>x13</th></tr><tr><th>1</th><td>2009</td><td>52</td><td>3210</td><td>16</td><td>5619</td><td>1</td><td>3.9</td><td>1</td><td>50.3023273</td><td>.</td><td>.</td><td>.</td><td>0</td></tr><tr><th>2</th><td>2009</td><td>52</td><td>3210</td><td>16</td><td>5619</td><td>1</td><td>3.9</td><td>2</td><td>48.3313053</td><td>.</td><td>.</td><td>.</td><td>0</td></tr><tr><th>3</th><td>2009</td><td>52</td><td>3210</td><td>18</td><td>5619</td><td>1</td><td>3.7</td><td>1</td><td>53.1032456</td><td>.</td><td>.</td><td>.</td><td>0</td></tr><tr><th>4</th><td>2009</td><td>52</td><td>3210</td><td>18</td><td>5619</td><td>1</td><td>3.7</td><td>2</td><td>53.1032456</td><td>.</td><td>.</td><td>.</td><td>0</td></tr><tr><th>5</th><td>2009</td><td>52</td><td>3210</td><td>39</td><td>5625</td><td>1</td><td>3.4</td><td>1</td><td>58.0811359</td><td>.</td><td>.</td><td>.</td><td>0</td></tr><tr><th>6</th><td>2009</td><td>52</td><td>3210</td><td>39</td><td>5625</td><td>1</td><td>3.4</td><td>2</td><td>58.2893163</td><td>.</td><td>.</td><td>.</td><td>0</td></tr></table>"
      ],
      "text/plain": [
       "6×13 DataFrames.DataFrame\n",
       "│ Row │ YEAR │ EXPERIMENT │ LOCATION │ VARIETY │ FAMILY │ CHECK │ RM  │ REPNO │\n",
       "├─────┼──────┼────────────┼──────────┼─────────┼────────┼───────┼─────┼───────┤\n",
       "│ 1   │ 2009 │ 52         │ \"3210\"   │ 16      │ 5619   │ 1     │ 3.9 │ 1     │\n",
       "│ 2   │ 2009 │ 52         │ \"3210\"   │ 16      │ 5619   │ 1     │ 3.9 │ 2     │\n",
       "│ 3   │ 2009 │ 52         │ \"3210\"   │ 18      │ 5619   │ 1     │ 3.7 │ 1     │\n",
       "│ 4   │ 2009 │ 52         │ \"3210\"   │ 18      │ 5619   │ 1     │ 3.7 │ 2     │\n",
       "│ 5   │ 2009 │ 52         │ \"3210\"   │ 39      │ 5625   │ 1     │ 3.4 │ 1     │\n",
       "│ 6   │ 2009 │ 52         │ \"3210\"   │ 39      │ 5625   │ 1     │ 3.4 │ 2     │\n",
       "\n",
       "│ Row │ YIELD   │ CLASS_OF │ GRAD │ BAGSOLD │ x13 │\n",
       "├─────┼─────────┼──────────┼──────┼─────────┼─────┤\n",
       "│ 1   │ 50.3023 │ \".\"      │ \".\"  │ \".\"     │ 0   │\n",
       "│ 2   │ 48.3313 │ \".\"      │ \".\"  │ \".\"     │ 0   │\n",
       "│ 3   │ 53.1032 │ \".\"      │ \".\"  │ \".\"     │ 0   │\n",
       "│ 4   │ 53.1032 │ \".\"      │ \".\"  │ \".\"     │ 0   │\n",
       "│ 5   │ 58.0811 │ \".\"      │ \".\"  │ \".\"     │ 0   │\n",
       "│ 6   │ 58.2893 │ \".\"      │ \".\"  │ \".\"     │ 0   │"
      ]
     },
     "execution_count": 17,
     "metadata": {},
     "output_type": "execute_result"
    }
   ],
   "source": [
    "Y[13] = 0\n",
    "head(Y)"
   ]
  },
  {
   "cell_type": "code",
   "execution_count": 18,
   "metadata": {
    "collapsed": false
   },
   "outputs": [],
   "source": [
    "for i in 1:size(Y)[1]\n",
    "    for j in 1:size(uniquefamilies)[1]\n",
    "        if (Y[i,:FAMILY] == uniquefamilies[j])\n",
    "            Y[i,13] =j\n",
    "        end\n",
    "    end\n",
    "end\n",
    "                \n",
    "            "
   ]
  },
  {
   "cell_type": "code",
   "execution_count": 13,
   "metadata": {
    "collapsed": false
   },
   "outputs": [
    {
     "data": {
      "text/html": [
       "<table class=\"data-frame\"><tr><th></th><th>YEAR</th><th>EXPERIMENT</th><th>LOCATION</th><th>VARIETY</th><th>FAMILY</th><th>CHECK</th><th>RM</th><th>REPNO</th><th>YIELD</th><th>CLASS_OF</th><th>GRAD</th><th>BAGSOLD</th><th>x13</th></tr><tr><th>1</th><td>2009</td><td>52</td><td>3210</td><td>16</td><td>5619</td><td>1</td><td>3.9</td><td>1</td><td>50.3023273</td><td>.</td><td>.</td><td>.</td><td>0</td></tr><tr><th>2</th><td>2009</td><td>52</td><td>3210</td><td>16</td><td>5619</td><td>1</td><td>3.9</td><td>2</td><td>48.3313053</td><td>.</td><td>.</td><td>.</td><td>0</td></tr><tr><th>3</th><td>2009</td><td>52</td><td>3210</td><td>18</td><td>5619</td><td>1</td><td>3.7</td><td>1</td><td>53.1032456</td><td>.</td><td>.</td><td>.</td><td>0</td></tr><tr><th>4</th><td>2009</td><td>52</td><td>3210</td><td>18</td><td>5619</td><td>1</td><td>3.7</td><td>2</td><td>53.1032456</td><td>.</td><td>.</td><td>.</td><td>0</td></tr><tr><th>5</th><td>2009</td><td>52</td><td>3210</td><td>39</td><td>5625</td><td>1</td><td>3.4</td><td>1</td><td>58.0811359</td><td>.</td><td>.</td><td>.</td><td>0</td></tr><tr><th>6</th><td>2009</td><td>52</td><td>3210</td><td>39</td><td>5625</td><td>1</td><td>3.4</td><td>2</td><td>58.2893163</td><td>.</td><td>.</td><td>.</td><td>0</td></tr></table>"
      ],
      "text/plain": [
       "6×13 DataFrames.DataFrame\n",
       "│ Row │ YEAR │ EXPERIMENT │ LOCATION │ VARIETY │ FAMILY │ CHECK │ RM  │ REPNO │\n",
       "├─────┼──────┼────────────┼──────────┼─────────┼────────┼───────┼─────┼───────┤\n",
       "│ 1   │ 2009 │ 52         │ \"3210\"   │ 16      │ 5619   │ 1     │ 3.9 │ 1     │\n",
       "│ 2   │ 2009 │ 52         │ \"3210\"   │ 16      │ 5619   │ 1     │ 3.9 │ 2     │\n",
       "│ 3   │ 2009 │ 52         │ \"3210\"   │ 18      │ 5619   │ 1     │ 3.7 │ 1     │\n",
       "│ 4   │ 2009 │ 52         │ \"3210\"   │ 18      │ 5619   │ 1     │ 3.7 │ 2     │\n",
       "│ 5   │ 2009 │ 52         │ \"3210\"   │ 39      │ 5625   │ 1     │ 3.4 │ 1     │\n",
       "│ 6   │ 2009 │ 52         │ \"3210\"   │ 39      │ 5625   │ 1     │ 3.4 │ 2     │\n",
       "\n",
       "│ Row │ YIELD   │ CLASS_OF │ GRAD │ BAGSOLD │ x13 │\n",
       "├─────┼─────────┼──────────┼──────┼─────────┼─────┤\n",
       "│ 1   │ 50.3023 │ \".\"      │ \".\"  │ \".\"     │ 0   │\n",
       "│ 2   │ 48.3313 │ \".\"      │ \".\"  │ \".\"     │ 0   │\n",
       "│ 3   │ 53.1032 │ \".\"      │ \".\"  │ \".\"     │ 0   │\n",
       "│ 4   │ 53.1032 │ \".\"      │ \".\"  │ \".\"     │ 0   │\n",
       "│ 5   │ 58.0811 │ \".\"      │ \".\"  │ \".\"     │ 0   │\n",
       "│ 6   │ 58.2893 │ \".\"      │ \".\"  │ \".\"     │ 0   │"
      ]
     },
     "execution_count": 13,
     "metadata": {},
     "output_type": "execute_result"
    }
   ],
   "source": [
    "Y[14:16] = copy(Y[[:CLASS_OF, :GRAD, :BAGSOLD]])\n",
    "delete!(Y, [:CLASS_OF, :GRAD, :BAGSOLD])\n",
    "head(Y)        "
   ]
  },
  {
   "cell_type": "code",
   "execution_count": 20,
   "metadata": {
    "collapsed": false
   },
   "outputs": [
    {
     "data": {
      "text/html": [
       "<table class=\"data-frame\"><tr><th></th><th>YEAR</th><th>EXPERIMENT</th><th>LOCATION</th><th>VARIETY</th><th>FAMILY</th><th>CHECK</th><th>RM</th><th>REPNO</th><th>YIELD</th><th>CLASS_OF</th><th>GRAD</th><th>BAGSOLD</th></tr><tr><th>1</th><td>2009</td><td>52</td><td>3210</td><td>16</td><td>5619</td><td>1</td><td>3.9</td><td>1</td><td>50.3023273</td><td>.</td><td>.</td><td>.</td></tr><tr><th>2</th><td>2009</td><td>52</td><td>3210</td><td>16</td><td>5619</td><td>1</td><td>3.9</td><td>2</td><td>48.3313053</td><td>.</td><td>.</td><td>.</td></tr><tr><th>3</th><td>2009</td><td>52</td><td>3210</td><td>18</td><td>5619</td><td>1</td><td>3.7</td><td>1</td><td>53.1032456</td><td>.</td><td>.</td><td>.</td></tr><tr><th>4</th><td>2009</td><td>52</td><td>3210</td><td>18</td><td>5619</td><td>1</td><td>3.7</td><td>2</td><td>53.1032456</td><td>.</td><td>.</td><td>.</td></tr><tr><th>5</th><td>2009</td><td>52</td><td>3210</td><td>39</td><td>5625</td><td>1</td><td>3.4</td><td>1</td><td>58.0811359</td><td>.</td><td>.</td><td>.</td></tr><tr><th>6</th><td>2009</td><td>52</td><td>3210</td><td>39</td><td>5625</td><td>1</td><td>3.4</td><td>2</td><td>58.2893163</td><td>.</td><td>.</td><td>.</td></tr></table>"
      ],
      "text/plain": [
       "6×12 DataFrames.DataFrame\n",
       "│ Row │ YEAR │ EXPERIMENT │ LOCATION │ VARIETY │ FAMILY │ CHECK │ RM  │ REPNO │\n",
       "├─────┼──────┼────────────┼──────────┼─────────┼────────┼───────┼─────┼───────┤\n",
       "│ 1   │ 2009 │ 52         │ \"3210\"   │ 16      │ 5619   │ 1     │ 3.9 │ 1     │\n",
       "│ 2   │ 2009 │ 52         │ \"3210\"   │ 16      │ 5619   │ 1     │ 3.9 │ 2     │\n",
       "│ 3   │ 2009 │ 52         │ \"3210\"   │ 18      │ 5619   │ 1     │ 3.7 │ 1     │\n",
       "│ 4   │ 2009 │ 52         │ \"3210\"   │ 18      │ 5619   │ 1     │ 3.7 │ 2     │\n",
       "│ 5   │ 2009 │ 52         │ \"3210\"   │ 39      │ 5625   │ 1     │ 3.4 │ 1     │\n",
       "│ 6   │ 2009 │ 52         │ \"3210\"   │ 39      │ 5625   │ 1     │ 3.4 │ 2     │\n",
       "\n",
       "│ Row │ YIELD   │ CLASS_OF │ GRAD │ BAGSOLD │\n",
       "├─────┼─────────┼──────────┼──────┼─────────┤\n",
       "│ 1   │ 50.3023 │ \".\"      │ \".\"  │ \".\"     │\n",
       "│ 2   │ 48.3313 │ \".\"      │ \".\"  │ \".\"     │\n",
       "│ 3   │ 53.1032 │ \".\"      │ \".\"  │ \".\"     │\n",
       "│ 4   │ 53.1032 │ \".\"      │ \".\"  │ \".\"     │\n",
       "│ 5   │ 58.0811 │ \".\"      │ \".\"  │ \".\"     │\n",
       "│ 6   │ 58.2893 │ \".\"      │ \".\"  │ \".\"     │"
      ]
     },
     "execution_count": 20,
     "metadata": {},
     "output_type": "execute_result"
    }
   ],
   "source": [
    "head(Y)"
   ]
  },
  {
   "cell_type": "code",
   "execution_count": 37,
   "metadata": {
    "collapsed": false
   },
   "outputs": [],
   "source": [
    "names!(Y, [:YEAR, :EXPERIMENT, :LOCATION, :VARIETY, :FAMILY, :CHECK, :RM, :REPNO, :YIELD, :FAM_ENCODED, :CLASS_OF,:GRAD, :BAGSOLD]);\n"
   ]
  },
  {
   "cell_type": "code",
   "execution_count": 29,
   "metadata": {
    "collapsed": false
   },
   "outputs": [
    {
     "data": {
      "text/html": [
       "<table class=\"data-frame\"><tr><th></th><th>CHECK</th><th>RM</th><th>REPNO</th><th>YIELD</th><th>RM_GRP</th><th>YIELD_GRP</th><th>CLASS_ABSENT</th><th>FAM_SEGMENT1</th><th>FAM_SEGMENT2</th><th>FAM_SEGMENT3</th><th>FAM_SEGMENT4</th><th>FAM_SEGMENT5</th><th>CLASS_OF</th><th>GRAD</th><th>BAGSOLD</th></tr><tr><th>1</th><td>false</td><td>3.7</td><td>1</td><td>68.1337202</td><td>3</td><td>60</td><td>0</td><td>0</td><td>0</td><td>0</td><td>1</td><td>0</td><td>2011</td><td>0</td><td>0</td></tr><tr><th>2</th><td>false</td><td>3.7</td><td>2</td><td>74.8365336</td><td>3</td><td>70</td><td>0</td><td>0</td><td>0</td><td>0</td><td>1</td><td>0</td><td>2011</td><td>0</td><td>0</td></tr><tr><th>3</th><td>false</td><td>3.8</td><td>1</td><td>48.0276593</td><td>3</td><td>40</td><td>0</td><td>0</td><td>0</td><td>0</td><td>0</td><td>1</td><td>2011</td><td>0</td><td>0</td></tr><tr><th>4</th><td>false</td><td>3.8</td><td>2</td><td>52.4971433</td><td>3</td><td>50</td><td>0</td><td>0</td><td>0</td><td>0</td><td>0</td><td>1</td><td>2011</td><td>0</td><td>0</td></tr><tr><th>5</th><td>false</td><td>2.1</td><td>1</td><td>61.9242944</td><td>2</td><td>60</td><td>0</td><td>0</td><td>0</td><td>0</td><td>0</td><td>1</td><td>2011</td><td>1</td><td>61161</td></tr><tr><th>6</th><td>false</td><td>2.1</td><td>2</td><td>66.9426311</td><td>2</td><td>60</td><td>0</td><td>0</td><td>0</td><td>0</td><td>0</td><td>1</td><td>2011</td><td>1</td><td>61161</td></tr><tr><th>7</th><td>false</td><td>2.1</td><td>1</td><td>54.9561997</td><td>2</td><td>50</td><td>0</td><td>0</td><td>0</td><td>0</td><td>0</td><td>1</td><td>2011</td><td>1</td><td>61161</td></tr><tr><th>8</th><td>false</td><td>2.1</td><td>2</td><td>55.1584321</td><td>2</td><td>50</td><td>0</td><td>0</td><td>0</td><td>0</td><td>0</td><td>1</td><td>2011</td><td>1</td><td>61161</td></tr><tr><th>9</th><td>false</td><td>2.1</td><td>1</td><td>50.4189084</td><td>2</td><td>50</td><td>0</td><td>0</td><td>0</td><td>0</td><td>0</td><td>1</td><td>2011</td><td>1</td><td>61161</td></tr><tr><th>10</th><td>false</td><td>2.1</td><td>2</td><td>52.7375917</td><td>2</td><td>50</td><td>0</td><td>0</td><td>0</td><td>0</td><td>0</td><td>1</td><td>2011</td><td>1</td><td>61161</td></tr><tr><th>11</th><td>false</td><td>2.1</td><td>1</td><td>46.0781988</td><td>2</td><td>40</td><td>0</td><td>0</td><td>0</td><td>0</td><td>0</td><td>1</td><td>2011</td><td>1</td><td>61161</td></tr><tr><th>12</th><td>false</td><td>2.1</td><td>2</td><td>42.6891709</td><td>2</td><td>40</td><td>0</td><td>0</td><td>0</td><td>0</td><td>0</td><td>1</td><td>2011</td><td>1</td><td>61161</td></tr><tr><th>13</th><td>false</td><td>2.1</td><td>1</td><td>48.6864015</td><td>2</td><td>40</td><td>0</td><td>0</td><td>0</td><td>0</td><td>0</td><td>1</td><td>2011</td><td>1</td><td>61161</td></tr><tr><th>14</th><td>false</td><td>2.1</td><td>2</td><td>51.675723</td><td>2</td><td>50</td><td>0</td><td>0</td><td>0</td><td>0</td><td>0</td><td>1</td><td>2011</td><td>1</td><td>61161</td></tr><tr><th>15</th><td>false</td><td>2.1</td><td>1</td><td>41.5514652</td><td>2</td><td>40</td><td>0</td><td>0</td><td>0</td><td>0</td><td>0</td><td>1</td><td>2011</td><td>1</td><td>61161</td></tr><tr><th>16</th><td>false</td><td>2.1</td><td>2</td><td>48.8107149</td><td>2</td><td>40</td><td>0</td><td>0</td><td>0</td><td>0</td><td>0</td><td>1</td><td>2011</td><td>1</td><td>61161</td></tr><tr><th>17</th><td>false</td><td>2.1</td><td>1</td><td>52.607925</td><td>2</td><td>50</td><td>0</td><td>0</td><td>0</td><td>0</td><td>0</td><td>1</td><td>2011</td><td>1</td><td>61161</td></tr><tr><th>18</th><td>false</td><td>2.1</td><td>2</td><td>52.273052</td><td>2</td><td>50</td><td>0</td><td>0</td><td>0</td><td>0</td><td>0</td><td>1</td><td>2011</td><td>1</td><td>61161</td></tr><tr><th>19</th><td>false</td><td>2.1</td><td>1</td><td>58.0818794</td><td>2</td><td>50</td><td>0</td><td>0</td><td>0</td><td>0</td><td>0</td><td>1</td><td>2011</td><td>1</td><td>61161</td></tr><tr><th>20</th><td>false</td><td>2.1</td><td>2</td><td>55.9593317</td><td>2</td><td>50</td><td>0</td><td>0</td><td>0</td><td>0</td><td>0</td><td>1</td><td>2011</td><td>1</td><td>61161</td></tr><tr><th>21</th><td>false</td><td>3.0</td><td>1</td><td>70.0321766</td><td>3</td><td>70</td><td>0</td><td>0</td><td>0</td><td>1</td><td>0</td><td>0</td><td>2013</td><td>0</td><td>0</td></tr><tr><th>22</th><td>false</td><td>3.0</td><td>2</td><td>66.9048612</td><td>3</td><td>60</td><td>0</td><td>0</td><td>0</td><td>1</td><td>0</td><td>0</td><td>2013</td><td>0</td><td>0</td></tr><tr><th>23</th><td>false</td><td>3.0</td><td>1</td><td>53.0831711</td><td>3</td><td>50</td><td>0</td><td>0</td><td>0</td><td>1</td><td>0</td><td>0</td><td>2013</td><td>0</td><td>0</td></tr><tr><th>24</th><td>false</td><td>3.0</td><td>2</td><td>63.4673571</td><td>3</td><td>60</td><td>0</td><td>0</td><td>0</td><td>1</td><td>0</td><td>0</td><td>2013</td><td>0</td><td>0</td></tr><tr><th>25</th><td>false</td><td>3.0</td><td>1</td><td>59.9804844</td><td>3</td><td>50</td><td>0</td><td>0</td><td>0</td><td>1</td><td>0</td><td>0</td><td>2013</td><td>0</td><td>0</td></tr><tr><th>26</th><td>false</td><td>3.0</td><td>2</td><td>59.6456114</td><td>3</td><td>50</td><td>0</td><td>0</td><td>0</td><td>1</td><td>0</td><td>0</td><td>2013</td><td>0</td><td>0</td></tr><tr><th>27</th><td>false</td><td>3.0</td><td>1</td><td>62.5488355</td><td>3</td><td>60</td><td>0</td><td>0</td><td>0</td><td>1</td><td>0</td><td>0</td><td>2013</td><td>0</td><td>0</td></tr><tr><th>28</th><td>false</td><td>3.0</td><td>2</td><td>49.1457366</td><td>3</td><td>40</td><td>0</td><td>0</td><td>0</td><td>1</td><td>0</td><td>0</td><td>2013</td><td>0</td><td>0</td></tr><tr><th>29</th><td>false</td><td>3.0</td><td>1</td><td>73.3279694</td><td>3</td><td>70</td><td>0</td><td>0</td><td>0</td><td>1</td><td>0</td><td>0</td><td>2013</td><td>0</td><td>0</td></tr><tr><th>30</th><td>false</td><td>3.0</td><td>2</td><td>82.9728176</td><td>3</td><td>80</td><td>0</td><td>0</td><td>0</td><td>1</td><td>0</td><td>0</td><td>2013</td><td>0</td><td>0</td></tr><tr><th>&vellip;</th><td>&vellip;</td><td>&vellip;</td><td>&vellip;</td><td>&vellip;</td><td>&vellip;</td><td>&vellip;</td><td>&vellip;</td><td>&vellip;</td><td>&vellip;</td><td>&vellip;</td><td>&vellip;</td><td>&vellip;</td><td>&vellip;</td><td>&vellip;</td><td>&vellip;</td></tr></table>"
      ],
      "text/plain": [
       "698×15 DataFrames.DataFrame\n",
       "│ Row │ CHECK │ RM  │ REPNO │ YIELD   │ RM_GRP │ YIELD_GRP │ CLASS_ABSENT │\n",
       "├─────┼───────┼─────┼───────┼─────────┼────────┼───────────┼──────────────┤\n",
       "│ 1   │ false │ 3.7 │ 1     │ 68.1337 │ 3      │ 60        │ 0            │\n",
       "│ 2   │ false │ 3.7 │ 2     │ 74.8365 │ 3      │ 70        │ 0            │\n",
       "│ 3   │ false │ 3.8 │ 1     │ 48.0277 │ 3      │ 40        │ 0            │\n",
       "│ 4   │ false │ 3.8 │ 2     │ 52.4971 │ 3      │ 50        │ 0            │\n",
       "│ 5   │ false │ 2.1 │ 1     │ 61.9243 │ 2      │ 60        │ 0            │\n",
       "│ 6   │ false │ 2.1 │ 2     │ 66.9426 │ 2      │ 60        │ 0            │\n",
       "│ 7   │ false │ 2.1 │ 1     │ 54.9562 │ 2      │ 50        │ 0            │\n",
       "│ 8   │ false │ 2.1 │ 2     │ 55.1584 │ 2      │ 50        │ 0            │\n",
       "│ 9   │ false │ 2.1 │ 1     │ 50.4189 │ 2      │ 50        │ 0            │\n",
       "│ 10  │ false │ 2.1 │ 2     │ 52.7376 │ 2      │ 50        │ 0            │\n",
       "│ 11  │ false │ 2.1 │ 1     │ 46.0782 │ 2      │ 40        │ 0            │\n",
       "⋮\n",
       "│ 687 │ false │ 2.6 │ 1     │ 45.2624 │ 2      │ 40        │ 0            │\n",
       "│ 688 │ false │ 2.6 │ 2     │ 47.2671 │ 2      │ 40        │ 0            │\n",
       "│ 689 │ false │ 3.0 │ 1     │ 50.2696 │ 3      │ 50        │ 0            │\n",
       "│ 690 │ false │ 3.0 │ 2     │ 56.1796 │ 3      │ 50        │ 0            │\n",
       "│ 691 │ false │ 2.7 │ 1     │ 47.9668 │ 2      │ 40        │ 0            │\n",
       "│ 692 │ false │ 2.6 │ 1     │ 63.3768 │ 2      │ 60        │ 0            │\n",
       "│ 693 │ false │ 2.6 │ 2     │ 61.7972 │ 2      │ 60        │ 0            │\n",
       "│ 694 │ false │ 3.0 │ 2     │ 50.5935 │ 3      │ 50        │ 0            │\n",
       "│ 695 │ false │ 3.0 │ 1     │ 59.6932 │ 3      │ 50        │ 0            │\n",
       "│ 696 │ false │ 3.0 │ 2     │ 64.2192 │ 3      │ 60        │ 0            │\n",
       "│ 697 │ false │ 2.7 │ 1     │ 69.0795 │ 2      │ 60        │ 0            │\n",
       "│ 698 │ false │ 2.7 │ 2     │ 69.0899 │ 2      │ 60        │ 0            │\n",
       "\n",
       "│ Row │ FAM_SEGMENT1 │ FAM_SEGMENT2 │ FAM_SEGMENT3 │ FAM_SEGMENT4 │\n",
       "├─────┼──────────────┼──────────────┼──────────────┼──────────────┤\n",
       "│ 1   │ 0            │ 0            │ 0            │ 1            │\n",
       "│ 2   │ 0            │ 0            │ 0            │ 1            │\n",
       "│ 3   │ 0            │ 0            │ 0            │ 0            │\n",
       "│ 4   │ 0            │ 0            │ 0            │ 0            │\n",
       "│ 5   │ 0            │ 0            │ 0            │ 0            │\n",
       "│ 6   │ 0            │ 0            │ 0            │ 0            │\n",
       "│ 7   │ 0            │ 0            │ 0            │ 0            │\n",
       "│ 8   │ 0            │ 0            │ 0            │ 0            │\n",
       "│ 9   │ 0            │ 0            │ 0            │ 0            │\n",
       "│ 10  │ 0            │ 0            │ 0            │ 0            │\n",
       "│ 11  │ 0            │ 0            │ 0            │ 0            │\n",
       "⋮\n",
       "│ 687 │ 1            │ 0            │ 0            │ 0            │\n",
       "│ 688 │ 1            │ 0            │ 0            │ 0            │\n",
       "│ 689 │ 0            │ 0            │ 1            │ 0            │\n",
       "│ 690 │ 0            │ 0            │ 1            │ 0            │\n",
       "│ 691 │ 1            │ 0            │ 0            │ 0            │\n",
       "│ 692 │ 1            │ 0            │ 0            │ 0            │\n",
       "│ 693 │ 1            │ 0            │ 0            │ 0            │\n",
       "│ 694 │ 0            │ 1            │ 0            │ 0            │\n",
       "│ 695 │ 0            │ 0            │ 1            │ 0            │\n",
       "│ 696 │ 0            │ 0            │ 1            │ 0            │\n",
       "│ 697 │ 1            │ 0            │ 0            │ 0            │\n",
       "│ 698 │ 1            │ 0            │ 0            │ 0            │\n",
       "\n",
       "│ Row │ FAM_SEGMENT5 │ CLASS_OF │ GRAD │ BAGSOLD │\n",
       "├─────┼──────────────┼──────────┼──────┼─────────┤\n",
       "│ 1   │ 0            │ 2011     │ 0    │ 0       │\n",
       "│ 2   │ 0            │ 2011     │ 0    │ 0       │\n",
       "│ 3   │ 1            │ 2011     │ 0    │ 0       │\n",
       "│ 4   │ 1            │ 2011     │ 0    │ 0       │\n",
       "│ 5   │ 1            │ 2011     │ 1    │ 61161   │\n",
       "│ 6   │ 1            │ 2011     │ 1    │ 61161   │\n",
       "│ 7   │ 1            │ 2011     │ 1    │ 61161   │\n",
       "│ 8   │ 1            │ 2011     │ 1    │ 61161   │\n",
       "│ 9   │ 1            │ 2011     │ 1    │ 61161   │\n",
       "│ 10  │ 1            │ 2011     │ 1    │ 61161   │\n",
       "│ 11  │ 1            │ 2011     │ 1    │ 61161   │\n",
       "⋮\n",
       "│ 687 │ 0            │ 2011     │ 0    │ 0       │\n",
       "│ 688 │ 0            │ 2011     │ 0    │ 0       │\n",
       "│ 689 │ 0            │ 2011     │ 1    │ 871341  │\n",
       "│ 690 │ 0            │ 2011     │ 1    │ 871341  │\n",
       "│ 691 │ 0            │ 2011     │ 0    │ 0       │\n",
       "│ 692 │ 0            │ 2011     │ 0    │ 0       │\n",
       "│ 693 │ 0            │ 2011     │ 0    │ 0       │\n",
       "│ 694 │ 0            │ 2013     │ 0    │ 0       │\n",
       "│ 695 │ 0            │ 2011     │ 1    │ 871341  │\n",
       "│ 696 │ 0            │ 2011     │ 1    │ 871341  │\n",
       "│ 697 │ 0            │ 2011     │ 0    │ 0       │\n",
       "│ 698 │ 0            │ 2011     │ 0    │ 0       │"
      ]
     },
     "execution_count": 29,
     "metadata": {},
     "output_type": "execute_result"
    }
   ],
   "source": [
    "y  = readtable(\"training[2].csv\", separator = ',')\n",
    "head(y)\n",
    "y = y[6:end]\n"
   ]
  },
  {
   "cell_type": "code",
   "execution_count": 34,
   "metadata": {
    "collapsed": false
   },
   "outputs": [
    {
     "data": {
      "text/html": [
       "<table class=\"data-frame\"><tr><th></th><th>CHECK</th><th>RM</th><th>YIELD</th><th>CLASS_ABSENT</th><th>FAM_SEGMENT1</th><th>FAM_SEGMENT2</th><th>FAM_SEGMENT3</th><th>FAM_SEGMENT4</th><th>FAM_SEGMENT5</th><th>CLASS_OF</th><th>GRAD</th><th>BAGSOLD</th></tr><tr><th>1</th><td>false</td><td>3.7</td><td>68.1337202</td><td>0</td><td>0</td><td>0</td><td>0</td><td>1</td><td>0</td><td>2011</td><td>0</td><td>0</td></tr><tr><th>2</th><td>false</td><td>3.7</td><td>74.8365336</td><td>0</td><td>0</td><td>0</td><td>0</td><td>1</td><td>0</td><td>2011</td><td>0</td><td>0</td></tr><tr><th>3</th><td>false</td><td>3.8</td><td>48.0276593</td><td>0</td><td>0</td><td>0</td><td>0</td><td>0</td><td>1</td><td>2011</td><td>0</td><td>0</td></tr><tr><th>4</th><td>false</td><td>3.8</td><td>52.4971433</td><td>0</td><td>0</td><td>0</td><td>0</td><td>0</td><td>1</td><td>2011</td><td>0</td><td>0</td></tr><tr><th>5</th><td>false</td><td>2.1</td><td>61.9242944</td><td>0</td><td>0</td><td>0</td><td>0</td><td>0</td><td>1</td><td>2011</td><td>1</td><td>61161</td></tr><tr><th>6</th><td>false</td><td>2.1</td><td>66.9426311</td><td>0</td><td>0</td><td>0</td><td>0</td><td>0</td><td>1</td><td>2011</td><td>1</td><td>61161</td></tr><tr><th>7</th><td>false</td><td>2.1</td><td>54.9561997</td><td>0</td><td>0</td><td>0</td><td>0</td><td>0</td><td>1</td><td>2011</td><td>1</td><td>61161</td></tr><tr><th>8</th><td>false</td><td>2.1</td><td>55.1584321</td><td>0</td><td>0</td><td>0</td><td>0</td><td>0</td><td>1</td><td>2011</td><td>1</td><td>61161</td></tr><tr><th>9</th><td>false</td><td>2.1</td><td>50.4189084</td><td>0</td><td>0</td><td>0</td><td>0</td><td>0</td><td>1</td><td>2011</td><td>1</td><td>61161</td></tr><tr><th>10</th><td>false</td><td>2.1</td><td>52.7375917</td><td>0</td><td>0</td><td>0</td><td>0</td><td>0</td><td>1</td><td>2011</td><td>1</td><td>61161</td></tr><tr><th>11</th><td>false</td><td>2.1</td><td>46.0781988</td><td>0</td><td>0</td><td>0</td><td>0</td><td>0</td><td>1</td><td>2011</td><td>1</td><td>61161</td></tr><tr><th>12</th><td>false</td><td>2.1</td><td>42.6891709</td><td>0</td><td>0</td><td>0</td><td>0</td><td>0</td><td>1</td><td>2011</td><td>1</td><td>61161</td></tr><tr><th>13</th><td>false</td><td>2.1</td><td>48.6864015</td><td>0</td><td>0</td><td>0</td><td>0</td><td>0</td><td>1</td><td>2011</td><td>1</td><td>61161</td></tr><tr><th>14</th><td>false</td><td>2.1</td><td>51.675723</td><td>0</td><td>0</td><td>0</td><td>0</td><td>0</td><td>1</td><td>2011</td><td>1</td><td>61161</td></tr><tr><th>15</th><td>false</td><td>2.1</td><td>41.5514652</td><td>0</td><td>0</td><td>0</td><td>0</td><td>0</td><td>1</td><td>2011</td><td>1</td><td>61161</td></tr><tr><th>16</th><td>false</td><td>2.1</td><td>48.8107149</td><td>0</td><td>0</td><td>0</td><td>0</td><td>0</td><td>1</td><td>2011</td><td>1</td><td>61161</td></tr><tr><th>17</th><td>false</td><td>2.1</td><td>52.607925</td><td>0</td><td>0</td><td>0</td><td>0</td><td>0</td><td>1</td><td>2011</td><td>1</td><td>61161</td></tr><tr><th>18</th><td>false</td><td>2.1</td><td>52.273052</td><td>0</td><td>0</td><td>0</td><td>0</td><td>0</td><td>1</td><td>2011</td><td>1</td><td>61161</td></tr><tr><th>19</th><td>false</td><td>2.1</td><td>58.0818794</td><td>0</td><td>0</td><td>0</td><td>0</td><td>0</td><td>1</td><td>2011</td><td>1</td><td>61161</td></tr><tr><th>20</th><td>false</td><td>2.1</td><td>55.9593317</td><td>0</td><td>0</td><td>0</td><td>0</td><td>0</td><td>1</td><td>2011</td><td>1</td><td>61161</td></tr><tr><th>21</th><td>false</td><td>3.0</td><td>70.0321766</td><td>0</td><td>0</td><td>0</td><td>1</td><td>0</td><td>0</td><td>2013</td><td>0</td><td>0</td></tr><tr><th>22</th><td>false</td><td>3.0</td><td>66.9048612</td><td>0</td><td>0</td><td>0</td><td>1</td><td>0</td><td>0</td><td>2013</td><td>0</td><td>0</td></tr><tr><th>23</th><td>false</td><td>3.0</td><td>53.0831711</td><td>0</td><td>0</td><td>0</td><td>1</td><td>0</td><td>0</td><td>2013</td><td>0</td><td>0</td></tr><tr><th>24</th><td>false</td><td>3.0</td><td>63.4673571</td><td>0</td><td>0</td><td>0</td><td>1</td><td>0</td><td>0</td><td>2013</td><td>0</td><td>0</td></tr><tr><th>25</th><td>false</td><td>3.0</td><td>59.9804844</td><td>0</td><td>0</td><td>0</td><td>1</td><td>0</td><td>0</td><td>2013</td><td>0</td><td>0</td></tr><tr><th>26</th><td>false</td><td>3.0</td><td>59.6456114</td><td>0</td><td>0</td><td>0</td><td>1</td><td>0</td><td>0</td><td>2013</td><td>0</td><td>0</td></tr><tr><th>27</th><td>false</td><td>3.0</td><td>62.5488355</td><td>0</td><td>0</td><td>0</td><td>1</td><td>0</td><td>0</td><td>2013</td><td>0</td><td>0</td></tr><tr><th>28</th><td>false</td><td>3.0</td><td>49.1457366</td><td>0</td><td>0</td><td>0</td><td>1</td><td>0</td><td>0</td><td>2013</td><td>0</td><td>0</td></tr><tr><th>29</th><td>false</td><td>3.0</td><td>73.3279694</td><td>0</td><td>0</td><td>0</td><td>1</td><td>0</td><td>0</td><td>2013</td><td>0</td><td>0</td></tr><tr><th>30</th><td>false</td><td>3.0</td><td>82.9728176</td><td>0</td><td>0</td><td>0</td><td>1</td><td>0</td><td>0</td><td>2013</td><td>0</td><td>0</td></tr><tr><th>&vellip;</th><td>&vellip;</td><td>&vellip;</td><td>&vellip;</td><td>&vellip;</td><td>&vellip;</td><td>&vellip;</td><td>&vellip;</td><td>&vellip;</td><td>&vellip;</td><td>&vellip;</td><td>&vellip;</td><td>&vellip;</td></tr></table>"
      ],
      "text/plain": [
       "698×12 DataFrames.DataFrame\n",
       "│ Row │ CHECK │ RM  │ YIELD   │ CLASS_ABSENT │ FAM_SEGMENT1 │ FAM_SEGMENT2 │\n",
       "├─────┼───────┼─────┼─────────┼──────────────┼──────────────┼──────────────┤\n",
       "│ 1   │ false │ 3.7 │ 68.1337 │ 0            │ 0            │ 0            │\n",
       "│ 2   │ false │ 3.7 │ 74.8365 │ 0            │ 0            │ 0            │\n",
       "│ 3   │ false │ 3.8 │ 48.0277 │ 0            │ 0            │ 0            │\n",
       "│ 4   │ false │ 3.8 │ 52.4971 │ 0            │ 0            │ 0            │\n",
       "│ 5   │ false │ 2.1 │ 61.9243 │ 0            │ 0            │ 0            │\n",
       "│ 6   │ false │ 2.1 │ 66.9426 │ 0            │ 0            │ 0            │\n",
       "│ 7   │ false │ 2.1 │ 54.9562 │ 0            │ 0            │ 0            │\n",
       "│ 8   │ false │ 2.1 │ 55.1584 │ 0            │ 0            │ 0            │\n",
       "│ 9   │ false │ 2.1 │ 50.4189 │ 0            │ 0            │ 0            │\n",
       "│ 10  │ false │ 2.1 │ 52.7376 │ 0            │ 0            │ 0            │\n",
       "│ 11  │ false │ 2.1 │ 46.0782 │ 0            │ 0            │ 0            │\n",
       "⋮\n",
       "│ 687 │ false │ 2.6 │ 45.2624 │ 0            │ 1            │ 0            │\n",
       "│ 688 │ false │ 2.6 │ 47.2671 │ 0            │ 1            │ 0            │\n",
       "│ 689 │ false │ 3.0 │ 50.2696 │ 0            │ 0            │ 0            │\n",
       "│ 690 │ false │ 3.0 │ 56.1796 │ 0            │ 0            │ 0            │\n",
       "│ 691 │ false │ 2.7 │ 47.9668 │ 0            │ 1            │ 0            │\n",
       "│ 692 │ false │ 2.6 │ 63.3768 │ 0            │ 1            │ 0            │\n",
       "│ 693 │ false │ 2.6 │ 61.7972 │ 0            │ 1            │ 0            │\n",
       "│ 694 │ false │ 3.0 │ 50.5935 │ 0            │ 0            │ 1            │\n",
       "│ 695 │ false │ 3.0 │ 59.6932 │ 0            │ 0            │ 0            │\n",
       "│ 696 │ false │ 3.0 │ 64.2192 │ 0            │ 0            │ 0            │\n",
       "│ 697 │ false │ 2.7 │ 69.0795 │ 0            │ 1            │ 0            │\n",
       "│ 698 │ false │ 2.7 │ 69.0899 │ 0            │ 1            │ 0            │\n",
       "\n",
       "│ Row │ FAM_SEGMENT3 │ FAM_SEGMENT4 │ FAM_SEGMENT5 │ CLASS_OF │ GRAD │ BAGSOLD │\n",
       "├─────┼──────────────┼──────────────┼──────────────┼──────────┼──────┼─────────┤\n",
       "│ 1   │ 0            │ 1            │ 0            │ 2011     │ 0    │ 0       │\n",
       "│ 2   │ 0            │ 1            │ 0            │ 2011     │ 0    │ 0       │\n",
       "│ 3   │ 0            │ 0            │ 1            │ 2011     │ 0    │ 0       │\n",
       "│ 4   │ 0            │ 0            │ 1            │ 2011     │ 0    │ 0       │\n",
       "│ 5   │ 0            │ 0            │ 1            │ 2011     │ 1    │ 61161   │\n",
       "│ 6   │ 0            │ 0            │ 1            │ 2011     │ 1    │ 61161   │\n",
       "│ 7   │ 0            │ 0            │ 1            │ 2011     │ 1    │ 61161   │\n",
       "│ 8   │ 0            │ 0            │ 1            │ 2011     │ 1    │ 61161   │\n",
       "│ 9   │ 0            │ 0            │ 1            │ 2011     │ 1    │ 61161   │\n",
       "│ 10  │ 0            │ 0            │ 1            │ 2011     │ 1    │ 61161   │\n",
       "│ 11  │ 0            │ 0            │ 1            │ 2011     │ 1    │ 61161   │\n",
       "⋮\n",
       "│ 687 │ 0            │ 0            │ 0            │ 2011     │ 0    │ 0       │\n",
       "│ 688 │ 0            │ 0            │ 0            │ 2011     │ 0    │ 0       │\n",
       "│ 689 │ 1            │ 0            │ 0            │ 2011     │ 1    │ 871341  │\n",
       "│ 690 │ 1            │ 0            │ 0            │ 2011     │ 1    │ 871341  │\n",
       "│ 691 │ 0            │ 0            │ 0            │ 2011     │ 0    │ 0       │\n",
       "│ 692 │ 0            │ 0            │ 0            │ 2011     │ 0    │ 0       │\n",
       "│ 693 │ 0            │ 0            │ 0            │ 2011     │ 0    │ 0       │\n",
       "│ 694 │ 0            │ 0            │ 0            │ 2013     │ 0    │ 0       │\n",
       "│ 695 │ 1            │ 0            │ 0            │ 2011     │ 1    │ 871341  │\n",
       "│ 696 │ 1            │ 0            │ 0            │ 2011     │ 1    │ 871341  │\n",
       "│ 697 │ 0            │ 0            │ 0            │ 2011     │ 0    │ 0       │\n",
       "│ 698 │ 0            │ 0            │ 0            │ 2011     │ 0    │ 0       │"
      ]
     },
     "execution_count": 34,
     "metadata": {},
     "output_type": "execute_result"
    }
   ],
   "source": [
    "head(y)\n",
    "delete!(y,[:REPNO, :RM_GRP, :YIELD_GRP])\n"
   ]
  },
  {
   "cell_type": "code",
   "execution_count": 46,
   "metadata": {
    "collapsed": false
   },
   "outputs": [
    {
     "data": {
      "text/html": [
       "<table class=\"data-frame\"><tr><th></th><th>CHECK</th><th>RM</th><th>YIELD</th><th>CLASS_ABSENT</th><th>FAM_SEGMENT1</th><th>FAM_SEGMENT2</th><th>FAM_SEGMENT3</th><th>FAM_SEGMENT4</th><th>FAM_SEGMENT5</th><th>CLASS_OF</th><th>GRAD</th></tr><tr><th>1</th><td>false</td><td>3.7</td><td>68.1337202</td><td>0</td><td>0</td><td>0</td><td>0</td><td>1</td><td>0</td><td>2011</td><td>0</td></tr><tr><th>2</th><td>false</td><td>3.7</td><td>74.8365336</td><td>0</td><td>0</td><td>0</td><td>0</td><td>1</td><td>0</td><td>2011</td><td>0</td></tr><tr><th>3</th><td>false</td><td>3.8</td><td>48.0276593</td><td>0</td><td>0</td><td>0</td><td>0</td><td>0</td><td>1</td><td>2011</td><td>0</td></tr><tr><th>4</th><td>false</td><td>3.8</td><td>52.4971433</td><td>0</td><td>0</td><td>0</td><td>0</td><td>0</td><td>1</td><td>2011</td><td>0</td></tr><tr><th>5</th><td>false</td><td>2.1</td><td>61.9242944</td><td>0</td><td>0</td><td>0</td><td>0</td><td>0</td><td>1</td><td>2011</td><td>1</td></tr><tr><th>6</th><td>false</td><td>2.1</td><td>66.9426311</td><td>0</td><td>0</td><td>0</td><td>0</td><td>0</td><td>1</td><td>2011</td><td>1</td></tr><tr><th>7</th><td>false</td><td>2.1</td><td>54.9561997</td><td>0</td><td>0</td><td>0</td><td>0</td><td>0</td><td>1</td><td>2011</td><td>1</td></tr><tr><th>8</th><td>false</td><td>2.1</td><td>55.1584321</td><td>0</td><td>0</td><td>0</td><td>0</td><td>0</td><td>1</td><td>2011</td><td>1</td></tr><tr><th>9</th><td>false</td><td>2.1</td><td>50.4189084</td><td>0</td><td>0</td><td>0</td><td>0</td><td>0</td><td>1</td><td>2011</td><td>1</td></tr><tr><th>10</th><td>false</td><td>2.1</td><td>52.7375917</td><td>0</td><td>0</td><td>0</td><td>0</td><td>0</td><td>1</td><td>2011</td><td>1</td></tr><tr><th>11</th><td>false</td><td>2.1</td><td>46.0781988</td><td>0</td><td>0</td><td>0</td><td>0</td><td>0</td><td>1</td><td>2011</td><td>1</td></tr><tr><th>12</th><td>false</td><td>2.1</td><td>42.6891709</td><td>0</td><td>0</td><td>0</td><td>0</td><td>0</td><td>1</td><td>2011</td><td>1</td></tr><tr><th>13</th><td>false</td><td>2.1</td><td>48.6864015</td><td>0</td><td>0</td><td>0</td><td>0</td><td>0</td><td>1</td><td>2011</td><td>1</td></tr><tr><th>14</th><td>false</td><td>2.1</td><td>51.675723</td><td>0</td><td>0</td><td>0</td><td>0</td><td>0</td><td>1</td><td>2011</td><td>1</td></tr><tr><th>15</th><td>false</td><td>2.1</td><td>41.5514652</td><td>0</td><td>0</td><td>0</td><td>0</td><td>0</td><td>1</td><td>2011</td><td>1</td></tr><tr><th>16</th><td>false</td><td>2.1</td><td>48.8107149</td><td>0</td><td>0</td><td>0</td><td>0</td><td>0</td><td>1</td><td>2011</td><td>1</td></tr><tr><th>17</th><td>false</td><td>2.1</td><td>52.607925</td><td>0</td><td>0</td><td>0</td><td>0</td><td>0</td><td>1</td><td>2011</td><td>1</td></tr><tr><th>18</th><td>false</td><td>2.1</td><td>52.273052</td><td>0</td><td>0</td><td>0</td><td>0</td><td>0</td><td>1</td><td>2011</td><td>1</td></tr><tr><th>19</th><td>false</td><td>2.1</td><td>58.0818794</td><td>0</td><td>0</td><td>0</td><td>0</td><td>0</td><td>1</td><td>2011</td><td>1</td></tr><tr><th>20</th><td>false</td><td>2.1</td><td>55.9593317</td><td>0</td><td>0</td><td>0</td><td>0</td><td>0</td><td>1</td><td>2011</td><td>1</td></tr><tr><th>21</th><td>false</td><td>3.0</td><td>70.0321766</td><td>0</td><td>0</td><td>0</td><td>1</td><td>0</td><td>0</td><td>2013</td><td>0</td></tr><tr><th>22</th><td>false</td><td>3.0</td><td>66.9048612</td><td>0</td><td>0</td><td>0</td><td>1</td><td>0</td><td>0</td><td>2013</td><td>0</td></tr><tr><th>23</th><td>false</td><td>3.0</td><td>53.0831711</td><td>0</td><td>0</td><td>0</td><td>1</td><td>0</td><td>0</td><td>2013</td><td>0</td></tr><tr><th>24</th><td>false</td><td>3.0</td><td>63.4673571</td><td>0</td><td>0</td><td>0</td><td>1</td><td>0</td><td>0</td><td>2013</td><td>0</td></tr><tr><th>25</th><td>false</td><td>3.0</td><td>59.9804844</td><td>0</td><td>0</td><td>0</td><td>1</td><td>0</td><td>0</td><td>2013</td><td>0</td></tr><tr><th>26</th><td>false</td><td>3.0</td><td>59.6456114</td><td>0</td><td>0</td><td>0</td><td>1</td><td>0</td><td>0</td><td>2013</td><td>0</td></tr><tr><th>27</th><td>false</td><td>3.0</td><td>62.5488355</td><td>0</td><td>0</td><td>0</td><td>1</td><td>0</td><td>0</td><td>2013</td><td>0</td></tr><tr><th>28</th><td>false</td><td>3.0</td><td>49.1457366</td><td>0</td><td>0</td><td>0</td><td>1</td><td>0</td><td>0</td><td>2013</td><td>0</td></tr><tr><th>29</th><td>false</td><td>3.0</td><td>73.3279694</td><td>0</td><td>0</td><td>0</td><td>1</td><td>0</td><td>0</td><td>2013</td><td>0</td></tr><tr><th>30</th><td>false</td><td>3.0</td><td>82.9728176</td><td>0</td><td>0</td><td>0</td><td>1</td><td>0</td><td>0</td><td>2013</td><td>0</td></tr><tr><th>&vellip;</th><td>&vellip;</td><td>&vellip;</td><td>&vellip;</td><td>&vellip;</td><td>&vellip;</td><td>&vellip;</td><td>&vellip;</td><td>&vellip;</td><td>&vellip;</td><td>&vellip;</td><td>&vellip;</td></tr></table>"
      ],
      "text/plain": [
       "698×11 DataFrames.DataFrame\n",
       "│ Row │ CHECK │ RM  │ YIELD   │ CLASS_ABSENT │ FAM_SEGMENT1 │ FAM_SEGMENT2 │\n",
       "├─────┼───────┼─────┼─────────┼──────────────┼──────────────┼──────────────┤\n",
       "│ 1   │ false │ 3.7 │ 68.1337 │ 0            │ 0            │ 0            │\n",
       "│ 2   │ false │ 3.7 │ 74.8365 │ 0            │ 0            │ 0            │\n",
       "│ 3   │ false │ 3.8 │ 48.0277 │ 0            │ 0            │ 0            │\n",
       "│ 4   │ false │ 3.8 │ 52.4971 │ 0            │ 0            │ 0            │\n",
       "│ 5   │ false │ 2.1 │ 61.9243 │ 0            │ 0            │ 0            │\n",
       "│ 6   │ false │ 2.1 │ 66.9426 │ 0            │ 0            │ 0            │\n",
       "│ 7   │ false │ 2.1 │ 54.9562 │ 0            │ 0            │ 0            │\n",
       "│ 8   │ false │ 2.1 │ 55.1584 │ 0            │ 0            │ 0            │\n",
       "│ 9   │ false │ 2.1 │ 50.4189 │ 0            │ 0            │ 0            │\n",
       "│ 10  │ false │ 2.1 │ 52.7376 │ 0            │ 0            │ 0            │\n",
       "│ 11  │ false │ 2.1 │ 46.0782 │ 0            │ 0            │ 0            │\n",
       "⋮\n",
       "│ 687 │ false │ 2.6 │ 45.2624 │ 0            │ 1            │ 0            │\n",
       "│ 688 │ false │ 2.6 │ 47.2671 │ 0            │ 1            │ 0            │\n",
       "│ 689 │ false │ 3.0 │ 50.2696 │ 0            │ 0            │ 0            │\n",
       "│ 690 │ false │ 3.0 │ 56.1796 │ 0            │ 0            │ 0            │\n",
       "│ 691 │ false │ 2.7 │ 47.9668 │ 0            │ 1            │ 0            │\n",
       "│ 692 │ false │ 2.6 │ 63.3768 │ 0            │ 1            │ 0            │\n",
       "│ 693 │ false │ 2.6 │ 61.7972 │ 0            │ 1            │ 0            │\n",
       "│ 694 │ false │ 3.0 │ 50.5935 │ 0            │ 0            │ 1            │\n",
       "│ 695 │ false │ 3.0 │ 59.6932 │ 0            │ 0            │ 0            │\n",
       "│ 696 │ false │ 3.0 │ 64.2192 │ 0            │ 0            │ 0            │\n",
       "│ 697 │ false │ 2.7 │ 69.0795 │ 0            │ 1            │ 0            │\n",
       "│ 698 │ false │ 2.7 │ 69.0899 │ 0            │ 1            │ 0            │\n",
       "\n",
       "│ Row │ FAM_SEGMENT3 │ FAM_SEGMENT4 │ FAM_SEGMENT5 │ CLASS_OF │ GRAD │\n",
       "├─────┼──────────────┼──────────────┼──────────────┼──────────┼──────┤\n",
       "│ 1   │ 0            │ 1            │ 0            │ 2011     │ 0    │\n",
       "│ 2   │ 0            │ 1            │ 0            │ 2011     │ 0    │\n",
       "│ 3   │ 0            │ 0            │ 1            │ 2011     │ 0    │\n",
       "│ 4   │ 0            │ 0            │ 1            │ 2011     │ 0    │\n",
       "│ 5   │ 0            │ 0            │ 1            │ 2011     │ 1    │\n",
       "│ 6   │ 0            │ 0            │ 1            │ 2011     │ 1    │\n",
       "│ 7   │ 0            │ 0            │ 1            │ 2011     │ 1    │\n",
       "│ 8   │ 0            │ 0            │ 1            │ 2011     │ 1    │\n",
       "│ 9   │ 0            │ 0            │ 1            │ 2011     │ 1    │\n",
       "│ 10  │ 0            │ 0            │ 1            │ 2011     │ 1    │\n",
       "│ 11  │ 0            │ 0            │ 1            │ 2011     │ 1    │\n",
       "⋮\n",
       "│ 687 │ 0            │ 0            │ 0            │ 2011     │ 0    │\n",
       "│ 688 │ 0            │ 0            │ 0            │ 2011     │ 0    │\n",
       "│ 689 │ 1            │ 0            │ 0            │ 2011     │ 1    │\n",
       "│ 690 │ 1            │ 0            │ 0            │ 2011     │ 1    │\n",
       "│ 691 │ 0            │ 0            │ 0            │ 2011     │ 0    │\n",
       "│ 692 │ 0            │ 0            │ 0            │ 2011     │ 0    │\n",
       "│ 693 │ 0            │ 0            │ 0            │ 2011     │ 0    │\n",
       "│ 694 │ 0            │ 0            │ 0            │ 2013     │ 0    │\n",
       "│ 695 │ 1            │ 0            │ 0            │ 2011     │ 1    │\n",
       "│ 696 │ 1            │ 0            │ 0            │ 2011     │ 1    │\n",
       "│ 697 │ 0            │ 0            │ 0            │ 2011     │ 0    │\n",
       "│ 698 │ 0            │ 0            │ 0            │ 2011     │ 0    │"
      ]
     },
     "execution_count": 46,
     "metadata": {},
     "output_type": "execute_result"
    }
   ],
   "source": [
    "delete!(y,[:BAGSOLD])\n"
   ]
  },
  {
   "cell_type": "code",
   "execution_count": 51,
   "metadata": {
    "collapsed": false
   },
   "outputs": [
    {
     "name": "stdout",
     "output_type": "stream",
     "text": [
      "(size(y))[2] = 11\n",
      "Fitting GLRM\n"
     ]
    },
    {
     "ename": "LoadError",
     "evalue": "LoadError: MethodError: no method matching evaluate(::LowRankModels.OvALoss, ::Float64, ::Bool)\nClosest candidates are:\n  evaluate(!Matched::LowRankModels.LogisticLoss, ::Float64, ::Bool) at C:\\Users\\User\\.julia\\v0.5\\LowRankModels\\src\\losses.jl:297\n  evaluate(!Matched::LowRankModels.WeightedHingeLoss, ::Float64, ::Bool) at C:\\Users\\User\\.julia\\v0.5\\LowRankModels\\src\\losses.jl:320\n  evaluate(!Matched::LowRankModels.QuadLoss, ::Float64, ::Number) at C:\\Users\\User\\.julia\\v0.5\\LowRankModels\\src\\losses.jl:137\n  ...\nwhile loading In[51], in expression starting on line 5",
     "output_type": "error",
     "traceback": [
      "LoadError: MethodError: no method matching evaluate(::LowRankModels.OvALoss, ::Float64, ::Bool)\nClosest candidates are:\n  evaluate(!Matched::LowRankModels.LogisticLoss, ::Float64, ::Bool) at C:\\Users\\User\\.julia\\v0.5\\LowRankModels\\src\\losses.jl:297\n  evaluate(!Matched::LowRankModels.WeightedHingeLoss, ::Float64, ::Bool) at C:\\Users\\User\\.julia\\v0.5\\LowRankModels\\src\\losses.jl:320\n  evaluate(!Matched::LowRankModels.QuadLoss, ::Float64, ::Number) at C:\\Users\\User\\.julia\\v0.5\\LowRankModels\\src\\losses.jl:137\n  ...\nwhile loading In[51], in expression starting on line 5",
      "",
      " in #objective#45(::Array{Union{Int64,Range{Int64}},1}, ::Bool, ::Function, ::LowRankModels.GLRM, ::Array{Float64,2}, ::Array{Float64,2}, ::Array{Float64,2}) at C:\\Users\\User\\.julia\\v0.5\\LowRankModels\\src\\evaluate_fit.jl:15",
      " in (::LowRankModels.#kw##objective)(::Array{Any,1}, ::LowRankModels.#objective, ::LowRankModels.GLRM, ::Array{Float64,2}, ::Array{Float64,2}, ::Array{Float64,2}) at .\\<missing>:0",
      " in #fit!#67(::LowRankModels.ConvergenceHistory, ::Bool, ::Array{Any,1}, ::Function, ::LowRankModels.GLRM, ::LowRankModels.ProxGradParams) at C:\\Users\\User\\.julia\\v0.5\\LowRankModels\\src\\algorithms\\proxgrad_multithread.jl:76",
      " in #fit!#64(::Array{Any,1}, ::Function, ::LowRankModels.GLRM) at C:\\Users\\User\\.julia\\v0.5\\LowRankModels\\src\\fit.jl:18",
      " in fit!(::LowRankModels.GLRM) at C:\\Users\\User\\.julia\\v0.5\\LowRankModels\\src\\fit.jl:9"
     ]
    }
   ],
   "source": [
    "@show size(y)[2]\n",
    "loss = [OvALoss(), QuadLoss(), QuadLoss(), OvALoss(), OvALoss(), OvALoss(), OvALoss(), OvALoss(), OvALoss(),  OvALoss(), LogisticLoss()]\n",
    "\n",
    "glrm = GLRM(y, loss,ZeroReg(), ZeroReg(), 4);\n",
    "X, W, ch = fit!(glrm)\n"
   ]
  },
  {
   "cell_type": "code",
   "execution_count": 43,
   "metadata": {
    "collapsed": false
   },
   "outputs": [],
   "source": [
    "\n",
    "extension = \".csv\"\n",
    "writetable(\"lowrank\"*extension,Y)"
   ]
  },
  {
   "cell_type": "code",
   "execution_count": 52,
   "metadata": {
    "collapsed": false
   },
   "outputs": [
    {
     "ename": "LoadError",
     "evalue": "LoadError: MethodError: no method matching LowRankModels.MultinomialLoss()\nClosest candidates are:\n  LowRankModels.MultinomialLoss(!Matched::Integer, !Matched::Float64, !Matched::LowRankModels.Domain) at C:\\Users\\User\\.julia\\v0.5\\LowRankModels\\src\\losses.jl:354\n  LowRankModels.MultinomialLoss(!Matched::Any) at C:\\Users\\User\\.julia\\v0.5\\LowRankModels\\src\\losses.jl:358\n  LowRankModels.MultinomialLoss(!Matched::Any, !Matched::Any; domain) at C:\\Users\\User\\.julia\\v0.5\\LowRankModels\\src\\losses.jl:358\n  ...\nwhile loading In[52], in expression starting on line 1",
     "output_type": "error",
     "traceback": [
      "LoadError: MethodError: no method matching LowRankModels.MultinomialLoss()\nClosest candidates are:\n  LowRankModels.MultinomialLoss(!Matched::Integer, !Matched::Float64, !Matched::LowRankModels.Domain) at C:\\Users\\User\\.julia\\v0.5\\LowRankModels\\src\\losses.jl:354\n  LowRankModels.MultinomialLoss(!Matched::Any) at C:\\Users\\User\\.julia\\v0.5\\LowRankModels\\src\\losses.jl:358\n  LowRankModels.MultinomialLoss(!Matched::Any, !Matched::Any; domain) at C:\\Users\\User\\.julia\\v0.5\\LowRankModels\\src\\losses.jl:358\n  ...\nwhile loading In[52], in expression starting on line 1",
      ""
     ]
    }
   ],
   "source": [
    "loss = Loss[MultinomialLoss(), MultinomialLoss(), MultinomialLoss(), MultinomialLoss(), QuadLoss(), QuadLoss()]\n",
    "#nonneg = NonNegConstraint()\n",
    "quadreg=  QuadReg()\n",
    "\n",
    "nonneg = NonNegConstraint()\n",
    "\n",
    "k = 5\n",
    "glrm = GLRM(Y, loss, nonneg, nonneg, k);"
   ]
  },
  {
   "cell_type": "code",
   "execution_count": 36,
   "metadata": {
    "collapsed": false
   },
   "outputs": [
    {
     "name": "stdout",
     "output_type": "stream",
     "text": [
      "Fitting GLRM\n",
      "Iteration 10: objective value = 2.5810700853641605e13\n",
      "ch.objective = [2.58107e13,2.58107e13,2.58107e13,2.58107e13,2.58107e13,2.58107e13,2.58107e13,2.58107e13,2.58107e13,2.58107e13,2.58107e13,2.58107e13]\n"
     ]
    },
    {
     "data": {
      "text/plain": [
       "12-element Array{Float64,1}:\n",
       " 2.58107e13\n",
       " 2.58107e13\n",
       " 2.58107e13\n",
       " 2.58107e13\n",
       " 2.58107e13\n",
       " 2.58107e13\n",
       " 2.58107e13\n",
       " 2.58107e13\n",
       " 2.58107e13\n",
       " 2.58107e13\n",
       " 2.58107e13\n",
       " 2.58107e13"
      ]
     },
     "execution_count": 36,
     "metadata": {},
     "output_type": "execute_result"
    }
   ],
   "source": [
    "# To fit the model, call\n",
    "X,W,ch = fit!(glrm)\n",
    "@show ch.objective"
   ]
  },
  {
   "cell_type": "code",
   "execution_count": 9,
   "metadata": {
    "collapsed": false
   },
   "outputs": [
    {
     "ename": "LoadError",
     "evalue": "LoadError: UndefVarError: X not defined\nwhile loading In[9], in expression starting on line 218",
     "output_type": "error",
     "traceback": [
      "LoadError: UndefVarError: X not defined\nwhile loading In[9], in expression starting on line 218",
      ""
     ]
    }
   ],
   "source": [
    "@show X"
   ]
  }
 ],
 "metadata": {
  "kernelspec": {
   "display_name": "Julia 0.5.0",
   "language": "julia",
   "name": "julia-0.5"
  },
  "language_info": {
   "file_extension": ".jl",
   "mimetype": "application/julia",
   "name": "julia",
   "version": "0.5.0"
  }
 },
 "nbformat": 4,
 "nbformat_minor": 0
}
