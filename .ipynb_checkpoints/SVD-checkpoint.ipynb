{
 "cells": [
  {
   "cell_type": "code",
   "execution_count": 12,
   "metadata": {
    "collapsed": false
   },
   "outputs": [
    {
     "data": {
      "text/plain": [
       "6-element Array{Float64,1}:\n",
       "  0.100793  \n",
       " -0.00197414\n",
       "  1.00879   \n",
       "  0.844223  \n",
       "  1.15807   \n",
       " -0.475159  "
      ]
     },
     "execution_count": 12,
     "metadata": {},
     "output_type": "execute_result"
    }
   ],
   "source": [
    "# generate random data matrix\n",
    "srand(3)\n",
    "n,d = 6,4\n",
    "X = randn(n,d)\n",
    "\n",
    "# optional: give it linearly dependent columns\n",
    "X[:,3] = X[:,2]"
   ]
  },
  {
   "cell_type": "code",
   "execution_count": 13,
   "metadata": {
    "collapsed": false
   },
   "outputs": [
    {
     "data": {
      "text/plain": [
       "(\n",
       "6x4 Array{Float64,2}:\n",
       " -0.337288  -0.0599781   0.843355   -0.100873\n",
       "  0.549296  -0.426942    0.433541    0.29078 \n",
       " -0.613599  -0.27243    -0.0864875   0.694076\n",
       "  0.118297  -0.553687   -0.293725    0.117962\n",
       " -0.139193  -0.656312   -0.0720678  -0.541046\n",
       "  0.417898   0.0508982   0.0429721   0.341884,\n",
       "\n",
       "[4.1006668928225585,2.6023337139771465,1.1012467160532733,1.665069731400944e-16],\n",
       "4x4 Array{Float64,2}:\n",
       " -0.92782    0.371252  -0.0363627  -0.0        \n",
       " -0.222883  -0.588589  -0.322314   -0.707107   \n",
       " -0.222883  -0.588589  -0.322314    0.707107   \n",
       "  0.199493   0.411458  -0.889328   -5.55112e-17)"
      ]
     },
     "execution_count": 13,
     "metadata": {},
     "output_type": "execute_result"
    }
   ],
   "source": [
    "U,σ,V = svd(X)"
   ]
  },
  {
   "cell_type": "code",
   "execution_count": 5,
   "metadata": {
    "collapsed": false
   },
   "outputs": [
    {
     "data": {
      "text/plain": [
       "4x4 Array{Float64,2}:\n",
       " 1.0           4.70056e-17   1.42853e-16   8.32273e-17\n",
       " 4.70056e-17   1.0           3.44441e-16  -1.30805e-16\n",
       " 1.42853e-16   3.44441e-16   1.0          -3.07565e-16\n",
       " 8.32273e-17  -1.30805e-16  -3.07565e-16   1.0        "
      ]
     },
     "execution_count": 5,
     "metadata": {},
     "output_type": "execute_result"
    }
   ],
   "source": [
    "U'*U # orthogonal"
   ]
  },
  {
   "cell_type": "code",
   "execution_count": 6,
   "metadata": {
    "collapsed": false
   },
   "outputs": [
    {
     "data": {
      "text/plain": [
       "4x4 Array{Float64,2}:\n",
       "  1.0          -9.80774e-17   2.66323e-17  -3.56925e-17\n",
       " -9.80774e-17   1.0           1.21032e-16  -1.28029e-16\n",
       "  2.66323e-17   1.21032e-16   1.0          -1.9401e-16 \n",
       " -3.56925e-17  -1.28029e-16  -1.9401e-16    1.0        "
      ]
     },
     "execution_count": 6,
     "metadata": {},
     "output_type": "execute_result"
    }
   ],
   "source": [
    "V'*V # orthogonal"
   ]
  },
  {
   "cell_type": "code",
   "execution_count": 8,
   "metadata": {
    "collapsed": false
   },
   "outputs": [
    {
     "data": {
      "text/plain": [
       "4-element Array{Float64,1}:\n",
       " 3.53357    \n",
       " 1.38739    \n",
       " 0.616557   \n",
       " 1.14413e-16"
      ]
     },
     "execution_count": 8,
     "metadata": {},
     "output_type": "execute_result"
    }
   ],
   "source": [
    "σ # vector. the diagonals of the sigma matrix."
   ]
  },
  {
   "cell_type": "code",
   "execution_count": 11,
   "metadata": {
    "collapsed": false
   },
   "outputs": [
    {
     "data": {
      "text/plain": [
       "4x4 Array{Float64,2}:\n",
       " 3.53357  0.0      0.0       0.0        \n",
       " 0.0      1.38739  0.0       0.0        \n",
       " 0.0      0.0      0.616557  0.0        \n",
       " 0.0      0.0      0.0       1.14413e-16"
      ]
     },
     "execution_count": 11,
     "metadata": {},
     "output_type": "execute_result"
    }
   ],
   "source": [
    "diagm(σ) # converts to the sigma matrix"
   ]
  },
  {
   "cell_type": "code",
   "execution_count": 39,
   "metadata": {
    "collapsed": false
   },
   "outputs": [
    {
     "data": {
      "text/plain": [
       "8.844541710330775e-16"
      ]
     },
     "execution_count": 39,
     "metadata": {},
     "output_type": "execute_result"
    }
   ],
   "source": [
    "# decomposition is just as good if we ignore the 0 in sigma and reduce r by 1 --> last column of sigma matrix is zero\n",
    "norm(X - U*diagm(σ)*(V)') # 8.84e-16\n",
    "norm(X - U[:,1:3]*diagm(σ[1:3])*(V[:,1:3])') # 0"
   ]
  },
  {
   "cell_type": "code",
   "execution_count": 14,
   "metadata": {
    "collapsed": true
   },
   "outputs": [],
   "source": [
    "# form data from noisy linear model\n",
    "w♮ = randn(d)\n",
    "y = X*w♮ + .1*randn(n);"
   ]
  },
  {
   "cell_type": "code",
   "execution_count": 27,
   "metadata": {
    "collapsed": false
   },
   "outputs": [
    {
     "data": {
      "text/plain": [
       "4-element Array{Float64,1}:\n",
       " -0.346823\n",
       "  0.858352\n",
       "  0.858352\n",
       " -0.656692"
      ]
     },
     "execution_count": 27,
     "metadata": {},
     "output_type": "execute_result"
    }
   ],
   "source": [
    "# solve least squares problem to estimate \n",
    "w = V*diagm(σ.^(-1))*U'*y #  -0.346823  3.10125e14 (VERY LARGE because reciprocal of very small number!) -3.10125e14 -0.632345  \n",
    "w = V[:,1:3]*diagm(σ[1:3].^(-1))*(U[:,1:3])'*y # form the thin svd  -0.346823  0.858352  0.858352  -0.656692"
   ]
  },
  {
   "cell_type": "code",
   "execution_count": 25,
   "metadata": {
    "collapsed": false
   },
   "outputs": [
    {
     "name": "stdout",
     "output_type": "stream",
     "text": [
      "[0.24386277308949694 0.0 0.0 0.0\n",
      " 0.0 0.3842704702433033 0.0 0.0\n",
      " 0.0 0.0 0.9080617316924872 0.0\n",
      " 0.0 0.0 0.0 6.005754480676478e15]\n",
      "[0.24386277308949694 0.0 0.0 0.0\n",
      " 0.0 0.3842704702433033 0.0 0.0\n",
      " 0.0 0.0 0.9080617316924872 0.0\n",
      " 0.0 0.0 0.0 6.005754480676478e15]\n"
     ]
    }
   ],
   "source": [
    "# both of these give same result cuz σ is a diagonal matrix\n",
    "println(diagm(σ.^(-1)))\n",
    "println(inv(diagm(σ)))"
   ]
  },
  {
   "cell_type": "code",
   "execution_count": 28,
   "metadata": {
    "collapsed": false
   },
   "outputs": [
    {
     "data": {
      "text/plain": [
       "0.7324222212654423"
      ]
     },
     "execution_count": 28,
     "metadata": {},
     "output_type": "execute_result"
    }
   ],
   "source": [
    "# how good is our estimate of w?\n",
    "norm(w - w♮) # 0.7324222212654428"
   ]
  },
  {
   "cell_type": "code",
   "execution_count": 54,
   "metadata": {
    "collapsed": false
   },
   "outputs": [
    {
     "data": {
      "text/plain": [
       "0.0012138527490118073"
      ]
     },
     "execution_count": 54,
     "metadata": {},
     "output_type": "execute_result"
    }
   ],
   "source": [
    "# compute mean square error\n",
    "mean((y - X*w).^2) # 0.001214 --> returns as a scalar\n",
    "#dot(y-X*w,y-X*w) / size(y,1)# 0.001214 --> returns as a scalar. cannot use the \"mean\" function\n",
    "#(y-X*w)'*(y-X*w)/size(y,1) # 001214 --> returns as one-element array."
   ]
  },
  {
   "cell_type": "code",
   "execution_count": 56,
   "metadata": {
    "collapsed": false
   },
   "outputs": [
    {
     "data": {
      "text/plain": [
       "1.6439175459749098e-15"
      ]
     },
     "execution_count": 56,
     "metadata": {},
     "output_type": "execute_result"
    }
   ],
   "source": [
    "# let's use the shorthand\n",
    "w_backslash = X \\ y\n",
    "norm(w_backslash - w♮) # 0.7324222212654428 (Same as above)"
   ]
  }
 ],
 "metadata": {
  "anaconda-cloud": {},
  "kernelspec": {
   "display_name": "Julia 0.4.6",
   "language": "julia",
   "name": "julia-0.4"
  },
  "language_info": {
   "file_extension": ".jl",
   "mimetype": "application/julia",
   "name": "julia",
   "version": "0.4.6"
  }
 },
 "nbformat": 4,
 "nbformat_minor": 0
}
