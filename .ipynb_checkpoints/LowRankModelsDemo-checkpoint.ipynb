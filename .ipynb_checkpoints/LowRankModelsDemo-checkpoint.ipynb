{
 "cells": [
  {
   "cell_type": "code",
   "execution_count": 1,
   "metadata": {
    "collapsed": false
   },
   "outputs": [
    {
     "name": "stderr",
     "output_type": "stream",
     "text": [
      "INFO: Checking out LowRankModels master...\n",
      "INFO: Pulling LowRankModels latest master...\n",
      "INFO: Upgrading Optim: v0.4.5 => v0.6.1\n",
      "INFO: Removing DualNumbers v0.2.2\n",
      "INFO: Precompiling module LowRankModels.\n",
      "WARNING: Method definition (::Type{ArrayViews.UnsafeContiguousView})(Ptr{#T<:Any}, Int64, Tuple{Vararg{Int64, #N<:Any}}) in module ArrayViews at C:\\Users\\User\\.julia\\v0.5\\ArrayViews\\src\\arrviews.jl:18 overwritten at C:\\Users\\User\\.julia\\v0.5\\ArrayViews\\src\\arrviews.jl:26.\n",
      "INFO: Recompiling stale cache file C:\\Users\\User\\.julia\\lib\\v0.5\\PyPlot.ji for module PyPlot.\n"
     ]
    }
   ],
   "source": [
    "Pkg.checkout(\"LowRankModels\")\n",
    "using LowRankModels, PyPlot"
   ]
  },
  {
   "cell_type": "markdown",
   "metadata": {},
   "source": [
    "LowRankModels.jl is a julia package for modeling and fitting generalized low rank models (GLRMs). GLRMs model a data array by a low rank matrix, and include many well known models in data analysis, such as principal components analysis (PCA), matrix completion, robust PCA, nonnegative matrix factorization, k-means, and many more."
   ]
  },
  {
   "cell_type": "markdown",
   "metadata": {},
   "source": [
    "LowRankModels.jl makes it easy to mix and match loss functions and regularizers to construct a model suitable for a particular data set. In particular, it supports\n",
    "\n",
    "   * using different loss functions for different columns of the data array, which is useful when data types are heterogeneous (eg, real, boolean, and ordinal columns);\n",
    "   * fitting the model to only some of the entries in the table, which is useful for data tables with many missing (unobserved) entries; and\n",
    "   * adding offsets and scalings to the model without destroying sparsity, which is useful when the data is poorly scaled.\n"
   ]
  },
  {
   "cell_type": "markdown",
   "metadata": {},
   "source": [
    "# Losses"
   ]
  },
  {
   "cell_type": "markdown",
   "metadata": {},
   "source": [
    "Supported losses include:\n",
    "   * quadratic loss - QuadLoss()\n",
    "   * hinge loss - HingeLoss()\n",
    "   * logistic loss - LogisticLoss()\n",
    "   * poisson loss - PoissonLoss()\n",
    "   * weighted hinge loss - WeightedHingeLoss()\n",
    "   * l1 loss - L1Loss()\n",
    "   * ordinal hinge loss - OrdinalHingeLoss()\n",
    "   * periodic loss - PeriodicLoss()\n",
    "   * multinomial categorical loss - MultinomialLoss()\n",
    "   * multinomial ordinal (aka ordered logit) loss - OrderedMultinomialLoss()"
   ]
  },
  {
   "cell_type": "code",
   "execution_count": 2,
   "metadata": {
    "collapsed": false
   },
   "outputs": [
    {
     "data": {
      "text/plain": [
       "LowRankModels.QuadLoss(1.0,LowRankModels.RealDomain())"
      ]
     },
     "execution_count": 2,
     "metadata": {},
     "output_type": "execute_result"
    }
   ],
   "source": [
    "# loss function\n",
    "loss = QuadLoss()"
   ]
  },
  {
   "cell_type": "code",
   "execution_count": 3,
   "metadata": {
    "collapsed": false
   },
   "outputs": [
    {
     "data": {
      "text/plain": [
       "1.0"
      ]
     },
     "execution_count": 3,
     "metadata": {},
     "output_type": "execute_result"
    }
   ],
   "source": [
    "# the quad loss returns the sum of square differences between its first and second argument\n",
    "evaluate(loss, 2., 3.)"
   ]
  },
  {
   "cell_type": "code",
   "execution_count": 4,
   "metadata": {
    "collapsed": false
   },
   "outputs": [
    {
     "data": {
      "text/plain": [
       "3.0"
      ]
     },
     "execution_count": 4,
     "metadata": {},
     "output_type": "execute_result"
    }
   ],
   "source": [
    "# can scale the loss by any factor\n",
    "evaluate(3*loss, 2., 3.)"
   ]
  },
  {
   "cell_type": "code",
   "execution_count": 5,
   "metadata": {
    "collapsed": false
   },
   "outputs": [
    {
     "data": {
      "text/plain": [
       "16.0"
      ]
     },
     "execution_count": 5,
     "metadata": {},
     "output_type": "execute_result"
    }
   ],
   "source": [
    "evaluate(2*loss, [1., 1.], [3., 3.])"
   ]
  },
  {
   "cell_type": "code",
   "execution_count": 6,
   "metadata": {
    "collapsed": false
   },
   "outputs": [
    {
     "data": {
      "text/plain": [
       "4.0"
      ]
     },
     "execution_count": 6,
     "metadata": {},
     "output_type": "execute_result"
    }
   ],
   "source": [
    "# can also evaluate the gradient wrt the first argument\n",
    "grad(loss, 2., 0.)"
   ]
  },
  {
   "cell_type": "code",
   "execution_count": 7,
   "metadata": {
    "collapsed": false
   },
   "outputs": [
    {
     "data": {
      "text/plain": [
       "2-element Array{Float64,1}:\n",
       "  4.0\n",
       " -4.0"
      ]
     },
     "execution_count": 7,
     "metadata": {},
     "output_type": "execute_result"
    }
   ],
   "source": [
    "grad(loss, [2., 0.], [0., 2.])"
   ]
  },
  {
   "cell_type": "code",
   "execution_count": 8,
   "metadata": {
    "collapsed": false
   },
   "outputs": [
    {
     "data": {
      "text/plain": [
       "2-element Array{Float64,1}:\n",
       "  1.0\n",
       " -1.0"
      ]
     },
     "execution_count": 8,
     "metadata": {},
     "output_type": "execute_result"
    }
   ],
   "source": [
    "grad(L1Loss(), [2., 0.], [0., 2.])"
   ]
  },
  {
   "cell_type": "markdown",
   "metadata": {},
   "source": [
    "# Regularizer"
   ]
  },
  {
   "cell_type": "markdown",
   "metadata": {},
   "source": [
    "Supported regularizers include:\n",
    "\n",
    "   * quadratic regularization - QuadReg()\n",
    "   * constrained squared euclidean norm - QuadConstraint()\n",
    "   * l1 regularization - OneReg()\n",
    "   * no regularization - ZeroReg()\n",
    "   * nonnegative constraint - NonNegConstraint() (eg, for nonnegative matrix factorization)\n",
    "   * 1-sparse constraint - OneSparseConstraint() (eg, for orthogonal NNMF)\n",
    "   * unit 1-sparse constraint - UnitOneSparseConstraint() (eg, for k-means)\n",
    "   * simplex constraint - SimplexConstraint()\n",
    "   * l1 regularization, combined with nonnegative constraint - NonNegOneReg()\n",
    "   * fix features at values y0 - FixedLatentFeaturesConstraint(y0)"
   ]
  },
  {
   "cell_type": "code",
   "execution_count": 9,
   "metadata": {
    "collapsed": false
   },
   "outputs": [
    {
     "data": {
      "text/plain": [
       "LowRankModels.QuadReg(1.0)"
      ]
     },
     "execution_count": 9,
     "metadata": {},
     "output_type": "execute_result"
    }
   ],
   "source": [
    "# regularizers\n",
    "lambda = 1\n",
    "\n",
    "nonneg = NonNegConstraint()\n",
    "l1 = OneReg(lambda)\n",
    "l2 = QuadReg(lambda)"
   ]
  },
  {
   "cell_type": "code",
   "execution_count": 10,
   "metadata": {
    "collapsed": false
   },
   "outputs": [
    {
     "data": {
      "text/plain": [
       "0"
      ]
     },
     "execution_count": 10,
     "metadata": {},
     "output_type": "execute_result"
    }
   ],
   "source": [
    "# can evaluate the proximal operator of the regularizer\n",
    "prox(nonneg, -1) # max(z,0)"
   ]
  },
  {
   "cell_type": "code",
   "execution_count": 11,
   "metadata": {
    "collapsed": false
   },
   "outputs": [
    {
     "data": {
      "text/plain": [
       "10"
      ]
     },
     "execution_count": 11,
     "metadata": {},
     "output_type": "execute_result"
    }
   ],
   "source": [
    "prox(nonneg, 10)"
   ]
  },
  {
   "cell_type": "code",
   "execution_count": 12,
   "metadata": {
    "collapsed": false
   },
   "outputs": [
    {
     "data": {
      "text/plain": [
       "5-element Array{Int64,1}:\n",
       " 0\n",
       " 0\n",
       " 0\n",
       " 1\n",
       " 5"
      ]
     },
     "execution_count": 12,
     "metadata": {},
     "output_type": "execute_result"
    }
   ],
   "source": [
    "prox(nonneg, [-5, -1, 0, 1, 5])"
   ]
  },
  {
   "cell_type": "code",
   "execution_count": 14,
   "metadata": {
    "collapsed": false
   },
   "outputs": [
    {
     "data": {
      "text/plain": [
       "0.99"
      ]
     },
     "execution_count": 14,
     "metadata": {},
     "output_type": "execute_result"
    }
   ],
   "source": [
    "# can evaluate the proximal operator of lambda times the regularizer\n",
    "λ = .01\n",
    "prox(l1, 1, λ) # returns 1 - λ"
   ]
  },
  {
   "cell_type": "code",
   "execution_count": 23,
   "metadata": {
    "collapsed": true
   },
   "outputs": [],
   "source": [
    "# chain rule: \n",
    "# gradient of ||Xw - y||^2 wrt w is X' * <gradient of ||z-y||^2 wrt z>, \n",
    "# where z = X*w"
   ]
  },
  {
   "cell_type": "markdown",
   "metadata": {},
   "source": [
    "We can use these to easily run proximal gradient on any combination of loss function and regularizers."
   ]
  },
  {
   "cell_type": "code",
   "execution_count": 16,
   "metadata": {
    "collapsed": false
   },
   "outputs": [
    {
     "name": "stderr",
     "output_type": "stream",
     "text": [
      "WARNING: Method definition evaluate(LowRankModels.Loss, Array"
     ]
    },
    {
     "data": {
      "text/plain": [
       "grad (generic function with 18 methods)"
      ]
     },
     "execution_count": 16,
     "metadata": {},
     "output_type": "execute_result"
    },
    {
     "name": "stderr",
     "output_type": "stream",
     "text": [
      "{Float64, 2}, Any, Any) in module Main at In[15]:2 overwritten at In[16]:2.\n",
      "WARNING: Method definition grad(LowRankModels.Loss, Array{Float64, 2}, Any, Any) in module Main at In[15]:3 overwritten at In[16]:3.\n"
     ]
    }
   ],
   "source": [
    "import LowRankModels: evaluate, grad\n",
    "evaluate(loss::Loss, X::Array{Float64,2}, w, y) = evaluate(loss, X*w, y) # overloading\n",
    "grad(loss::Loss, X::Array{Float64,2}, w, y) = X'*grad(loss, X*w, y)"
   ]
  },
  {
   "cell_type": "code",
   "execution_count": 27,
   "metadata": {
    "collapsed": false
   },
   "outputs": [
    {
     "name": "stderr",
     "output_type": "stream",
     "text": [
      "WARNING: Method definition proxgrad(LowRankModels.Loss, LowRankModels."
     ]
    },
    {
     "data": {
      "text/plain": [
       "proxgrad (generic function with 1 method)"
      ]
     },
     "execution_count": 27,
     "metadata": {},
     "output_type": "execute_result"
    },
    {
     "name": "stderr",
     "output_type": "stream",
     "text": [
      "Regularizer, Any, Any) in module Main at In[25]:5 overwritten at In[27]:5.\n",
      "WARNING: Method definition #proxgrad(Array{Any, 1}, Main.#proxgrad, LowRankModels.Loss, LowRankModels.Regularizer, Any, Any) in module Main overwritten.\n"
     ]
    }
   ],
   "source": [
    "# proximal gradient method\n",
    "function proxgrad(loss::Loss, reg::Regularizer, X, y;\n",
    "                  maxiters::Int = 10, stepsize::Number = 1., \n",
    "                  ch::ConvergenceHistory = ConvergenceHistory(\"proxgrad\"))\n",
    "    w = zeros(size(X,2))\n",
    "    for t=1:maxiters\n",
    "        t0 = time()\n",
    "        # gradient step\n",
    "        g = grad(loss, X, w, y)\n",
    "        w = w - stepsize*g\n",
    "        # prox step\n",
    "        w = prox(reg, w, stepsize)\n",
    "        # record objective value\n",
    "        update_ch!(ch, time() - t0, obj = evaluate(loss, X, w, y) + evaluate(reg, w)) # convergence history\n",
    "    end\n",
    "    return w\n",
    "end"
   ]
  },
  {
   "cell_type": "code",
   "execution_count": 28,
   "metadata": {
    "collapsed": false
   },
   "outputs": [
    {
     "data": {
      "image/png": "[encoded data removed]",
      "text/plain": [
       "PyPlot.Figure(PyObject <matplotlib.figure.Figure object at 0x000000001DECCE80>)"
      ]
     },
     "metadata": {},
     "output_type": "display_data"
    },
    {
     "data": {
      "text/plain": [
       "PyObject <matplotlib.text.Text object at 0x000000001DAC2320>"
      ]
     },
     "execution_count": 28,
     "metadata": {},
     "output_type": "execute_result"
    }
   ],
   "source": [
    "srand(0)\n",
    "X, y = rand(6,3), rand(6);\n",
    "ch = ConvergenceHistory(\"NNLS\")\n",
    "w = proxgrad(QuadLoss(), NonNegConstraint(), X, y; \n",
    "             stepsize=.1, maxiters=50,\n",
    "             ch = ch)\n",
    "plot(ch.objective)\n",
    "xlabel(\"iteration\")\n",
    "ylabel(\"objective\")"
   ]
  },
  {
   "cell_type": "code",
   "execution_count": 29,
   "metadata": {
    "collapsed": false
   },
   "outputs": [
    {
     "data": {
      "image/png": "[encoded data removed]",
      "text/plain": [
       "PyPlot.Figure(PyObject <matplotlib.figure.Figure object at 0x000000001CE5F5F8>)"
      ]
     },
     "metadata": {},
     "output_type": "display_data"
    },
    {
     "data": {
      "text/plain": [
       "PyObject <matplotlib.text.Text object at 0x000000001DD10B00>"
      ]
     },
     "execution_count": 29,
     "metadata": {},
     "output_type": "execute_result"
    }
   ],
   "source": [
    "semilogy(ch.objective - ch.objective[end])\n",
    "xlabel(\"iteration\")\n",
    "ylabel(\"objective\")"
   ]
  },
  {
   "cell_type": "markdown",
   "metadata": {},
   "source": [
    "# Generalized Low Rank Models"
   ]
  },
  {
   "cell_type": "markdown",
   "metadata": {},
   "source": [
    "GLRMs form a low rank model for tabular data A with m rows and n columns, which can be input as an array or any array-like object (for example, a data frame). It is fine if only some of the entries have been observed (i.e., the others are missing or NA); the GLRM will only be fit on the observed entries obs.\n",
    "\n",
    "The desired model is specified by choosing a rank k for the model, an array of loss functions losses, and two regularizers, $r_x$ and $r_w$. The data is modeled as $X^TW$, where $X$ is a $k\\times m$ matrix and $W$ is a $k\\times m$ matrix. $X$ and $W$ are found by solving the optimization problem\n",
    "\n",
    "$$\\min \\sum_{(i,j) \\in obs} loss_j\\bigg((X^TW)[i,j], Y[i,j]\\bigg) + \\sum_i r_x(X[:,i]) + \\sum_j r_y(W[:,j])$$\n",
    "\n",
    "To form a GLRM, the user specifies\n",
    "\n",
    "   * the data $Y$ (any AbstractArray, such as an array, a sparse matrix, or a data frame)\n",
    "   * the array of loss functions losses\n",
    "   * the regularizers $r_x$ and $r_w$\n",
    "   * the rank $k$\n",
    "   \n",
    "   Sometimes you want different loss functions for diff features.\n",
    "   \n"
   ]
  },
  {
   "cell_type": "code",
   "execution_count": 35,
   "metadata": {
    "collapsed": false
   },
   "outputs": [
    {
     "data": {
      "text/plain": [
       "LowRankModels.GLRM([-1.38826 -0.414019 … -0.104276 0.467901; -1.00762 -1.20863 … 0.160924 0.707422; … ; -0.216928 -0.0824725 … -1.97946 0.208076; 0.153677 -0.0768077 … 1.44358 -0.476607],LowRankModels.Loss[LowRankModels.QuadLoss(1.0,LowRankModels.RealDomain()),LowRankModels.QuadLoss(1.0,LowRankModels.RealDomain()),LowRankModels.QuadLoss(1.0,LowRankModels.RealDomain()),LowRankModels.QuadLoss(1.0,LowRankModels.RealDomain()),LowRankModels.QuadLoss(1.0,LowRankModels.RealDomain()),LowRankModels.QuadLoss(1.0,LowRankModels.RealDomain()),LowRankModels.QuadLoss(1.0,LowRankModels.RealDomain()),LowRankModels.QuadLoss(1.0,LowRankModels.RealDomain()),LowRankModels.QuadLoss(1.0,LowRankModels.RealDomain()),LowRankModels.QuadLoss(1.0,LowRankModels.RealDomain())],LowRankModels.NonNegConstraint(),LowRankModels.Regularizer[LowRankModels.NonNegConstraint(),LowRankModels.NonNegConstraint(),LowRankModels.NonNegConstraint(),LowRankModels.NonNegConstraint(),LowRankModels.NonNegConstraint(),LowRankModels.NonNegConstraint(),LowRankModels.NonNegConstraint(),LowRankModels.NonNegConstraint(),LowRankModels.NonNegConstraint(),LowRankModels.NonNegConstraint()],5,UnitRange{Int64}[1:10,1:10,1:10,1:10,1:10,1:10,1:10,1:10,1:10,1:10],UnitRange{Int64}[1:10,1:10,1:10,1:10,1:10,1:10,1:10,1:10,1:10,1:10],[0.253184 0.138015 … -0.106167 0.817009; 0.0537676 -0.476718 … -1.55087 0.925655; … ; -0.211836 -0.291141 … 0.180089 0.772242; -1.5131 0.866116 … 1.08133 -0.375897],[1.39764 0.132887 … -0.335671 0.154383; 1.83411 0.527367 … 0.914007 0.275128; … ; 0.331524 0.62087 … 0.53583 2.32535; 0.758301 -2.26223 … 0.653844 -0.275421])"
      ]
     },
     "execution_count": 35,
     "metadata": {},
     "output_type": "execute_result"
    }
   ],
   "source": [
    "# example\n",
    "Y = randn(10, 10)\n",
    "loss = QuadLoss()\n",
    "nonneg = NonNegConstraint()\n",
    "k = 5\n",
    "glrm = GLRM(Y, loss, nonneg, nonneg, k); # loss could be an array. Different loss functions for diff features."
   ]
  },
  {
   "cell_type": "code",
   "execution_count": 36,
   "metadata": {
    "collapsed": false
   },
   "outputs": [
    {
     "name": "stdout",
     "output_type": "stream",
     "text": [
      "Fitting GLRM\n",
      "Iteration 10: objective value = 73.14252355378099\n",
      "Iteration 20: objective value = 61.4704602250986\n",
      "Iteration 30: objective value = 58.67923205688582\n",
      "Iteration 40: objective value = 58.22638251001464\n"
     ]
    },
    {
     "data": {
      "text/plain": [
       "(\n",
       "[0.17911 0.0 … 0.20934 0.0; 0.0 0.0 … 0.0 0.0; … ; 0.138866 0.144994 … 0.0 0.498131; 0.207031 1.05406 … 0.0 0.0],\n",
       "\n",
       "[0.0 0.0 … 0.0 2.71933; 1.1131 0.338 … 0.706002 0.429418; … ; 0.0 0.0 … 2.52362 0.0; 0.0 0.0 … 0.0 0.373565],\n",
       "\n",
       "LowRankModels.ConvergenceHistory(\"ProxGradGLRM\",[Inf,574.198,86.0736,79.7071,77.0818,75.8562,75.1015,74.6359,74.2022,73.7195  …  58.2058,58.1899,58.1774,58.1661,58.1575,58.1495,58.1429,58.1368,58.1309,58.1253],Float64[],[0.0,0.0,0.0,0.0,0.0,0.0,0.0,0.0,0.0,0.0  …  0.0,0.0,0.0,0.0,0.0,0.0,0.0,0.0,0.0,0.0],[0.0,0.0,0.0,0.0,0.0,0.0,0.0,0.0,0.0,0.0  …  0.0,0.0,0.0,0.0,0.0,0.0,0.0,0.0,0.0,0.0],[0.0,0.0,0.000999928,0.000999928,0.00200009,0.00200009,0.00300002,0.00300002,0.00300002,0.00399995  …  0.017,0.017,0.017,0.0180001,0.0180001,0.0180001,0.0180001,0.0180001,0.0190001,0.0190001],[0.0,0.0,0.0,0.0,0.0,0.0,0.0,0.0,0.0,0.0  …  0.0,0.0,0.0,0.0,0.0,0.0,0.0,0.0,0.0,0.0],0))"
      ]
     },
     "execution_count": 36,
     "metadata": {},
     "output_type": "execute_result"
    }
   ],
   "source": [
    "# To fit the model, call\n",
    "X,W,ch = fit!(glrm)"
   ]
  },
  {
   "cell_type": "markdown",
   "metadata": {},
   "source": [
    "This runs an alternating directions proximal gradient method on glrm to find the $X$ and $W$ minimizing the objective function."
   ]
  },
  {
   "cell_type": "code",
   "execution_count": 39,
   "metadata": {
    "collapsed": false
   },
   "outputs": [
    {
     "data": {
      "text/plain": [
       "5×10 Array{Float64,2}:\n",
       " 0.17911   0.0       0.496128   0.0       …  0.0       0.20934  0.0     \n",
       " 0.0       0.0       0.0        0.0          0.716636  0.0      0.0     \n",
       " 0.0       0.0       0.937744   0.894573     0.0       0.0      0.0     \n",
       " 0.138866  0.144994  0.0        0.0          0.0       0.0      0.498131\n",
       " 0.207031  1.05406   0.0778759  0.0          0.0       0.0      0.0     "
      ]
     },
     "execution_count": 39,
     "metadata": {},
     "output_type": "execute_result"
    }
   ],
   "source": [
    "X # all non negative"
   ]
  },
  {
   "cell_type": "code",
   "execution_count": 38,
   "metadata": {
    "collapsed": false
   },
   "outputs": [
    {
     "data": {
      "text/plain": [
       "5×10 Array{Float64,2}:\n",
       " 0.0     0.0      0.0  3.63005  0.0       …  0.0       0.0       2.71933 \n",
       " 1.1131  0.338    0.0  0.0      0.302205     0.723267  0.706002  0.429418\n",
       " 0.0     1.77839  0.0  0.0      0.0          0.0       0.0       0.044501\n",
       " 0.0     0.0      0.0  0.0      0.0          2.35205   2.52362   0.0     \n",
       " 0.0     0.0      0.0  0.0      0.0          0.0       0.0       0.373565"
      ]
     },
     "execution_count": 38,
     "metadata": {},
     "output_type": "execute_result"
    }
   ],
   "source": [
    "W # all non negative"
   ]
  },
  {
   "cell_type": "code",
   "execution_count": 40,
   "metadata": {
    "collapsed": false
   },
   "outputs": [
    {
     "data": {
      "image/png": "[encoded data removed]",
      "text/plain": [
       "PyPlot.Figure(PyObject <matplotlib.figure.Figure object at 0x000000001E4A5748>)"
      ]
     },
     "metadata": {},
     "output_type": "display_data"
    },
    {
     "data": {
      "text/plain": [
       "PyObject <matplotlib.text.Text object at 0x000000001E4A1AC8>"
      ]
     },
     "execution_count": 40,
     "metadata": {},
     "output_type": "execute_result"
    }
   ],
   "source": [
    "plot(ch.objective)\n",
    "xlabel(\"iteration\")\n",
    "ylabel(\"objective\")"
   ]
  },
  {
   "cell_type": "markdown",
   "metadata": {},
   "source": [
    "The losses argument can also be an array of loss functions, with one for each column (in order). For example, for a data set with 3 columns, you could use:"
   ]
  },
  {
   "cell_type": "code",
   "execution_count": 41,
   "metadata": {
    "collapsed": false
   },
   "outputs": [
    {
     "data": {
      "text/plain": [
       "3-element Array{LowRankModels.Loss,1}:\n",
       " LowRankModels.QuadLoss(1.0,LowRankModels.RealDomain())             \n",
       " LowRankModels.LogisticLoss(1.0,LowRankModels.BoolDomain())         \n",
       " LowRankModels.WeightedHingeLoss(1.0,LowRankModels.BoolDomain(),1.0)"
      ]
     },
     "execution_count": 41,
     "metadata": {},
     "output_type": "execute_result"
    }
   ],
   "source": [
    "losses = Loss[QuadLoss(), LogisticLoss(), HingeLoss()]"
   ]
  },
  {
   "cell_type": "markdown",
   "metadata": {},
   "source": [
    "Similiarly, the $r_w$ argument can be an array of regularizers, with one for each column (in order). For example, for a data set with 3 columns, you could use:"
   ]
  },
  {
   "cell_type": "code",
   "execution_count": 42,
   "metadata": {
    "collapsed": false
   },
   "outputs": [
    {
     "data": {
      "text/plain": [
       "3-element Array{LowRankModels.Regularizer,1}:\n",
       " LowRankModels.QuadReg(1.0) \n",
       " LowRankModels.QuadReg(10.0)\n",
       " LowRankModels.OneReg(1.0)  "
      ]
     },
     "execution_count": 42,
     "metadata": {},
     "output_type": "execute_result"
    }
   ],
   "source": [
    "rw = Regularizer[QuadReg(1), QuadReg(10), OneReg()] # QuadReg(lambda)"
   ]
  },
  {
   "cell_type": "markdown",
   "metadata": {},
   "source": [
    "Example: PCA"
   ]
  },
  {
   "cell_type": "code",
   "execution_count": 43,
   "metadata": {
    "collapsed": false
   },
   "outputs": [
    {
     "data": {
      "text/plain": [
       "fit_pca (generic function with 1 method)"
      ]
     },
     "execution_count": 43,
     "metadata": {},
     "output_type": "execute_result"
    }
   ],
   "source": [
    "# minimize ||Y - XW||^2\n",
    "function fit_pca(m,n,k)\n",
    "\t# matrix to encode\n",
    "\tY = randn(m,k)*randn(k,n)\n",
    "\tloss = QuadLoss()\n",
    "\tr = ZeroReg()\n",
    "\tglrm = GLRM(Y,loss,r,r,k)\n",
    "\tX,W,ch = fit!(glrm)\n",
    "\tprintln(\"Convergence history:\",ch.objective)\n",
    "\treturn Y,X,W,ch\n",
    "end"
   ]
  },
  {
   "cell_type": "code",
   "execution_count": 45,
   "metadata": {
    "collapsed": false
   },
   "outputs": [
    {
     "ename": "LoadError",
     "evalue": "LoadError: MethodError: no method matching getindex(::LowRankModels.ConvergenceHistory, ::Int64)\nwhile loading In[45], in expression starting on line 1",
     "output_type": "error",
     "traceback": [
      "LoadError: MethodError: no method matching getindex(::LowRankModels.ConvergenceHistory, ::Int64)\nwhile loading In[45], in expression starting on line 1",
      ""
     ]
    }
   ],
   "source": []
  }
 ],
 "metadata": {
  "kernelspec": {
   "display_name": "Julia 0.5.0",
   "language": "julia",
   "name": "julia-0.5"
  },
  "language_info": {
   "file_extension": ".jl",
   "mimetype": "application/julia",
   "name": "julia",
   "version": "0.5.0"
  }
 },
 "nbformat": 4,
 "nbformat_minor": 0
}
