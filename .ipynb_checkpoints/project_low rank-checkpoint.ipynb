{
 "cells": [
  {
   "cell_type": "code",
   "execution_count": 6,
   "metadata": {
    "collapsed": true
   },
   "outputs": [],
   "source": [
    "using DataFrames\n"
   ]
  },
  {
   "cell_type": "code",
   "execution_count": 4,
   "metadata": {
    "collapsed": false
   },
   "outputs": [
    {
     "name": "stderr",
     "output_type": "stream",
     "text": [
      "INFO: Checking out LowRankModels master...\n",
      "INFO: Pulling LowRankModels latest master...\n",
      "INFO: No packages to install, update or remove\n"
     ]
    }
   ],
   "source": [
    "Pkg.checkout(\"LowRankModels\")\n",
    "using LowRankModels, PyPlot"
   ]
  },
  {
   "cell_type": "code",
   "execution_count": 5,
   "metadata": {
    "collapsed": false
   },
   "outputs": [],
   "source": [
    "# example\n",
    "Y = readtable(\"original_excludingmissing.csv\", separator = ',');"
   ]
  },
  {
   "cell_type": "code",
   "execution_count": 8,
   "metadata": {
    "collapsed": false
   },
   "outputs": [
    {
     "data": {
      "text/plain": [
       "80-element DataArrays.DataArray{Int64,1}:\n",
       " 13983\n",
       " 12494\n",
       "  7635\n",
       " 13984\n",
       " 12532\n",
       " 12531\n",
       " 13537\n",
       " 13521\n",
       "  6089\n",
       " 12533\n",
       " 13982\n",
       " 12540\n",
       " 13991\n",
       "     ⋮\n",
       "  9745\n",
       " 12534\n",
       " 12538\n",
       " 14049\n",
       " 14296\n",
       " 14086\n",
       " 14594\n",
       " 11178\n",
       " 14148\n",
       "   513\n",
       " 14574\n",
       " 14230"
      ]
     },
     "execution_count": 8,
     "metadata": {},
     "output_type": "execute_result"
    }
   ],
   "source": [
    "uniquefamilies = unique(Y[:FAMILY])"
   ]
  },
  {
   "cell_type": "code",
   "execution_count": 11,
   "metadata": {
    "collapsed": false
   },
   "outputs": [
    {
     "data": {
      "text/html": [
       "<table class=\"data-frame\"><tr><th></th><th>YEAR</th><th>EXPERIMENT</th><th>LOCATION</th><th>VARIETY</th><th>FAMILY</th><th>CHECK</th><th>RM</th><th>REPNO</th><th>YIELD</th><th>CLASS_OF</th><th>GRAD</th><th>BAGSOLD</th><th>x13</th></tr><tr><th>1</th><td>2009</td><td>220</td><td>3310</td><td>136860</td><td>13983</td><td>0</td><td>3.7</td><td>1</td><td>68.1337202</td><td>2011</td><td>0</td><td>0</td><td>0</td></tr><tr><th>2</th><td>2009</td><td>220</td><td>3310</td><td>136860</td><td>13983</td><td>0</td><td>3.7</td><td>2</td><td>74.8365336</td><td>2011</td><td>0</td><td>0</td><td>0</td></tr><tr><th>3</th><td>2009</td><td>321</td><td>3310</td><td>120205</td><td>12494</td><td>0</td><td>3.8</td><td>1</td><td>48.0276593</td><td>2011</td><td>0</td><td>0</td><td>0</td></tr><tr><th>4</th><td>2009</td><td>321</td><td>3310</td><td>120205</td><td>12494</td><td>0</td><td>3.8</td><td>2</td><td>52.4971433</td><td>2011</td><td>0</td><td>0</td><td>0</td></tr><tr><th>5</th><td>2009</td><td>395</td><td>1110</td><td>148493</td><td>7635</td><td>0</td><td>2.1</td><td>1</td><td>61.9242944</td><td>2011</td><td>1</td><td>61161</td><td>0</td></tr><tr><th>6</th><td>2009</td><td>395</td><td>1110</td><td>148493</td><td>7635</td><td>0</td><td>2.1</td><td>2</td><td>66.9426311</td><td>2011</td><td>1</td><td>61161</td><td>0</td></tr></table>"
      ],
      "text/plain": [
       "6×13 DataFrames.DataFrame\n",
       "│ Row │ YEAR │ EXPERIMENT │ LOCATION │ VARIETY │ FAMILY │ CHECK │ RM  │ REPNO │\n",
       "├─────┼──────┼────────────┼──────────┼─────────┼────────┼───────┼─────┼───────┤\n",
       "│ 1   │ 2009 │ 220        │ \"3310\"   │ 136860  │ 13983  │ 0     │ 3.7 │ 1     │\n",
       "│ 2   │ 2009 │ 220        │ \"3310\"   │ 136860  │ 13983  │ 0     │ 3.7 │ 2     │\n",
       "│ 3   │ 2009 │ 321        │ \"3310\"   │ 120205  │ 12494  │ 0     │ 3.8 │ 1     │\n",
       "│ 4   │ 2009 │ 321        │ \"3310\"   │ 120205  │ 12494  │ 0     │ 3.8 │ 2     │\n",
       "│ 5   │ 2009 │ 395        │ \"1110\"   │ 148493  │ 7635   │ 0     │ 2.1 │ 1     │\n",
       "│ 6   │ 2009 │ 395        │ \"1110\"   │ 148493  │ 7635   │ 0     │ 2.1 │ 2     │\n",
       "\n",
       "│ Row │ YIELD   │ CLASS_OF │ GRAD │ BAGSOLD │ x13 │\n",
       "├─────┼─────────┼──────────┼──────┼─────────┼─────┤\n",
       "│ 1   │ 68.1337 │ 2011     │ 0    │ 0       │ 0   │\n",
       "│ 2   │ 74.8365 │ 2011     │ 0    │ 0       │ 0   │\n",
       "│ 3   │ 48.0277 │ 2011     │ 0    │ 0       │ 0   │\n",
       "│ 4   │ 52.4971 │ 2011     │ 0    │ 0       │ 0   │\n",
       "│ 5   │ 61.9243 │ 2011     │ 1    │ 61161   │ 0   │\n",
       "│ 6   │ 66.9426 │ 2011     │ 1    │ 61161   │ 0   │"
      ]
     },
     "execution_count": 11,
     "metadata": {},
     "output_type": "execute_result"
    }
   ],
   "source": [
    "Y[13] = 0\n",
    "head(Y)"
   ]
  },
  {
   "cell_type": "code",
   "execution_count": 12,
   "metadata": {
    "collapsed": false
   },
   "outputs": [],
   "source": [
    "for i in 1:size(Y)[1]\n",
    "    for j in 1:size(uniquefamilies)[1]\n",
    "        if (Y[i,:FAMILY] == uniquefamilies[j])\n",
    "            Y[i,13] =j\n",
    "        end\n",
    "    end\n",
    "end\n",
    "                \n",
    "            "
   ]
  },
  {
   "cell_type": "code",
   "execution_count": 13,
   "metadata": {
    "collapsed": false
   },
   "outputs": [
    {
     "data": {
      "text/html": [
       "<table class=\"data-frame\"><tr><th></th><th>YEAR</th><th>EXPERIMENT</th><th>LOCATION</th><th>VARIETY</th><th>FAMILY</th><th>CHECK</th><th>RM</th><th>REPNO</th><th>YIELD</th><th>CLASS_OF</th><th>GRAD</th><th>BAGSOLD</th><th>x13</th></tr><tr><th>1</th><td>2009</td><td>220</td><td>3310</td><td>136860</td><td>13983</td><td>0</td><td>3.7</td><td>1</td><td>68.1337202</td><td>2011</td><td>0</td><td>0</td><td>1</td></tr><tr><th>2</th><td>2009</td><td>220</td><td>3310</td><td>136860</td><td>13983</td><td>0</td><td>3.7</td><td>2</td><td>74.8365336</td><td>2011</td><td>0</td><td>0</td><td>1</td></tr><tr><th>3</th><td>2009</td><td>321</td><td>3310</td><td>120205</td><td>12494</td><td>0</td><td>3.8</td><td>1</td><td>48.0276593</td><td>2011</td><td>0</td><td>0</td><td>2</td></tr><tr><th>4</th><td>2009</td><td>321</td><td>3310</td><td>120205</td><td>12494</td><td>0</td><td>3.8</td><td>2</td><td>52.4971433</td><td>2011</td><td>0</td><td>0</td><td>2</td></tr><tr><th>5</th><td>2009</td><td>395</td><td>1110</td><td>148493</td><td>7635</td><td>0</td><td>2.1</td><td>1</td><td>61.9242944</td><td>2011</td><td>1</td><td>61161</td><td>3</td></tr><tr><th>6</th><td>2009</td><td>395</td><td>1110</td><td>148493</td><td>7635</td><td>0</td><td>2.1</td><td>2</td><td>66.9426311</td><td>2011</td><td>1</td><td>61161</td><td>3</td></tr></table>"
      ],
      "text/plain": [
       "6×13 DataFrames.DataFrame\n",
       "│ Row │ YEAR │ EXPERIMENT │ LOCATION │ VARIETY │ FAMILY │ CHECK │ RM  │ REPNO │\n",
       "├─────┼──────┼────────────┼──────────┼─────────┼────────┼───────┼─────┼───────┤\n",
       "│ 1   │ 2009 │ 220        │ \"3310\"   │ 136860  │ 13983  │ 0     │ 3.7 │ 1     │\n",
       "│ 2   │ 2009 │ 220        │ \"3310\"   │ 136860  │ 13983  │ 0     │ 3.7 │ 2     │\n",
       "│ 3   │ 2009 │ 321        │ \"3310\"   │ 120205  │ 12494  │ 0     │ 3.8 │ 1     │\n",
       "│ 4   │ 2009 │ 321        │ \"3310\"   │ 120205  │ 12494  │ 0     │ 3.8 │ 2     │\n",
       "│ 5   │ 2009 │ 395        │ \"1110\"   │ 148493  │ 7635   │ 0     │ 2.1 │ 1     │\n",
       "│ 6   │ 2009 │ 395        │ \"1110\"   │ 148493  │ 7635   │ 0     │ 2.1 │ 2     │\n",
       "\n",
       "│ Row │ YIELD   │ CLASS_OF │ GRAD │ BAGSOLD │ x13 │\n",
       "├─────┼─────────┼──────────┼──────┼─────────┼─────┤\n",
       "│ 1   │ 68.1337 │ 2011     │ 0    │ 0       │ 1   │\n",
       "│ 2   │ 74.8365 │ 2011     │ 0    │ 0       │ 1   │\n",
       "│ 3   │ 48.0277 │ 2011     │ 0    │ 0       │ 2   │\n",
       "│ 4   │ 52.4971 │ 2011     │ 0    │ 0       │ 2   │\n",
       "│ 5   │ 61.9243 │ 2011     │ 1    │ 61161   │ 3   │\n",
       "│ 6   │ 66.9426 │ 2011     │ 1    │ 61161   │ 3   │"
      ]
     },
     "execution_count": 13,
     "metadata": {},
     "output_type": "execute_result"
    }
   ],
   "source": [
    "head(Y)\n",
    "names!(df, [:YEAR, :EXPERIMENT, :LOCATION, :VARIETY, :FAMILY, :CHECK, :RM, :REPNO, :YIELD, :CLASS_OF, :CLASS_OF, :GRAD, :BAGSOLD]);\n"
   ]
  },
  {
   "cell_type": "code",
   "execution_count": 31,
   "metadata": {
    "collapsed": false
   },
   "outputs": [
    {
     "data": {
      "text/html": [
       "<table class=\"data-frame\"><tr><th></th><th>VARIETY</th><th>FAMILY</th><th>CHECK</th><th>RM</th><th>REPNO</th><th>YIELD</th><th>CLASS_OF</th><th>GRAD</th></tr><tr><th>1</th><td>136860</td><td>13983</td><td>0</td><td>3.7</td><td>1</td><td>68.1337202</td><td>2011</td><td>0</td></tr><tr><th>2</th><td>136860</td><td>13983</td><td>0</td><td>3.7</td><td>2</td><td>74.8365336</td><td>2011</td><td>0</td></tr><tr><th>3</th><td>120205</td><td>12494</td><td>0</td><td>3.8</td><td>1</td><td>48.0276593</td><td>2011</td><td>0</td></tr><tr><th>4</th><td>120205</td><td>12494</td><td>0</td><td>3.8</td><td>2</td><td>52.4971433</td><td>2011</td><td>0</td></tr><tr><th>5</th><td>148493</td><td>7635</td><td>0</td><td>2.1</td><td>1</td><td>61.9242944</td><td>2011</td><td>1</td></tr><tr><th>6</th><td>148493</td><td>7635</td><td>0</td><td>2.1</td><td>2</td><td>66.9426311</td><td>2011</td><td>1</td></tr><tr><th>7</th><td>148493</td><td>7635</td><td>0</td><td>2.1</td><td>1</td><td>54.9561997</td><td>2011</td><td>1</td></tr><tr><th>8</th><td>148493</td><td>7635</td><td>0</td><td>2.1</td><td>2</td><td>55.1584321</td><td>2011</td><td>1</td></tr><tr><th>9</th><td>148493</td><td>7635</td><td>0</td><td>2.1</td><td>1</td><td>50.4189084</td><td>2011</td><td>1</td></tr><tr><th>10</th><td>148493</td><td>7635</td><td>0</td><td>2.1</td><td>2</td><td>52.7375917</td><td>2011</td><td>1</td></tr><tr><th>11</th><td>148493</td><td>7635</td><td>0</td><td>2.1</td><td>1</td><td>46.0781988</td><td>2011</td><td>1</td></tr><tr><th>12</th><td>148493</td><td>7635</td><td>0</td><td>2.1</td><td>2</td><td>42.6891709</td><td>2011</td><td>1</td></tr><tr><th>13</th><td>148493</td><td>7635</td><td>0</td><td>2.1</td><td>1</td><td>48.6864015</td><td>2011</td><td>1</td></tr><tr><th>14</th><td>148493</td><td>7635</td><td>0</td><td>2.1</td><td>2</td><td>51.675723</td><td>2011</td><td>1</td></tr><tr><th>15</th><td>148493</td><td>7635</td><td>0</td><td>2.1</td><td>1</td><td>41.5514652</td><td>2011</td><td>1</td></tr><tr><th>16</th><td>148493</td><td>7635</td><td>0</td><td>2.1</td><td>2</td><td>48.8107149</td><td>2011</td><td>1</td></tr><tr><th>17</th><td>148493</td><td>7635</td><td>0</td><td>2.1</td><td>1</td><td>52.607925</td><td>2011</td><td>1</td></tr><tr><th>18</th><td>148493</td><td>7635</td><td>0</td><td>2.1</td><td>2</td><td>52.273052</td><td>2011</td><td>1</td></tr><tr><th>19</th><td>148493</td><td>7635</td><td>0</td><td>2.1</td><td>1</td><td>58.0818794</td><td>2011</td><td>1</td></tr><tr><th>20</th><td>148493</td><td>7635</td><td>0</td><td>2.1</td><td>2</td><td>55.9593317</td><td>2011</td><td>1</td></tr><tr><th>21</th><td>139548</td><td>13984</td><td>0</td><td>3.0</td><td>1</td><td>70.0321766</td><td>2013</td><td>0</td></tr><tr><th>22</th><td>139548</td><td>13984</td><td>0</td><td>3.0</td><td>2</td><td>66.9048612</td><td>2013</td><td>0</td></tr><tr><th>23</th><td>139548</td><td>13984</td><td>0</td><td>3.0</td><td>1</td><td>53.0831711</td><td>2013</td><td>0</td></tr><tr><th>24</th><td>139548</td><td>13984</td><td>0</td><td>3.0</td><td>2</td><td>63.4673571</td><td>2013</td><td>0</td></tr><tr><th>25</th><td>139548</td><td>13984</td><td>0</td><td>3.0</td><td>1</td><td>59.9804844</td><td>2013</td><td>0</td></tr><tr><th>26</th><td>139548</td><td>13984</td><td>0</td><td>3.0</td><td>2</td><td>59.6456114</td><td>2013</td><td>0</td></tr><tr><th>27</th><td>139548</td><td>13984</td><td>0</td><td>3.0</td><td>1</td><td>62.5488355</td><td>2013</td><td>0</td></tr><tr><th>28</th><td>139548</td><td>13984</td><td>0</td><td>3.0</td><td>2</td><td>49.1457366</td><td>2013</td><td>0</td></tr><tr><th>29</th><td>139548</td><td>13984</td><td>0</td><td>3.0</td><td>1</td><td>73.3279694</td><td>2013</td><td>0</td></tr><tr><th>30</th><td>139548</td><td>13984</td><td>0</td><td>3.0</td><td>2</td><td>82.9728176</td><td>2013</td><td>0</td></tr><tr><th>&vellip;</th><td>&vellip;</td><td>&vellip;</td><td>&vellip;</td><td>&vellip;</td><td>&vellip;</td><td>&vellip;</td><td>&vellip;</td><td>&vellip;</td></tr></table>"
      ],
      "text/plain": [
       "21894×8 DataFrames.DataFrame\n",
       "│ Row   │ VARIETY │ FAMILY │ CHECK │ RM  │ REPNO │ YIELD   │ CLASS_OF │ GRAD │\n",
       "├───────┼─────────┼────────┼───────┼─────┼───────┼─────────┼──────────┼──────┤\n",
       "│ 1     │ 136860  │ 13983  │ 0     │ 3.7 │ 1     │ 68.1337 │ 2011     │ 0    │\n",
       "│ 2     │ 136860  │ 13983  │ 0     │ 3.7 │ 2     │ 74.8365 │ 2011     │ 0    │\n",
       "│ 3     │ 120205  │ 12494  │ 0     │ 3.8 │ 1     │ 48.0277 │ 2011     │ 0    │\n",
       "│ 4     │ 120205  │ 12494  │ 0     │ 3.8 │ 2     │ 52.4971 │ 2011     │ 0    │\n",
       "│ 5     │ 148493  │ 7635   │ 0     │ 2.1 │ 1     │ 61.9243 │ 2011     │ 1    │\n",
       "│ 6     │ 148493  │ 7635   │ 0     │ 2.1 │ 2     │ 66.9426 │ 2011     │ 1    │\n",
       "│ 7     │ 148493  │ 7635   │ 0     │ 2.1 │ 1     │ 54.9562 │ 2011     │ 1    │\n",
       "│ 8     │ 148493  │ 7635   │ 0     │ 2.1 │ 2     │ 55.1584 │ 2011     │ 1    │\n",
       "│ 9     │ 148493  │ 7635   │ 0     │ 2.1 │ 1     │ 50.4189 │ 2011     │ 1    │\n",
       "│ 10    │ 148493  │ 7635   │ 0     │ 2.1 │ 2     │ 52.7376 │ 2011     │ 1    │\n",
       "│ 11    │ 148493  │ 7635   │ 0     │ 2.1 │ 1     │ 46.0782 │ 2011     │ 1    │\n",
       "⋮\n",
       "│ 21883 │ 152053  │ 14333  │ 1     │ 3.0 │ 1     │ 62.5545 │ 2013     │ 1    │\n",
       "│ 21884 │ 152053  │ 14333  │ 1     │ 3.0 │ 2     │ 59.4944 │ 2013     │ 1    │\n",
       "│ 21885 │ 152079  │ 11179  │ 1     │ 2.7 │ 1     │ 50.661  │ 2013     │ 1    │\n",
       "│ 21886 │ 152079  │ 11179  │ 1     │ 2.7 │ 2     │ 64.5563 │ 2013     │ 1    │\n",
       "│ 21887 │ 155843  │ 13991  │ 1     │ 3.0 │ 1     │ 73.7622 │ 2011     │ 1    │\n",
       "│ 21888 │ 155843  │ 13991  │ 1     │ 3.0 │ 2     │ 58.5208 │ 2011     │ 1    │\n",
       "│ 21889 │ 155853  │ 13521  │ 1     │ 2.7 │ 1     │ 57.3599 │ 2011     │ 1    │\n",
       "│ 21890 │ 155853  │ 13521  │ 1     │ 2.7 │ 2     │ 57.2151 │ 2011     │ 1    │\n",
       "│ 21891 │ 156314  │ 12531  │ 1     │ 2.8 │ 1     │ 69.472  │ 2012     │ 1    │\n",
       "│ 21892 │ 156314  │ 12531  │ 1     │ 2.8 │ 2     │ 64.0897 │ 2012     │ 1    │\n",
       "│ 21893 │ 156553  │ 14238  │ 1     │ 2.9 │ 1     │ 72.7678 │ 2013     │ 1    │\n",
       "│ 21894 │ 156553  │ 14238  │ 1     │ 2.9 │ 2     │ 60.1867 │ 2013     │ 1    │"
      ]
     },
     "execution_count": 31,
     "metadata": {},
     "output_type": "execute_result"
    }
   ],
   "source": [
    "size(Y)\n",
    "Y = Y[4:11]"
   ]
  },
  {
   "cell_type": "code",
   "execution_count": 6,
   "metadata": {
    "collapsed": false
   },
   "outputs": [
    {
     "name": "stdout",
     "output_type": "stream",
     "text": [
      "typeof(Y[:YEAR]) = DataArrays.DataArray{Int64,1}\n",
      "typeof(Y[:EXPERIMENT]) = DataArrays.DataArray{Int64,1}\n",
      "typeof(Y[:CHECK]) = DataArrays.DataArray{Int64,1}\n"
     ]
    },
    {
     "data": {
      "text/plain": [
       "DataArrays.DataArray{Int64,1}"
      ]
     },
     "execution_count": 6,
     "metadata": {},
     "output_type": "execute_result"
    }
   ],
   "source": [
    "@show typeof(Y[:YEAR])\n",
    "@show typeof(Y[:EXPERIMENT])\n",
    "@show typeof(Y[:CHECK])"
   ]
  },
  {
   "cell_type": "code",
   "execution_count": 32,
   "metadata": {
    "collapsed": false
   },
   "outputs": [],
   "source": [
    "loss = QuadLoss()\n",
    "#nonneg = NonNegConstraint()\n",
    "quadreg=  QuadReg()\n",
    "\n",
    "nonneg = NonNegConstraint()\n",
    "\n",
    "k = 5\n",
    "glrm = GLRM(Y, loss, nonneg, nonneg, k);"
   ]
  },
  {
   "cell_type": "code",
   "execution_count": 36,
   "metadata": {
    "collapsed": false
   },
   "outputs": [
    {
     "name": "stdout",
     "output_type": "stream",
     "text": [
      "Fitting GLRM\n",
      "Iteration 10: objective value = 2.5810700853641605e13\n",
      "ch.objective = [2.58107e13,2.58107e13,2.58107e13,2.58107e13,2.58107e13,2.58107e13,2.58107e13,2.58107e13,2.58107e13,2.58107e13,2.58107e13,2.58107e13]\n"
     ]
    },
    {
     "data": {
      "text/plain": [
       "12-element Array{Float64,1}:\n",
       " 2.58107e13\n",
       " 2.58107e13\n",
       " 2.58107e13\n",
       " 2.58107e13\n",
       " 2.58107e13\n",
       " 2.58107e13\n",
       " 2.58107e13\n",
       " 2.58107e13\n",
       " 2.58107e13\n",
       " 2.58107e13\n",
       " 2.58107e13\n",
       " 2.58107e13"
      ]
     },
     "execution_count": 36,
     "metadata": {},
     "output_type": "execute_result"
    }
   ],
   "source": [
    "# To fit the model, call\n",
    "X,W,ch = fit!(glrm)\n",
    "@show ch.objective"
   ]
  },
  {
   "cell_type": "code",
   "execution_count": 9,
   "metadata": {
    "collapsed": false
   },
   "outputs": [
    {
     "ename": "LoadError",
     "evalue": "LoadError: UndefVarError: X not defined\nwhile loading In[9], in expression starting on line 218",
     "output_type": "error",
     "traceback": [
      "LoadError: UndefVarError: X not defined\nwhile loading In[9], in expression starting on line 218",
      ""
     ]
    }
   ],
   "source": [
    "@show X"
   ]
  }
 ],
 "metadata": {
  "kernelspec": {
   "display_name": "Julia 0.5.0",
   "language": "julia",
   "name": "julia-0.5"
  },
  "language_info": {
   "file_extension": ".jl",
   "mimetype": "application/julia",
   "name": "julia",
   "version": "0.5.0"
  }
 },
 "nbformat": 4,
 "nbformat_minor": 0
}
