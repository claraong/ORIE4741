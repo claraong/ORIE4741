{
 "cells": [
  {
   "cell_type": "markdown",
   "metadata": {},
   "source": [
    "# Julia Syntax Tutorial\n",
    "\n",
    "Everything covered today (and **even more**) can be found [here](http://docs.julialang.org/en/release-0.4/manual/)."
   ]
  },
  {
   "cell_type": "code",
   "execution_count": 4,
   "metadata": {
    "collapsed": false
   },
   "outputs": [
    {
     "name": "stdout",
     "output_type": "stream",
     "text": [
      "1.0e-5\n",
      "e = 2.7182818284590...\n"
     ]
    }
   ],
   "source": [
    "# Variables\n",
    "\n",
    "x = 3 \n",
    "x = 3.0\n",
    "words = \"Hello world!\"\n",
    "character = 'a'\n",
    "δ = 1e-5\n",
    "pi\n",
    "e\n",
    "\n",
    "α̂₁ = pi / 2\n",
    "println(e)\n",
    "println(δ)"
   ]
  },
  {
   "cell_type": "code",
   "execution_count": 3,
   "metadata": {
    "collapsed": false
   },
   "outputs": [
    {
     "name": "stdout",
     "output_type": "stream",
     "text": [
      "Column: [1,2,3]\n",
      "b: [1 2 3 4 5 6 7 8 9]\n",
      "B: [1 4 7\n",
      " 2 5 8\n",
      " 3 6 9]\n",
      "C: [15 15 15\n",
      " 15 15 15]\n",
      "A: [1 2 3\n",
      " 4 5 6\n",
      " 7 8 9]\n",
      "Length A: 9\n",
      "Dim A:2\n",
      "Size A:(3,3)\n"
     ]
    }
   ],
   "source": [
    "# Arrays\n",
    "\n",
    "u = [1 3 5 7]\n",
    "v = ones(4) #Float\n",
    "w = Array(Float64, 2) #Without initialising the contents\n",
    "\n",
    "X = rand(4, 4)\n",
    "I = eye(4)\n",
    "\n",
    "column = [1,2,3] #Commas: Column vector. Comma only applies to vectors and arrays not matrices.\n",
    "row = [1 2 3]\n",
    "A = [1 2 3; 4 5 6; 7 8 9] #3 by 3 matrix\n",
    "b = [[1 2 3] [4 5 6] [7 8 9]] # Concetanate: 1 by 0\n",
    "B = reshape(b, 3, 3)\n",
    "C = fill(15, 2, 3) #2 by 3 matrix\n",
    "\n",
    "println(\"Column: \", column)\n",
    "\n",
    "println(\"b: \", b)\n",
    "println(\"B: \", B)\n",
    "println(\"C: \", C)\n",
    "\n",
    "println(\"A: \",A )\n",
    "println(\"Length A: \", length(A))\n",
    "println(\"Dim A:\", ndims(A)) # 2: Row and column\n",
    "println(\"Size A:\", size(A))\n"
   ]
  },
  {
   "cell_type": "code",
   "execution_count": 7,
   "metadata": {
    "collapsed": false
   },
   "outputs": [
    {
     "name": "stdout",
     "output_type": "stream",
     "text": [
      "[1 2 3\n",
      " 4 5 6\n",
      " 7 8 9]\n"
     ]
    },
    {
     "ename": "LoadError",
     "evalue": "LoadError: MethodError: `index_shape_dim` has no method matching index_shape_dim(::Array{Int64,2}, ::Int64, ::Array{Int64,2})\n\nYou might have used a 2d row vector where a 1d column vector was required.\nNote the difference between 1d column vector [1,2,3] and 2d row vector [1 2 3].\nYou can convert to a column vector with the vec() function.\nClosest candidates are:\n  index_shape_dim(::Any, ::Any, !Matched::Real...)\n  index_shape_dim(::Any, ::Any, !Matched::Colon)\n  index_shape_dim(::Any, ::Any, !Matched::Colon, !Matched::Any, !Matched::Any...)\n  ...\nwhile loading In[7], in expression starting on line 7",
     "output_type": "error",
     "traceback": [
      "LoadError: MethodError: `index_shape_dim` has no method matching index_shape_dim(::Array{Int64,2}, ::Int64, ::Array{Int64,2})\n\nYou might have used a 2d row vector where a 1d column vector was required.\nNote the difference between 1d column vector [1,2,3] and 2d row vector [1 2 3].\nYou can convert to a column vector with the vec() function.\nClosest candidates are:\n  index_shape_dim(::Any, ::Any, !Matched::Real...)\n  index_shape_dim(::Any, ::Any, !Matched::Colon)\n  index_shape_dim(::Any, ::Any, !Matched::Colon, !Matched::Any, !Matched::Any...)\n  ...\nwhile loading In[7], in expression starting on line 7",
      "",
      " in getindex at abstractarray.jl:488"
     ]
    }
   ],
   "source": [
    "# Array indexing and assignment\n",
    "println(A)\n",
    "# Array indexing\n",
    "A[3, 1] #3rd row, 1st column\n",
    "A[1,:]\n",
    "A[1:2, 2:end]\n",
    "A[2, [1 3]]\n",
    "\n",
    "# Array assignment\n",
    "A[1:2, 2:3] = -1\n",
    "A[3, 1:2] = [10 11]\n"
   ]
  },
  {
   "cell_type": "code",
   "execution_count": 37,
   "metadata": {
    "collapsed": false
   },
   "outputs": [
    {
     "ename": "LoadError",
     "evalue": "LoadError: DimensionMismatch(\"matrix A has dimensions (3,1), vector B has length 3\")\nwhile loading In[37], in expression starting on line 7",
     "output_type": "error",
     "traceback": [
      "LoadError: DimensionMismatch(\"matrix A has dimensions (3,1), vector B has length 3\")\nwhile loading In[37], in expression starting on line 7",
      "",
      " in generic_matvecmul! at linalg/matmul.jl:369",
      " in Ac_mul_B at linalg/matmul.jl:121"
     ]
    }
   ],
   "source": [
    "# Mathematical operations\n",
    "\n",
    "2 + 5\n",
    "3.5 ^ 2\n",
    "[1 2] + [2 3]\n",
    "[1 2] * 1.5\n",
    "C = A[1, :]' * ones(3)\n",
    "println(C)\n",
    "A .* B # Element-wise\n",
    "\n"
   ]
  },
  {
   "cell_type": "code",
   "execution_count": 38,
   "metadata": {
    "collapsed": false
   },
   "outputs": [
    {
     "data": {
      "text/plain": [
       "1x2 BitArray{2}:\n",
       " true  true"
      ]
     },
     "execution_count": 38,
     "metadata": {},
     "output_type": "execute_result"
    }
   ],
   "source": [
    "3.0 > 2.0\n",
    "9 ≤ 9 # less than equal to: \\le\n",
    "1 != 2\n",
    "[1 2] .< [2 3] # ELement-wise\n"
   ]
  },
  {
   "cell_type": "code",
   "execution_count": 39,
   "metadata": {
    "collapsed": false
   },
   "outputs": [
    {
     "name": "stdout",
     "output_type": "stream",
     "text": [
      "x is greater than y: 2 > 1\n"
     ]
    }
   ],
   "source": [
    "# Control flow\n",
    "x = 2\n",
    "y = 1\n",
    "if x < y\n",
    "    println(\"x is less than y: $x < $y\") # Dollar sign evaluates the function or variable\n",
    "elseif x > y\n",
    "  println(\"x is greater than y: $x > $y\")\n",
    "else\n",
    "  println(\"x is equal to y: $x = $y\")\n",
    "en"
   ]
  },
  {
   "cell_type": "code",
   "execution_count": 40,
   "metadata": {
    "collapsed": false
   },
   "outputs": [
    {
     "name": "stdout",
     "output_type": "stream",
     "text": [
      "1\n",
      "2\n",
      "3\n",
      "4\n",
      "5\n"
     ]
    }
   ],
   "source": [
    "i = 1\n",
    "while i <= 5\n",
    "    println(i)\n",
    "    i += 1 \n",
    "end"
   ]
  },
  {
   "cell_type": "code",
   "execution_count": 42,
   "metadata": {
    "collapsed": false
   },
   "outputs": [
    {
     "name": "stdout",
     "output_type": "stream",
     "text": [
      "1\n",
      "2\n"
     ]
    }
   ],
   "source": [
    "for i = 1:5\n",
    "    if i == 3\n",
    "        continue # Code after the if block will not execute\n",
    "        # break # Only 1 and 2 will print. Will jump out of the loop\n",
    "    end\n",
    "    println(i)\n",
    "end"
   ]
  },
  {
   "cell_type": "code",
   "execution_count": 44,
   "metadata": {
    "collapsed": false
   },
   "outputs": [
    {
     "name": "stdout",
     "output_type": "stream",
     "text": [
      "[1,3,5,7]\n",
      "1\n",
      "3\n",
      "5\n",
      "7\n"
     ]
    }
   ],
   "source": [
    "u = [1,3,5,7]\n",
    "\n",
    "for i in u\n",
    "    println(i)\n",
    "end"
   ]
  },
  {
   "cell_type": "markdown",
   "metadata": {},
   "source": [
    "# functions"
   ]
  },
  {
   "cell_type": "code",
   "execution_count": 46,
   "metadata": {
    "collapsed": false
   },
   "outputs": [
    {
     "name": "stdout",
     "output_type": "stream",
     "text": [
      "f(3): 6\n"
     ]
    },
    {
     "data": {
      "text/plain": [
       "f (generic function with 1 method)"
      ]
     },
     "execution_count": 46,
     "metadata": {},
     "output_type": "execute_result"
    }
   ],
   "source": [
    "# these three syntaxes all define the function f(x) = 2x\n",
    "f(x) = 2*x\n",
    "println(\"f(3): \", f(3))\n",
    "function f(x)\n",
    "    return 2*x\n",
    "end"
   ]
  },
  {
   "cell_type": "code",
   "execution_count": 48,
   "metadata": {
    "collapsed": false
   },
   "outputs": [
    {
     "data": {
      "text/plain": [
       "6"
      ]
     },
     "execution_count": 48,
     "metadata": {},
     "output_type": "execute_result"
    }
   ],
   "source": [
    "# default values for positional arguments\n",
    "function f(x, mult=2)\n",
    "    return mult*x\n",
    "end\n",
    "f(2)    # ==4\n",
    "f(2, 3) # ==6"
   ]
  },
  {
   "cell_type": "code",
   "execution_count": null,
   "metadata": {
    "collapsed": true
   },
   "outputs": [],
   "source": [
    "# default values for keyword arguments: use a semicolon instead of a comma\n",
    "function f(x; mult=2)\n",
    "    return mult*x\n",
    "end\n",
    "f(2)         # ==4\n",
    "f(2, mult=3) # ==6  # Have to specify \"mult\""
   ]
  },
  {
   "cell_type": "code",
   "execution_count": 49,
   "metadata": {
    "collapsed": false
   },
   "outputs": [
    {
     "name": "stdout",
     "output_type": "stream",
     "text": [
      "1\n",
      "2\n",
      "3\n",
      "4\n",
      "a\n",
      "b\n",
      "c\n"
     ]
    },
    {
     "ename": "LoadError",
     "evalue": "LoadError: syntax: missing comma or ) in argument list\nwhile loading In[49], in expression starting on line 8",
     "output_type": "error",
     "traceback": [
      "LoadError: syntax: missing comma or ) in argument list\nwhile loading In[49], in expression starting on line 8",
      ""
     ]
    }
   ],
   "source": [
    "# variable number of arguments\n",
    "function f(x...)\n",
    "    for xi in x\n",
    "        println(xi)\n",
    "    end\n",
    "end\n",
    "f(1,2,3,4,\"a\",\"b\",\"c\")"
   ]
  },
  {
   "cell_type": "code",
   "execution_count": 2,
   "metadata": {
    "collapsed": false
   },
   "outputs": [
    {
     "data": {
      "text/plain": [
       "50-element Array{Int64,1}:\n",
       "      1\n",
       "      1\n",
       "      1\n",
       "      1\n",
       "      1\n",
       "      2\n",
       "      4\n",
       "      8\n",
       "     16\n",
       "     32\n",
       "      3\n",
       "      9\n",
       "     27\n",
       "     81\n",
       "    243\n",
       "      4\n",
       "     16\n",
       "     64\n",
       "    256\n",
       "   1024\n",
       "      5\n",
       "     25\n",
       "    125\n",
       "    625\n",
       "   3125\n",
       "      6\n",
       "     36\n",
       "    216\n",
       "   1296\n",
       "   7776\n",
       "      7\n",
       "     49\n",
       "    343\n",
       "   2401\n",
       "  16807\n",
       "      8\n",
       "     64\n",
       "    512\n",
       "   4096\n",
       "  32768\n",
       "      9\n",
       "     81\n",
       "    729\n",
       "   6561\n",
       "  59049\n",
       "     10\n",
       "    100\n",
       "   1000\n",
       "  10000\n",
       " 100000"
      ]
     },
     "execution_count": 2,
     "metadata": {},
     "output_type": "execute_result"
    }
   ],
   "source": [
    "# list comprehensions: shorthand for loops (not very memory efficient)\n",
    "[x^2 for x in 1:5]\n",
    "[x^2 for x in 1:5 if x>2]\n",
    "[x^k for x in 1:10 for k in 1:5] # Nested for loop. x is the outer loop."
   ]
  },
  {
   "cell_type": "code",
   "execution_count": 54,
   "metadata": {
    "collapsed": false
   },
   "outputs": [
    {
     "data": {
      "text/plain": [
       "-1"
      ]
     },
     "execution_count": 54,
     "metadata": {},
     "output_type": "execute_result"
    }
   ],
   "source": [
    "# dictionaries and sets\n",
    "\n",
    "x = Set([1,2,3,3,4,1]) # Duplicates removed\n",
    "y = Set([1,5])\n",
    "union(x, y)\n",
    "intersect(x, y)\n",
    "d = Dict()\n",
    "d[4] = 7\n",
    "d['a'] = 2 # Index need not be integer\n",
    "# get (d,3) # Error\n",
    "get(d, 4, -1) # If the key-pair does not exist, the default vaule returned is -1\n",
    "get (d, 3, -1)"
   ]
  },
  {
   "cell_type": "markdown",
   "metadata": {},
   "source": [
    "# advanced topic for people who like OOP: types and multiple dispatch"
   ]
  },
  {
   "cell_type": "code",
   "execution_count": 55,
   "metadata": {
    "collapsed": false
   },
   "outputs": [
    {
     "data": {
      "text/plain": [
       "1.0"
      ]
     },
     "execution_count": 55,
     "metadata": {},
     "output_type": "execute_result"
    }
   ],
   "source": [
    "# x::y is an assertion that x is a variable of type y\n",
    "\n",
    "1.0::Float64"
   ]
  },
  {
   "cell_type": "code",
   "execution_count": 56,
   "metadata": {
    "collapsed": false
   },
   "outputs": [
    {
     "ename": "LoadError",
     "evalue": "LoadError: TypeError: typeassert: expected Int64, got Float64\nwhile loading In[56], in expression starting on line 2",
     "output_type": "error",
     "traceback": [
      "LoadError: TypeError: typeassert: expected Int64, got Float64\nwhile loading In[56], in expression starting on line 2",
      ""
     ]
    }
   ],
   "source": [
    "# if we assert something false, we get a type error \n",
    "1.0::Int"
   ]
  },
  {
   "cell_type": "code",
   "execution_count": 57,
   "metadata": {
    "collapsed": false
   },
   "outputs": [
    {
     "name": "stdout",
     "output_type": "stream",
     "text": [
      "2 is an integer\n",
      "2.0 is an float\n"
     ]
    }
   ],
   "source": [
    "# we can define many functions with the same name, which call arguments of different types\n",
    "# julia decides which to call by looking at the type of the argument\n",
    "\n",
    "f(x::Int) = println(\"$x is an integer\")\n",
    "f(x::Float64) = println(\"$x is an float\")\n",
    "f(2)\n",
    "f(2.0)"
   ]
  },
  {
   "cell_type": "code",
   "execution_count": 59,
   "metadata": {
    "collapsed": false
   },
   "outputs": [
    {
     "name": "stderr",
     "output_type": "stream",
     "text": [
      "WARNING: Base.String is deprecated"
     ]
    },
    {
     "data": {
      "text/plain": [
       "Student(\"Bob\",3.2)"
      ]
     },
     "execution_count": 59,
     "metadata": {},
     "output_type": "execute_result"
    },
    {
     "name": "stderr",
     "output_type": "stream",
     "text": [
      ", use AbstractString instead.\n",
      "  likely near In[59]:1\n",
      "WARNING: Base.String is deprecated, use AbstractString instead.\n",
      "  likely near In[59]:1\n",
      "WARNING: Base.String is deprecated, use AbstractString instead.\n",
      "  likely near In[59]:6\n",
      "WARNING: Base.String is deprecated, use AbstractString instead.\n",
      "  likely near In[59]:6\n",
      "WARNING: Base.String is deprecated, use AbstractString instead.\n",
      "  likely near In[59]:6\n"
     ]
    }
   ],
   "source": [
    "type Student\n",
    "    name::String    # Capital letter\n",
    "    gpa::Float64\n",
    "end\n",
    "\n",
    "s1 = Student(\"Alice\", 3.9)\n",
    "s2 = Student(\"Bob\", 3.2)"
   ]
  },
  {
   "cell_type": "code",
   "execution_count": 28,
   "metadata": {
    "collapsed": false
   },
   "outputs": [
    {
     "data": {
      "text/plain": [
       "\"Alice\""
      ]
     },
     "execution_count": 28,
     "metadata": {},
     "output_type": "execute_result"
    }
   ],
   "source": [
    "s1.name"
   ]
  },
  {
   "cell_type": "code",
   "execution_count": 29,
   "metadata": {
    "collapsed": false
   },
   "outputs": [
    {
     "name": "stdout",
     "output_type": "stream",
     "text": [
      "Alice has a 3.9 gpa\n",
      "Bob has a 3.2 gpa\n",
      "4 is an integer\n",
      "1.4142135623730951 is an float\n"
     ]
    }
   ],
   "source": [
    "f(s::Student) = println(\"$(s.name) has a $(s.gpa) gpa\")\n",
    "\n",
    "# we've defined the \"f\" function on three different types\n",
    "# julia knows to call the right one by looking at the type of the argument\n",
    "# f can take in student, integer, float\n",
    "\n",
    "f(s1)\n",
    "f(s2)\n",
    "f(4)\n",
    "f(sqrt(2))"
   ]
  }
 ],
 "metadata": {
  "anaconda-cloud": {},
  "kernelspec": {
   "display_name": "Julia 0.4.6",
   "language": "julia",
   "name": "julia-0.4"
  },
  "language_info": {
   "file_extension": ".jl",
   "mimetype": "application/julia",
   "name": "julia",
   "version": "0.4.6"
  }
 },
 "nbformat": 4,
 "nbformat_minor": 0
}
