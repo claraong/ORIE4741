{
 "cells": [
  {
   "cell_type": "code",
   "execution_count": 1,
   "metadata": {
    "collapsed": false
   },
   "outputs": [
    {
     "name": "stderr",
     "output_type": "stream",
     "text": [
      "INFO: Nothing to be done\n",
      "INFO: METADATA is out-of-date — you may not have the latest version of ScikitLearn\n",
      "INFO: Use `Pkg.update()` to get the latest versions of your packages\n",
      "INFO: Updating METADATA...\n",
      "INFO: Updating cache of DataFrames...\n",
      "INFO: Updating cache of SymPy...\n",
      "INFO: Updating cache of DataFrames...\n",
      "INFO: Updating LowRankModels master...\n",
      "INFO: Computing changes...\n",
      "INFO: Upgrading SymPy: v0.3.2 => v0.4.0\n",
      "INFO: Building Conda\n",
      "INFO: Building PyCall\n",
      "INFO: PyCall is using C:\\Users\\User\\Anaconda3\\python.exe (Python 3.5.2) at C:\\Users\\User\\Anaconda3\\python.exe, libpython = C:\\Users\\User\\Anaconda3\\python35\n",
      "INFO: Recompiling stale cache file C:\\Users\\User\\.julia\\lib\\v0.5\\PyCall.ji for module PyCall.\n",
      "INFO: Recompiling stale cache file C:\\Users\\User\\.julia\\lib\\v0.5\\ScikitLearn.ji for module ScikitLearn.\n",
      "WARNING: Method definition require(Symbol) in module Base at loading.jl:345 overwritten in module Main at C:\\Users\\User\\.julia\\v0.5\\Requires\\src\\require.jl:12.\n"
     ]
    }
   ],
   "source": [
    "Pkg.add(\"ScikitLearn\")\n",
    "Pkg.update()\n",
    "using ScikitLearn"
   ]
  },
  {
   "cell_type": "code",
   "execution_count": 2,
   "metadata": {
    "collapsed": false
   },
   "outputs": [
    {
     "name": "stderr",
     "output_type": "stream",
     "text": [
      "(Symbol) in module Base at loading.jl:345 overwritten in module Main at C:\\Users\\User\\.julia\\v0.5\\Requires\\src\\require.jl:12.\n",
      "INFO: Nothing to be done\n"
     ]
    }
   ],
   "source": [
    "Pkg.add(\"RDatasets\")"
   ]
  },
  {
   "cell_type": "code",
   "execution_count": 3,
   "metadata": {
    "collapsed": false
   },
   "outputs": [
    {
     "name": "stderr",
     "output_type": "stream",
     "text": [
      "INFO: Recompiling stale cache file C:\\Users\\User\\.julia\\lib\\v0.5\\FileIO.ji for module FileIO.\n",
      "INFO: Recompiling stale cache file C:\\Users\\User\\.julia\\lib\\v0.5\\SortingAlgorithms.ji for module SortingAlgorithms.\n",
      "INFO: Recompiling stale cache file C:\\Users\\User\\.julia\\lib\\v0.5\\DataFrames.ji for module DataFrames.\n",
      "INFO: Precompiling module RData.\n"
     ]
    },
    {
     "data": {
      "text/plain": [
       "150-element Array{String,1}:\n",
       " \"setosa\"   \n",
       " \"setosa\"   \n",
       " \"setosa\"   \n",
       " \"setosa\"   \n",
       " \"setosa\"   \n",
       " \"setosa\"   \n",
       " \"setosa\"   \n",
       " \"setosa\"   \n",
       " \"setosa\"   \n",
       " \"setosa\"   \n",
       " \"setosa\"   \n",
       " \"setosa\"   \n",
       " \"setosa\"   \n",
       " ⋮          \n",
       " \"virginica\"\n",
       " \"virginica\"\n",
       " \"virginica\"\n",
       " \"virginica\"\n",
       " \"virginica\"\n",
       " \"virginica\"\n",
       " \"virginica\"\n",
       " \"virginica\"\n",
       " \"virginica\"\n",
       " \"virginica\"\n",
       " \"virginica\"\n",
       " \"virginica\""
      ]
     },
     "execution_count": 3,
     "metadata": {},
     "output_type": "execute_result"
    }
   ],
   "source": [
    "using RDatasets: dataset\n",
    "\n",
    "iris = dataset(\"datasets\", \"iris\")\n",
    "\n",
    "# ScikitLearn.jl expects arrays, but DataFrames can also be used - see\n",
    "# the corresponding section of the manual\n",
    "X = convert(Array, iris[[:SepalLength, :SepalWidth, :PetalLength, :PetalWidth]])\n",
    "y = convert(Array, iris[:Species])"
   ]
  },
  {
   "cell_type": "code",
   "execution_count": 4,
   "metadata": {
    "collapsed": false
   },
   "outputs": [],
   "source": [
    "# This model requires scikit-learn. See\n",
    "# http://scikitlearnjl.readthedocs.io/en/latest/models/#installation\n",
    "@sk_import linear_model: LogisticRegression"
   ]
  },
  {
   "cell_type": "code",
   "execution_count": 5,
   "metadata": {
    "collapsed": false
   },
   "outputs": [
    {
     "data": {
      "text/plain": [
       "PyObject LogisticRegression(C=1.0, class_weight=None, dual=False, fit_intercept=True,\n",
       "          intercept_scaling=1, max_iter=100, multi_class='ovr', n_jobs=1,\n",
       "          penalty='l2', random_state=None, solver='liblinear', tol=0.0001,\n",
       "          verbose=0, warm_start=False)"
      ]
     },
     "execution_count": 5,
     "metadata": {},
     "output_type": "execute_result"
    }
   ],
   "source": [
    "model = LogisticRegression(fit_intercept=true)"
   ]
  },
  {
   "cell_type": "code",
   "execution_count": 6,
   "metadata": {
    "collapsed": false
   },
   "outputs": [
    {
     "name": "stderr",
     "output_type": "stream",
     "text": [
      "WARNING: Base.writemime is deprecated.\n",
      "  likely near C:\\Users\\User\\.julia\\v0.5\\IJulia\\src\\kernel.jl:31\n"
     ]
    },
    {
     "ename": "LoadError",
     "evalue": "LoadError: UndefVarError: fit not defined\nwhile loading In[6], in expression starting on line 2",
     "output_type": "error",
     "traceback": [
      "LoadError: UndefVarError: fit not defined\nwhile loading In[6], in expression starting on line 2",
      ""
     ]
    }
   ],
   "source": [
    "fit!(model, X, y)\n",
    "model0 = fit(model, X, y)\n",
    "\n",
    "accuracy = sum(predict(model, X) .== y) / length(y)\n",
    "println(\"accuracy: $accuracy\")"
   ]
  },
  {
   "cell_type": "code",
   "execution_count": 7,
   "metadata": {
    "collapsed": false
   },
   "outputs": [
    {
     "name": "stderr",
     "output_type": "stream",
     "text": [
      "WARNING: Base.writemime is deprecated.\n",
      "  likely near C:\\Users\\User\\.julia\\v0.5\\IJulia\\src\\kernel.jl:31\n",
      "WARNING: Base.writemime is deprecated.\n",
      "  likely near C:\\Users\\User\\.julia\\v0.5\\IJulia\\src\\kernel.jl:31\n"
     ]
    },
    {
     "data": {
      "text/plain": [
       "150×3 Array{Float64,2}:\n",
       " 0.87803      0.121959   1.07949e-5\n",
       " 0.797058     0.202911   3.02949e-5\n",
       " 0.851998     0.147976   2.58551e-5\n",
       " 0.823406     0.176536   5.78218e-5\n",
       " 0.896035     0.103954   1.11907e-5\n",
       " 0.926234     0.0737528  1.29613e-5\n",
       " 0.894097     0.105864   3.92166e-5\n",
       " 0.860034     0.139947   1.88751e-5\n",
       " 0.801029     0.198887   8.46026e-5\n",
       " 0.792662     0.207312   2.56052e-5\n",
       " 0.890486     0.109508   6.16178e-6\n",
       " 0.861801     0.138165   3.43689e-5\n",
       " 0.785364     0.214608   2.73661e-5\n",
       " ⋮                                 \n",
       " 0.00431283   0.317469   0.678218  \n",
       " 0.00117132   0.3003     0.698528  \n",
       " 0.000450214  0.2008     0.79875   \n",
       " 0.00216404   0.247614   0.750222  \n",
       " 0.000814031  0.293447   0.705739  \n",
       " 0.000293581  0.223397   0.77631   \n",
       " 0.000455252  0.152049   0.847495  \n",
       " 0.00116469   0.23233    0.766505  \n",
       " 0.000920404  0.379263   0.619817  \n",
       " 0.00146455   0.297584   0.700951  \n",
       " 0.00110986   0.129832   0.869058  \n",
       " 0.00169379   0.279973   0.718333  "
      ]
     },
     "execution_count": 7,
     "metadata": {},
     "output_type": "execute_result"
    }
   ],
   "source": [
    "predict_proba(model, X)"
   ]
  },
  {
   "cell_type": "code",
   "execution_count": 8,
   "metadata": {
    "collapsed": false
   },
   "outputs": [
    {
     "name": "stderr",
     "output_type": "stream",
     "text": [
      "WARNING: Base.writemime is deprecated.\n",
      "  likely near C:\\Users\\User\\.julia\\v0.5\\IJulia\\src\\kernel.jl:31\n",
      "WARNING: Base.writemime is deprecated.\n",
      "  likely near C:\\Users\\User\\.julia\\v0.5\\IJulia\\src\\kernel.jl:31\n",
      "WARNING: Base.writemime is deprecated.\n",
      "  likely near C:\\Users\\User\\.julia\\v0.5\\IJulia\\src\\kernel.jl:31\n",
      "WARNING: Base.writemime is deprecated.\n",
      "  likely near C:\\Users\\User\\.julia\\v0.5\\IJulia\\src\\kernel.jl:31\n",
      "WARNING: "
     ]
    },
    {
     "data": {
      "text/plain": [
       "5-element Array{Float64,1}:\n",
       " 1.0     \n",
       " 0.966667\n",
       " 0.933333\n",
       " 0.9     \n",
       " 1.0     "
      ]
     },
     "execution_count": 8,
     "metadata": {},
     "output_type": "execute_result"
    }
   ],
   "source": [
    "using ScikitLearn.CrossValidation: cross_val_score\n",
    "\n",
    "cross_val_score(LogisticRegression(), X, y; cv=5)  # 5-fold"
   ]
  },
  {
   "cell_type": "markdown",
   "metadata": {},
   "source": [
    "#Classifier Comparison"
   ]
  },
  {
   "cell_type": "code",
   "execution_count": 9,
   "metadata": {
    "collapsed": false
   },
   "outputs": [
    {
     "name": "stderr",
     "output_type": "stream",
     "text": [
      "Base.writemime is deprecated.\n",
      "  likely near C:\\Users\\User\\.julia\\v0.5\\IJulia\\src\\kernel.jl:31\n",
      "WARNING: Base.writemime is deprecated.\n",
      "  likely near C:\\Users\\User\\.julia\\v0.5\\IJulia\\src\\kernel.jl:31\n",
      "WARNING: Base.writemime is deprecated.\n",
      "  likely near C:\\Users\\User\\.julia\\v0.5\\IJulia\\src\\kernel.jl:31\n",
      "WARNING: Base.writemime is deprecated.\n",
      "  likely near C:\\Users\\User\\.julia\\v0.5\\IJulia\\src\\kernel.jl:31\n",
      "WARNING: Base.writemime is deprecated.\n",
      "  likely near C:\\Users\\User\\.julia\\v0.5\\IJulia\\src\\kernel.jl:31\n",
      "WARNING: Base.writemime is deprecated.\n",
      "  likely near C:\\Users\\User\\.julia\\v0.5\\IJulia\\src\\kernel.jl:31\n",
      "in show at C:\\Users\\User\\.julia\\v0.5\\PyCall\\src\\PyCall.jl\n",
      "WARNING: Base.writemime is deprecated.\n",
      "  likely near C:\\Users\\User\\.julia\\v0.5\\IJulia\\src\\kernel.jl:31\n",
      "in show at C:\\Users\\User\\.julia\\v0.5\\PyCall\\src\\PyCall.jl\n",
      "WARNING: Base.writemime is deprecated.\n",
      "  likely near C:\\Users\\User\\.julia\\v0.5\\IJulia\\src\\kernel.jl:31\n",
      "in show at C:\\Users\\User\\.julia\\v0.5\\PyCall\\src\\PyCall.jl\n",
      "WARNING: Base.writemime is deprecated.\n",
      "  likely near C:\\Users\\User\\.julia\\v0.5\\IJulia\\src\\kernel.jl:31\n",
      "in show at C:\\Users\\User\\.julia\\v0.5\\PyCall\\src\\PyCall.jl\n",
      "WARNING: Base.writemime is deprecated.\n",
      "  likely near C:\\Users\\User\\.julia\\v0.5\\IJulia\\src\\kernel.jl:31\n",
      "in show at C:\\Users\\User\\.julia\\v0.5\\PyCall\\src\\PyCall.jl\n",
      "WARNING: Base.writemime is deprecated.\n",
      "  likely near C:\\Users\\User\\.julia\\v0.5\\IJulia\\src\\kernel.jl:31\n",
      "in show at C:\\Users\\User\\.julia\\v0.5\\PyCall\\src\\PyCall.jl\n",
      "WARNING: Base.writemime is deprecated.\n",
      "  likely near C:\\Users\\User\\.julia\\v0.5\\IJulia\\src\\kernel.jl:31\n",
      "in show at C:\\Users\\User\\.julia\\v0.5\\PyCall\\src\\PyCall.jl\n",
      "WARNING: Base.writemime is deprecated.\n",
      "  likely near C:\\Users\\User\\.julia\\v0.5\\IJulia\\src\\kernel.jl:31\n",
      "in show at C:\\Users\\User\\.julia\\v0.5\\PyCall\\src\\PyCall.jl\n",
      "WARNING: Base.writemime is deprecated.\n",
      "  likely near C:\\Users\\User\\.julia\\v0.5\\IJulia\\src\\kernel.jl:31\n",
      "in show at C:\\Users\\User\\.julia\\v0.5\\PyCall\\src\\PyCall.jl\n",
      "WARNING: Base.writemime is deprecated.\n",
      "  likely near C:\\Users\\User\\.julia\\v0.5\\IJulia\\src\\kernel.jl:31\n",
      "in show at C:\\Users\\User\\.julia\\v0.5\\PyCall\\src\\PyCall.jl\n",
      "WARNING: Base.writemime is deprecated.\n",
      "  likely near C:\\Users\\User\\.julia\\v0.5\\IJulia\\src\\kernel.jl:31\n",
      "in show at C:\\Users\\User\\.julia\\v0.5\\PyCall\\src\\PyCall.jl\n",
      "WARNING: Base.writemime is deprecated.\n",
      "  likely near C:\\Users\\User\\.julia\\v0.5\\IJulia\\src\\kernel.jl:31\n",
      "in show at C:\\Users\\User\\.julia\\v0.5\\PyCall\\src\\PyCall.jl\n",
      "INFO: Cloning cache of DecisionTree from https://github.com/bensadeghi/DecisionTree.jl.git\n"
     ]
    },
    {
     "ename": "LoadError",
     "evalue": "LoadError: Cannot clone DecisionTree from https://github.com/bensadeghi/DecisionTree.jl.git. Failed to receive response: The connection with the server was terminated abnormally\r\n\n in prefetch(::String, ::String, ::Array{String,1}) at .\\pkg\\cache.jl:56\n in resolve(::Dict{String,Base.Pkg.Types.VersionSet}, ::Dict{String,Dict{VersionNumber,Base.Pkg.Types.Available}}, ::Dict{String,Tuple{VersionNumber,Bool}}, ::Dict{String,Base.Pkg.Types.Fixed}, ::Dict{String,VersionNumber}, ::Set{String}) at .\\pkg\\entry.jl:512\n in resolve(::Dict{String,Base.Pkg.Types.VersionSet}, ::Dict{String,Dict{VersionNumber,Base.Pkg.Types.Available}}, ::Dict{String,Tuple{VersionNumber,Bool}}, ::Dict{String,Base.Pkg.Types.Fixed}) at .\\pkg\\entry.jl:476\n in edit(::Function, ::String, ::Base.Pkg.Types.VersionSet, ::Vararg{Base.Pkg.Types.VersionSet,N}) at .\\pkg\\entry.jl:30\n in (::Base.Pkg.Entry.##2#5{String,Base.Pkg.Types.VersionSet})() at .\\task.jl:360\nwhile loading In[9], in expression starting on line 8",
     "output_type": "error",
     "traceback": [
      "LoadError: Cannot clone DecisionTree from https://github.com/bensadeghi/DecisionTree.jl.git. Failed to receive response: The connection with the server was terminated abnormally\r\n\n in prefetch(::String, ::String, ::Array{String,1}) at .\\pkg\\cache.jl:56\n in resolve(::Dict{String,Base.Pkg.Types.VersionSet}, ::Dict{String,Dict{VersionNumber,Base.Pkg.Types.Available}}, ::Dict{String,Tuple{VersionNumber,Bool}}, ::Dict{String,Base.Pkg.Types.Fixed}, ::Dict{String,VersionNumber}, ::Set{String}) at .\\pkg\\entry.jl:512\n in resolve(::Dict{String,Base.Pkg.Types.VersionSet}, ::Dict{String,Dict{VersionNumber,Base.Pkg.Types.Available}}, ::Dict{String,Tuple{VersionNumber,Bool}}, ::Dict{String,Base.Pkg.Types.Fixed}) at .\\pkg\\entry.jl:476\n in edit(::Function, ::String, ::Base.Pkg.Types.VersionSet, ::Vararg{Base.Pkg.Types.VersionSet,N}) at .\\pkg\\entry.jl:30\n in (::Base.Pkg.Entry.##2#5{String,Base.Pkg.Types.VersionSet})() at .\\task.jl:360\nwhile loading In[9], in expression starting on line 8",
      "",
      " in sync_end() at .\\task.jl:311",
      " in macro expansion at .\\task.jl:327 [inlined]",
      " in add(::String, ::Base.Pkg.Types.VersionSet) at .\\pkg\\entry.jl:51",
      " in (::Base.Pkg.Dir.##2#3{Array{Any,1},Base.Pkg.Entry.#add,Tuple{String}})() at .\\pkg\\dir.jl:31",
      " in cd(::Base.Pkg.Dir.##2#3{Array{Any,1},Base.Pkg.Entry.#add,Tuple{String}}, ::String) at .\\file.jl:48",
      " in #cd#1(::Array{Any,1}, ::Function, ::Function, ::String, ::Vararg{Any,N}) at .\\pkg\\dir.jl:31",
      " in add(::String) at .\\pkg\\pkg.jl:100"
     ]
    }
   ],
   "source": [
    "\n",
    "\n",
    "# Python Code source: Gaël Varoquaux\n",
    "#                     Andreas Müller\n",
    "# Julia adaptation: Cédric St-Jean\n",
    "# Modified for documentation by Jaques Grobler\n",
    "# License: BSD 3 clause\n",
    "Pkg.add(\"DecisionTree\")\n",
    "using ScikitLearn\n",
    "using PyCall\n",
    "using PyPlot\n",
    "using ScikitLearn.CrossValidation: train_test_split\n",
    "using DecisionTree\n",
    "#using ScikitLearn.Models: DecisionTreeClassifier, RandomForestClassifier, AdaBoostStumpClassifier\n",
    "@pyimport matplotlib.colors as mplc\n",
    "@sk_import preprocessing: StandardScaler\n",
    "@sk_import datasets: (make_moons, make_circles, make_classification)\n",
    "@sk_import neighbors: KNeighborsClassifier\n",
    "@sk_import svm: SVC\n",
    "@sk_import naive_bayes: GaussianNB\n",
    "@sk_import discriminant_analysis: (LinearDiscriminantAnalysis, QuadraticDiscriminantAnalysis)\n",
    "using ScikitLearn.Utils: meshgrid\n"
   ]
  },
  {
   "cell_type": "code",
   "execution_count": 10,
   "metadata": {
    "collapsed": false
   },
   "outputs": [
    {
     "ename": "LoadError",
     "evalue": "LoadError: UndefVarError: KNeighborsClassifier not defined\nwhile loading In[10], in expression starting on line 6",
     "output_type": "error",
     "traceback": [
      "LoadError: UndefVarError: KNeighborsClassifier not defined\nwhile loading In[10], in expression starting on line 6",
      ""
     ]
    }
   ],
   "source": [
    "h = .02  # step size in the mesh\n",
    "\n",
    "names = [\"Nearest Neighbors\", \"Linear SVM\", \"RBF SVM\", \"Decision Tree (Julia)\",\n",
    "         \"Random Forest (Julia)\", \"AdaBoost (Julia)\", \"Naive Bayes\", \"Linear Discriminant Analysis\",\n",
    "         \"Quadratic Discriminant Analysis\"]\n",
    "classifiers = [\n",
    "    KNeighborsClassifier(3),\n",
    "    SVC(kernel=\"linear\", C=0.025),\n",
    "    SVC(gamma=2, C=1),\n",
    "    DecisionTreeClassifier(pruning_purity_threshold=0.8),\n",
    "    RandomForestClassifier(ntrees=20),\n",
    "    # Note: scikit-learn's adaboostclassifier is better than DecisionTree.jl in this instance\n",
    "    # because it's not restricted to stumps, and the data isn't axis-aligned\n",
    "    AdaBoostStumpClassifier(niterations=30),\n",
    "    GaussianNB(),\n",
    "    LinearDiscriminantAnalysis(),\n",
    "    QuadraticDiscriminantAnalysis()\n",
    "]\n",
    "\n",
    "X, y = make_classification(n_features=2, n_redundant=0, n_informative=2,\n",
    "                           random_state=1, n_clusters_per_class=1)\n",
    "srand(42)\n",
    "X += 2 * rand(size(X)...)\n",
    "linearly_separable = (X, y)\n",
    "\n",
    "datasets = [make_moons(noise=0.3, random_state=0),\n",
    "            make_circles(noise=0.2, factor=0.5, random_state=1),\n",
    "            linearly_separable\n",
    "            ];"
   ]
  },
  {
   "cell_type": "code",
   "execution_count": 11,
   "metadata": {
    "collapsed": false
   },
   "outputs": [
    {
     "ename": "LoadError",
     "evalue": "LoadError: UndefVarError: figure not defined\nwhile loading In[11], in expression starting on line 1",
     "output_type": "error",
     "traceback": [
      "LoadError: UndefVarError: figure not defined\nwhile loading In[11], in expression starting on line 1",
      ""
     ]
    }
   ],
   "source": [
    "fig = figure(figsize=(27, 9))\n",
    "i = 1\n",
    "# iterate over datasets\n",
    "for ds in datasets\n",
    "    # preprocess dataset, split into training and test part\n",
    "    X, y = ds\n",
    "    X = fit_transform!(StandardScaler(), X)\n",
    "    X_train, X_test, y_train, y_test = train_test_split(X, y, test_size=.4)\n",
    "\n",
    "    x_min, x_max = minimum(X[:, 1]) - .5, maximum(X[:, 1]) + .5\n",
    "    y_min, y_max = minimum(X[:, 2]) - .5, maximum(X[:, 2]) + .5\n",
    "    xx, yy = meshgrid(x_min:h:x_max, y_min:h:y_max)\n",
    "\n",
    "    # just plot the dataset first\n",
    "    cm = PyPlot.cm[:RdBu]\n",
    "    cm_bright = mplc.ListedColormap([\"#FF0000\", \"#0000FF\"])\n",
    "    ax = subplot(length(datasets), length(classifiers) + 1, i)\n",
    "    # Plot the training points\n",
    "    ax[:scatter](X_train[:, 1], X_train[:, 2], c=y_train, cmap=cm_bright)\n",
    "    # and testing points\n",
    "    ax[:scatter](X_test[:, 1], X_test[:, 2], c=y_test, cmap=cm_bright, alpha=0.6)\n",
    "\n",
    "    ax[:set_xlim](minimum(xx), maximum(xx))\n",
    "    ax[:set_ylim](minimum(yy), maximum(yy))\n",
    "    ax[:set_xticks](())\n",
    "    ax[:set_yticks](())\n",
    "    i += 1\n",
    "\n",
    "    # iterate over classifiers\n",
    "    for (name, clf) in zip(names, classifiers)\n",
    "        ax = subplot(length(datasets), length(classifiers) + 1, i)\n",
    "        fit!(clf, X_train, y_train)\n",
    "        scor = score(clf, X_test, y_test)\n",
    "\n",
    "        # Plot the decision boundary. For that, we will assign a color to each\n",
    "        # point in the mesh [x_min, m_max]x[y_min, y_max].\n",
    "        try \n",
    "            # Not implemented for some\n",
    "            Z = decision_function(clf, hcat(xx[:], yy[:]))\n",
    "        catch\n",
    "            Z = predict_proba(clf, hcat(xx[:], yy[:]))[:, 2]\n",
    "        end\n",
    "\n",
    "        # Put the result into a color plot\n",
    "        Z = reshape(Z, size(xx)...)\n",
    "        ax[:contourf](xx, yy, Z, cmap=cm, alpha=.8)\n",
    "\n",
    "        # Plot also the training points\n",
    "        ax[:scatter](X_train[:, 1], X_train[:, 2], c=y_train, cmap=cm_bright)\n",
    "        # and testing points\n",
    "        ax[:scatter](X_test[:, 1], X_test[:, 2], c=y_test, cmap=cm_bright,\n",
    "                   alpha=0.6)\n",
    "\n",
    "        ax[:set_xlim](minimum(xx), maximum(xx))\n",
    "        ax[:set_ylim](minimum(yy), maximum(yy))\n",
    "        ax[:set_xticks](())\n",
    "        ax[:set_yticks](())\n",
    "        ax[:set_title](name)\n",
    "\n",
    "        ax[:text](maximum(xx) - .3, minimum(yy) + .3, @sprintf(\"%.2f\", scor),\n",
    "                size=15, horizontalalignment=\"right\")\n",
    "        i += 1\n",
    "    end\n",
    "end\n",
    "fig[:subplots_adjust](left=.02, right=.98)"
   ]
  },
  {
   "cell_type": "code",
   "execution_count": null,
   "metadata": {
    "collapsed": true
   },
   "outputs": [],
   "source": []
  }
 ],
 "metadata": {
  "kernelspec": {
   "display_name": "Julia 0.5.0",
   "language": "julia",
   "name": "julia-0.5"
  },
  "language_info": {
   "file_extension": ".jl",
   "mimetype": "application/julia",
   "name": "julia",
   "version": "0.5.0"
  }
 },
 "nbformat": 4,
 "nbformat_minor": 0
}
