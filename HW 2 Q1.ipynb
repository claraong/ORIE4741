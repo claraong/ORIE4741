{
 "cells": [
  {
   "cell_type": "markdown",
   "metadata": {},
   "source": [
    "# Question 1"
   ]
  },
  {
   "cell_type": "code",
   "execution_count": 59,
   "metadata": {
    "collapsed": false
   },
   "outputs": [
    {
     "name": "stdout",
     "output_type": "stream",
     "text": [
      "(3,1)\n",
      "(1,1)\n",
      "2\n"
     ]
    }
   ],
   "source": [
    "# array\n",
    "u = rand (3 ,1) # vertical\n",
    "v = rand (3 ,1)\n",
    "t = u'*v\n",
    "\n",
    "println (size(t)) # 1 by 1\n",
    "println (ndims(t)) # 2 dimensions\n"
   ]
  },
  {
   "cell_type": "code",
   "execution_count": 62,
   "metadata": {
    "collapsed": false
   },
   "outputs": [
    {
     "name": "stdout",
     "output_type": "stream",
     "text": [
      "x[0.11043002241685151,0.656230953030251,0.6412206388736643]\n",
      "[0.11043002241685151 0.656230953030251 0.6412206388736643]\n",
      "[0.11043002241685151 0.656230953030251 0.6412206388736643]\n",
      "(1,)\n",
      "1\n"
     ]
    }
   ],
   "source": [
    "# vector\n",
    "x = rand (3) # vertical\n",
    "y = rand (3)\n",
    "t = x' *y\n",
    "println('x', x) # with commas\n",
    "println (size(t)) # (1, )\n",
    "println (ndims(t)) # 1 dimensional\n",
    "\n"
   ]
  },
  {
   "cell_type": "code",
   "execution_count": 18,
   "metadata": {
    "collapsed": false
   },
   "outputs": [
    {
     "data": {
      "text/plain": [
       "0.25772894219550735"
      ]
     },
     "execution_count": 18,
     "metadata": {},
     "output_type": "execute_result"
    }
   ],
   "source": [
    "#d = dot(u,v) # can't execute\n",
    "s = sum(u.*v)"
   ]
  },
  {
   "cell_type": "code",
   "execution_count": 29,
   "metadata": {
    "collapsed": false
   },
   "outputs": [
    {
     "name": "stdout",
     "output_type": "stream",
     "text": [
      "1.1243686622558366\n",
      "1.1243686622558366"
     ]
    }
   ],
   "source": [
    "d = dot(x,y) \n",
    "println(d)\n",
    "s = sum(x.*y)\n",
    "print(s)"
   ]
  },
  {
   "cell_type": "code",
   "execution_count": 68,
   "metadata": {
    "collapsed": false
   },
   "outputs": [
    {
     "data": {
      "text/plain": [
       "(1,5)"
      ]
     },
     "execution_count": 68,
     "metadata": {},
     "output_type": "execute_result"
    }
   ],
   "source": [
    "srand(2)\n",
    "A = rand(5,5)\n",
    "column = A[:,1]\n",
    "size(column) # 5 rows, vector\n",
    "row = A[1,:]\n",
    "size (row)# 1 by 5 matrix"
   ]
  },
  {
   "cell_type": "code",
   "execution_count": 87,
   "metadata": {
    "collapsed": false
   },
   "outputs": [
    {
     "name": "stdout",
     "output_type": "stream",
     "text": [
      "[0.36679641243992434 0.5238785747844117 0.21025643065331256 0.8193381354589955 0.5013711485175227]\n",
      "[0.36679641243992434 0.559355291249767 0.14383562117576143 0.24225804087259806 0.13843052661356103]\n"
     ]
    },
    {
     "data": {
      "text/plain": [
       "0.7257125488926944"
      ]
     },
     "execution_count": 87,
     "metadata": {},
     "output_type": "execute_result"
    }
   ],
   "source": [
    "# Method 1: change column vector to horizontal matrix\n",
    "t = reshape(column, 1, 5)\n",
    "println(t)\n",
    "println (row)\n",
    "sum(t.*row);"
   ]
  },
  {
   "cell_type": "code",
   "execution_count": 93,
   "metadata": {
    "collapsed": false
   },
   "outputs": [
    {
     "name": "stdout",
     "output_type": "stream",
     "text": [
      "[0.36679641243992434,0.559355291249767,0.14383562117576143,0.24225804087259806,0.13843052661356103]\n"
     ]
    },
    {
     "data": {
      "text/plain": [
       "0.7257125488926944"
      ]
     },
     "execution_count": 93,
     "metadata": {},
     "output_type": "execute_result"
    }
   ],
   "source": [
    "# Method 2: convert row vector to column matrix\n",
    "a = Float64 []\n",
    "for i in row[1,1:5]\n",
    "    push!(a,i); \n",
    "end\n",
    "println (a) # vertical array\n",
    "\n",
    "b = reshape (a,5,1) # vertical matrix\n",
    "sum (column.*b) # both are vertical"
   ]
  },
  {
   "cell_type": "code",
   "execution_count": null,
   "metadata": {
    "collapsed": true
   },
   "outputs": [],
   "source": []
  }
 ],
 "metadata": {
  "anaconda-cloud": {},
  "kernelspec": {
   "display_name": "Julia 0.4.6",
   "language": "julia",
   "name": "julia-0.4"
  },
  "language_info": {
   "file_extension": ".jl",
   "mimetype": "application/julia",
   "name": "julia",
   "version": "0.4.6"
  }
 },
 "nbformat": 4,
 "nbformat_minor": 0
}
